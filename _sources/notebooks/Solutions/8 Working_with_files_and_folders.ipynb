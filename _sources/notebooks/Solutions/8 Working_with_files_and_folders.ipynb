{
 "cells": [
  {
   "cell_type": "markdown",
   "metadata": {},
   "source": [
    "# 8. Working with files and folders"
   ]
  },
  {
   "cell_type": "markdown",
   "metadata": {},
   "source": [
    "## Exercise 8.1.\n",
    "\n",
    "\n",
    "Find a directory on your own computer which contains both files and subfolders. Define the path to this folder, as a variable named `path`.\n",
    "\n",
    "Next, write some code that can list only the subdirectories in this directories, and which ignores the individual files, using the functions `listdir()` and `isFile`. \n",
    "\n",
    "Finally, also try to list all the files in one of these subdirectories. "
   ]
  },
  {
   "cell_type": "code",
   "execution_count": null,
   "metadata": {},
   "outputs": [],
   "source": [
    "import os\n",
    "from os.path import join, isfile, isdir\n",
    "from os import listdir\n",
    "\n",
    "path = join( '..' )\n",
    "\n",
    "for item in listdir(path):\n",
    "    if not isfile(join( path, item)):\n",
    "        print(item)\n",
    "\n",
    "\n",
    "print('\\nFiles in \"Data\":\\n')\n",
    "        \n",
    "path = join( '..' , 'Data')\n",
    "\n",
    "for item in listdir(path):\n",
    "    if isfile(join( path, item)):\n",
    "        print(item)\n",
    "\n"
   ]
  },
  {
   "cell_type": "markdown",
   "metadata": {},
   "source": [
    "## Exercise 8.2.\n",
    "\n",
    "Download the following file:\n",
    "\n",
    "[https://edu.nl/ggwtf](https://edu.nl/ggwtf)\n",
    "\n",
    "The file contains the text of a poem. Create a new file named\n",
    "‘data.txt’, which gives information about the following aspects of this poem:\n",
    "\n",
    "* The number of lines\n",
    "* The total number of characters in the file\n",
    "* The average number of characters per line\n",
    "* The longest line of the sonnet (i.e. the line with the highest number of characters)\n",
    "\n",
    "The average number of characters per line can be calculated by dividing the total number of characters by the number of lines.\n"
   ]
  },
  {
   "cell_type": "code",
   "execution_count": null,
   "metadata": {},
   "outputs": [],
   "source": [
    "sonnet = open( 'sonnet116.txt' , encoding = 'utf-8' )\n",
    "\n",
    "out = open( 'data.txt' , 'w' )\n",
    "\n",
    "totalNrCharacters = 0\n",
    "lineNr = 0\n",
    "## variable max is the line with the highest number of characters\n",
    "max = ''\n",
    "\n",
    "\n",
    "for line in sonnet:\n",
    "    totalNrCharacters += len(line)\n",
    "    lineNr += 1\n",
    "    if len(line) > len(max):\n",
    "        max = line.strip()\n",
    "\n",
    "out.write( 'Number of lines: {}\\n'.format( lineNr ) )\n",
    "out.write( 'Total number of characters: {}\\n'.format( totalNrCharacters ) )\n",
    "\n",
    "out.write( 'Average number of characters per line: {}\\n'.format( totalNrCharacters / lineNr ) )\n",
    "out.write( \"Longest line: '{}'\\n\".format( max ) )"
   ]
  },
  {
   "cell_type": "markdown",
   "metadata": {},
   "source": [
    "## Exercise 8.3\n",
    "\n",
    "Print the content of the poem that you have downloaded for exercises 8.2 on your screen, and make sure that you also add line numbers, as follows:\n",
    "    \n",
    "```\n",
    "1. [line1]\n",
    "2. [line2]\n",
    "```"
   ]
  },
  {
   "cell_type": "code",
   "execution_count": null,
   "metadata": {},
   "outputs": [],
   "source": [
    "sonnet = open( 'sonnet116.txt' , encoding = 'utf-8' )\n",
    "\n",
    "line_nr = 0\n",
    "\n",
    "for line in sonnet:\n",
    "    line_nr += 1\n",
    "    print(f'{line_nr}. {line}')"
   ]
  }
 ],
 "metadata": {
  "kernelspec": {
   "display_name": "Python 3 (ipykernel)",
   "language": "python",
   "name": "python3"
  },
  "language_info": {
   "codemirror_mode": {
    "name": "ipython",
    "version": 3
   },
   "file_extension": ".py",
   "mimetype": "text/x-python",
   "name": "python",
   "nbconvert_exporter": "python",
   "pygments_lexer": "ipython3",
   "version": "3.7.9"
  }
 },
 "nbformat": 4,
 "nbformat_minor": 2
}
