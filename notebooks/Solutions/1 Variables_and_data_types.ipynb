{
 "cells": [
  {
   "cell_type": "markdown",
   "metadata": {},
   "source": [
    "\n",
    "# 1. Statements, variables and data types\n",
    "\n",
    "## Solutions to exercises"
   ]
  },
  {
   "cell_type": "markdown",
   "metadata": {},
   "source": [
    "### Exercise 1.1.\n",
    "\n",
    "Write code that can print the sentence “Hello world” or any other sentence that you can think of."
   ]
  },
  {
   "cell_type": "code",
   "execution_count": null,
   "metadata": {},
   "outputs": [],
   "source": [
    "print('Hello world!')"
   ]
  },
  {
   "cell_type": "markdown",
   "metadata": {},
   "source": [
    "### Exercise 1.2.\n",
    "\n",
    "\n",
    "Using a single print statement, try to produce the following output:\n",
    "\n",
    "```\n",
    "This is the first line.\n",
    "This second line. contains a        tab. \n",
    "```"
   ]
  },
  {
   "cell_type": "code",
   "execution_count": 1,
   "metadata": {},
   "outputs": [
    {
     "name": "stdout",
     "output_type": "stream",
     "text": [
      "This is the first line.\n",
      "This second line. contains a \ttab. \n"
     ]
    }
   ],
   "source": [
    "print('This is the first line.\\nThis second line. contains a \\ttab. ')"
   ]
  },
  {
   "cell_type": "markdown",
   "metadata": {},
   "source": [
    "### Exercise 1.3.\n",
    "\n",
    "We created two variables named `colour1` and `colour2`, and assign the values blue and yellow to these two variables, respectively.\n",
    "\n",
    "```\n",
    "colour1 = 'blue'\n",
    "colour2 = 'yellow'\n",
    "```\n",
    "\n",
    "Next, write some code which can swap the values of these two variables. In other words, make sure that, at the end of the program, `colour1` has value 'yellow' and `colour2` has value 'blue'. Tip: you can do this by working with a third variable named `swap`, for example, which temporarily stores the value of one of these two variables."
   ]
  },
  {
   "cell_type": "code",
   "execution_count": 5,
   "metadata": {},
   "outputs": [
    {
     "name": "stdout",
     "output_type": "stream",
     "text": [
      "yellow\n",
      "blue\n"
     ]
    }
   ],
   "source": [
    "colour1 = 'blue'\n",
    "colour2 = 'yellow'\n",
    "\n",
    "# Use swap to 'back up' the colour1 value before assigning colour2's value to colour1\n",
    "swap = colour1\n",
    "colour1 = colour2\n",
    "# Restore the original value of colour1 to colour2\n",
    "colour2 = swap\n",
    "\n",
    "print( colour1 )\n",
    "print( colour2 )"
   ]
  },
  {
   "cell_type": "markdown",
   "metadata": {},
   "source": [
    "### Exercise 1.4.\n",
    "\n",
    "Try to debug the code below. "
   ]
  },
  {
   "cell_type": "code",
   "execution_count": null,
   "metadata": {},
   "outputs": [],
   "source": [
    "# You can 'escape' a quote using the backslash\n",
    "print( 'It\\'s not always easy to see the mistakes in your code.' )\n",
    "# Two single quotes are not the same as one double quote!\n",
    "print( \"The ability to debug can be really useful.\" )\n",
    "# Triple quotes allow us to include line breaks and single quotes inside a string\n",
    "print( \"\"\"Don't forget to read the error messages! \n",
    "      They're often very useful.\"\"\")"
   ]
  },
  {
   "cell_type": "markdown",
   "metadata": {},
   "source": [
    "### Exercise 1.5.\n",
    "\n",
    "\n",
    "As will be explained in the next notebook, you can work with variables in calculations. The code below gives an example.\n",
    "\n",
    "```\n",
    "a = 3\n",
    "b = 4\n",
    "c = a+b\n",
    "print(c)\n",
    "```\n",
    "\n",
    "What happens when you try to make calculations with numbers that have different types?\n",
    "\n",
    "To examine this question, convert the type of variable a to a floating point number using the `float()` function. Next, try to determine the type of variable that results from the addition.\n",
    "\n",
    "What happens when you coerce variable a into a string?\n"
   ]
  },
  {
   "cell_type": "code",
   "execution_count": 7,
   "metadata": {},
   "outputs": [
    {
     "name": "stdout",
     "output_type": "stream",
     "text": [
      "7.0\n"
     ]
    }
   ],
   "source": [
    "## When you add a float and an integer, the result becomes a float\n",
    "\n",
    "a = float(3)\n",
    "b = 4\n",
    "c = a+b\n",
    "print(c)\n",
    "print(type(c))"
   ]
  },
  {
   "cell_type": "code",
   "execution_count": 9,
   "metadata": {},
   "outputs": [
    {
     "ename": "TypeError",
     "evalue": "can only concatenate str (not \"int\") to str",
     "output_type": "error",
     "traceback": [
      "\u001b[0;31m---------------------------------------------------------------------------\u001b[0m",
      "\u001b[0;31mTypeError\u001b[0m                                 Traceback (most recent call last)",
      "\u001b[0;32m/var/folders/nf/35gdwksd0fx8kzbsljz4dz6hnrcnxq/T/ipykernel_8116/993437503.py\u001b[0m in \u001b[0;36m<module>\u001b[0;34m\u001b[0m\n\u001b[1;32m      3\u001b[0m \u001b[0ma\u001b[0m \u001b[0;34m=\u001b[0m \u001b[0mstr\u001b[0m\u001b[0;34m(\u001b[0m\u001b[0;36m3\u001b[0m\u001b[0;34m)\u001b[0m\u001b[0;34m\u001b[0m\u001b[0;34m\u001b[0m\u001b[0m\n\u001b[1;32m      4\u001b[0m \u001b[0mb\u001b[0m \u001b[0;34m=\u001b[0m \u001b[0;36m4\u001b[0m\u001b[0;34m\u001b[0m\u001b[0;34m\u001b[0m\u001b[0m\n\u001b[0;32m----> 5\u001b[0;31m \u001b[0mc\u001b[0m \u001b[0;34m=\u001b[0m \u001b[0ma\u001b[0m\u001b[0;34m+\u001b[0m\u001b[0mb\u001b[0m\u001b[0;34m\u001b[0m\u001b[0;34m\u001b[0m\u001b[0m\n\u001b[0m\u001b[1;32m      6\u001b[0m \u001b[0mprint\u001b[0m\u001b[0;34m(\u001b[0m\u001b[0mc\u001b[0m\u001b[0;34m)\u001b[0m\u001b[0;34m\u001b[0m\u001b[0;34m\u001b[0m\u001b[0m\n",
      "\u001b[0;31mTypeError\u001b[0m: can only concatenate str (not \"int\") to str"
     ]
    }
   ],
   "source": [
    "## When you add a string and an integer, Python produces an error message\n",
    "\n",
    "a = str(3)\n",
    "b = 4\n",
    "c = a+b\n",
    "print(c)"
   ]
  }
 ],
 "metadata": {
  "kernelspec": {
   "display_name": "Python 3 (ipykernel)",
   "language": "python",
   "name": "python3"
  },
  "language_info": {
   "codemirror_mode": {
    "name": "ipython",
    "version": 3
   },
   "file_extension": ".py",
   "mimetype": "text/x-python",
   "name": "python",
   "nbconvert_exporter": "python",
   "pygments_lexer": "ipython3",
   "version": "3.7.9"
  }
 },
 "nbformat": 4,
 "nbformat_minor": 2
}
