{
 "cells": [
  {
   "cell_type": "markdown",
   "metadata": {},
   "source": [
    "# Installation guidelines\n",
    "\n",
    "## Install Python\n",
    "\n",
    "Please make sure that you have installed a recent version of Python (Python 3.7 or higher) before starting this tutorial. \n",
    "\n",
    "We strongly advise you to install the Anaconda distribution of Python 3. The installation files can be found at the following address:\n",
    "\n",
    "https://www.anaconda.com/distribution/#download-section\n",
    "\n",
    "On this page, you can find separate instructions for Windows, Mac and Linux. Next to Python itself, the Anaconda distribution also contains Jupyter Notebook, an environment that can be used to document and to execute Python code. We will use Jupyter Notebooks in this course.\n",
    "\n",
    "See Anaconda's installation instructions for some important points to consider during installation. For example, the installation path must not contain spaces. If you want to use Anaconda Python from the command line, it helps to add Anaconda to your PATH during the installation, even though this is not recommended by the installer.\n",
    "\n",
    "If you experience difficulties during the installation of this software, do not hesitate to contact [the CDS via email](mailto:cds@library.leidenuniv.nl). If necessary, you can make an appointment and ask us to help you install the software. \n"
   ]
  }
 ],
 "metadata": {
  "kernelspec": {
   "display_name": "Python 3 (ipykernel)",
   "language": "python",
   "name": "python3"
  },
  "language_info": {
   "codemirror_mode": {
    "name": "ipython",
    "version": 3
   },
   "file_extension": ".py",
   "mimetype": "text/x-python",
   "name": "python",
   "nbconvert_exporter": "python",
   "pygments_lexer": "ipython3",
   "version": "3.7.9"
  }
 },
 "nbformat": 4,
 "nbformat_minor": 2
}
