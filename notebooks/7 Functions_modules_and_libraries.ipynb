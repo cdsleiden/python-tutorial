{
 "cells": [
  {
   "cell_type": "markdown",
   "metadata": {},
   "source": [
    "# 7. Functions, Modules and Libraries\n",
    "\n",
    "So far we have seen and used small pieces of code that perform small tasks.\n",
    "If we wanted to use the same code with a different input, we either changed the original code or copied the whole *block* and changed that copy.\n",
    "That is not only inefficient, it is easier to lose overview of what the code does.\n",
    "\n",
    "In this section we will look at ways to combine and reuse pieces of code.\n",
    "We introduce quite a few new terms, so please don't get discouraged.\n",
    "\n",
    "## Functions\n",
    "\n",
    "Imagine that you need to write a program in Python which can calculate the final grades earned by students who have followed a certain course. Such grades are normally calculated using a fixed formula (e.g. a mid-term assignment which counts for 40% and a final exam which counts for 60%). To calculate the final grades, this formula needs to be applied repeatedly with different values. In such a situation, it would be quite inefficient if you simply repeated the code that is needed for every single student. In most programming languages, fortunately, it is also possible to reuse fragments of code by defining these as functions.\n",
    "\n",
    "A function is essentially a set of statements which can be addressed collectively via a single name. Python has a number of in-built functions, such as `print()` or `len()`. As you have seen, such functions represent certain actions. To have these actions executed, you need to refer to the names of these functions in your programs. These function often take one or more parameters as input. These are values that need to be supplied to the function and that the fuinction will work with. \n",
    "\n",
    "The in-built function `round()`, for example, takes two parameters. You firstly need to provide a floating point number. Secondly, you need to specify how many digits you would like to see following the decimal point. "
   ]
  },
  {
   "cell_type": "code",
   "execution_count": null,
   "metadata": {},
   "outputs": [],
   "source": [
    "round(4.55892, 2)"
   ]
  },
  {
   "cell_type": "markdown",
   "metadata": {},
   "source": [
    "Next to working with in-built functions, it is also possible to write your own functions. Working with functions can often be very effective. It enables you to decompose specific problem into smaller sub-problems and into units which can be reused as often as needed. As illustrated in the code below, functions can be created using the `def` keyword."
   ]
  },
  {
   "cell_type": "code",
   "execution_count": null,
   "metadata": {},
   "outputs": [],
   "source": [
    "def calculateFinalMark( midTerm, exam ):\n",
    "    finalMark = 0.4 * midTerm\n",
    "    finalMark += 0.6 * exam\n",
    "    return round(finalMark,1)\n",
    "\n",
    "print( f'Final grade: {calculateFinalMark( 8 , 9 )} ')\n",
    "print( f'Final grade: {calculateFinalMark( 4 , 10 )} ')\n",
    "print( f'Final grade: {calculateFinalMark( 6 , 7 )} ')\n",
    "\n"
   ]
  },
  {
   "cell_type": "markdown",
   "metadata": {},
   "source": [
    "The first four lines of the code above define the function `calculateFinalMark()`. The `def` keyword needs to be followed by the name of the function, which you can specify yourself. The name of the function also needs to end in a set of parentheses. Within these parentheses, you can optionally mention the values the function should operate on. As was indicated above, the values mentioned within the parentheses are called the parameters of the function. If there are two or more parameters, these need to be separated by commas. In the example above, a certain calculation is carried out within the function, using the parameters that are supplied, and the result of this calculation is mentioned after the keyword `return`.\n",
    "\n",
    "Once the function has been defined, it can be used, or invoked, on other locations in your program. The `print` statements on the final three lines will show the result of the calculation that is returned by the function, using the values that are mentioned within the parentheses as a basis. \n",
    "\n",
    "\n",
    "## Classes\n",
    "\n",
    "Python is based on a programming paradigm which is known as object-oriented programming. This paradigm, in short, involves an organisation in which variables and functions which are closely related can be brought together in structure known as a class.  In the example below, the variables named `title` and `isbn`, and the function named `describe()` are brought together in a class named ‘Book’. \n",
    "\n",
    "A class can also be instantiated. An instance of a class is called an object, and this object can be given a new name. For this newly created object, all the variables and all the functions which are defined in the class can also be accessed, by appending the names of the variables or functions to the dot following the object name. This notation is called the ‘period syntax’. Functions defined within classes are referred to as methods. A class thus functions as a blueprint or as a template for new types of objects."
   ]
  },
  {
   "cell_type": "code",
   "execution_count": null,
   "metadata": {},
   "outputs": [],
   "source": [
    "class Book:\n",
    "    def __init__(self, title, isbn ):\n",
    "        self.title = title\n",
    "        self.isbn = isbn\n",
    "\n",
    "    def describe(self):\n",
    "        print(\"Title: \" + self.title)\n",
    "        print(\"ISBN: \" + str(self.isbn))\n",
    "\n",
    "title1 = Book(\"A Room with a View\", \"978-1420925432\")\n",
    "title1.describe()\n"
   ]
  },
  {
   "cell_type": "markdown",
   "metadata": {},
   "source": [
    "\n",
    "In the code above, a new object is created based on the class `Book`, named `title1`. In the definition of this particular class, it was specified that the title and the ISBN always needs to be provided upon the initiation of a `Book` object. Once the class `Book` has been instantiated in this way, the object based on the class specifications can make use of all the methods of the class. The method `describe()`, for instance, simply prints the values that have been assigned to the object. \n",
    "\n",
    "In Python, all strings are saved as instances of the general `str` (string) class. This class has methods such as `lower()`, `strip()` and `index()`. If you want to use these methods, they need to be added to the name of the object (i.e. the instantiation of the Class) using the 'period syntax'.  \n",
    "\n",
    "\n",
    "## Modules, packages and libraries\n",
    "\n",
    "\n",
    "When you have a number of functions of classes that perform similar or related activities, these can all be placed together in a Python file. Such a file containing related functions, statements or classes is called a module. Such modules can be imported into other scipts using the `import` command. A module, in short, is a file with code that you can reuse across different programs. \n",
    "\n",
    "The term 'Python library' generally refers to a collection of related modules. These libraries, in turn, are mostly distributed as packages. Once installed, a Python package is a directory on your computer which contains a library. A library contains code that you can reuse.\n",
    "\n",
    "The library named `os`, for instance, contain various methods with let you work with files and folders on your opertaing system. To work wit this library, you need to use the following command:"
   ]
  },
  {
   "cell_type": "code",
   "execution_count": null,
   "metadata": {},
   "outputs": [],
   "source": [
    "import os"
   ]
  },
  {
   "cell_type": "markdown",
   "metadata": {},
   "source": [
    "`os` stands for 'Operating System'. This library will be discussed in more detail in the section focusing on working with files and directories.\n",
    "\n",
    "Once imported, all the functions and the classes that are defined within this library can be used via the period syntax. The function `listdir()`, for instance, can be invoked using the code below:"
   ]
  },
  {
   "cell_type": "code",
   "execution_count": null,
   "metadata": {},
   "outputs": [],
   "source": [
    "files = os.listdir('Corpus')"
   ]
  },
  {
   "cell_type": "markdown",
   "metadata": {},
   "source": [
    "\n",
    "\t\n",
    "  \n",
    "\n",
    "  \n",
    "Alternatively, it is also possible to import individual functions from a module.\n",
    "\n",
    "\n",
    "  \n",
    "\n",
    "\t\n",
    "\n"
   ]
  },
  {
   "cell_type": "code",
   "execution_count": null,
   "metadata": {},
   "outputs": [],
   "source": [
    "from os import listdir"
   ]
  },
  {
   "cell_type": "markdown",
   "metadata": {},
   "source": [
    "This second way of importing code has the advantage that it is no longer necessary to use the period syntax. The function can then be used without referencing the name of the module:\n"
   ]
  },
  {
   "cell_type": "code",
   "execution_count": null,
   "metadata": {},
   "outputs": [],
   "source": [
    "files = listdir('Corpus')"
   ]
  },
  {
   "cell_type": "markdown",
   "metadata": {},
   "source": [
    "# Exercises"
   ]
  },
  {
   "cell_type": "markdown",
   "metadata": {},
   "source": [
    "## Exercise 7.1.\n",
    "\n",
    "In a given university course, the final grade is determined by grade for essay and by the grade for a presentation. The presentation counts for 30% and the essay for 70%. Write two functions: (1) one function which can calculate the final grade based on a set of partial grades. Grades must be rounded to integers. 5.4, for example, becomes 5 and 6.6 becomes 7. (2) Write a second function which can determine whether a given grade is at a pass level (i.e. higher than 6). This function must return a boolean value, in which 'pass' is true and 'fail' equals false.    "
   ]
  },
  {
   "cell_type": "code",
   "execution_count": null,
   "metadata": {},
   "outputs": [],
   "source": [
    "# Function calculateMark determines the final mark\n",
    "\n",
    "\n",
    "# Function isPass determines 'Pass' or 'Fail'\n",
    "\n",
    "\n",
    "# Let's try them:\n",
    "essay1 = 7.0\n",
    "presentation1 = 8.5\n",
    "final1 = calculateMark(essay1, presentation1)\n",
    "print( \"final grade: {} ({})\".format( final1 , isPass(final1) )  ) \n",
    "\n",
    "essay2 = 4.5\n",
    "presentation2 = 5.5\n",
    "final2 = calculateMark(essay2, presentation2)\n",
    "print( \"final grade: {} ({})\".format( final2 , isPass(final2) )  ) \n"
   ]
  },
  {
   "cell_type": "markdown",
   "metadata": {},
   "source": [
    "## Exercise 7.2.\n",
    "\n",
    "Import the math library, as follows: \n",
    "\n",
    "```\n",
    "from math import *\n",
    "```\n",
    "\n",
    "This command simply imports all the available functions from the math library. Use the functions `log10()`, `pow()`, `sqrt()` and `cos()` to generate the following numbers: \n",
    "\n",
    "* The base-10 logarithm of 5.\n",
    "* 3 raised to the power of 4\n",
    "* The square root of 144\n",
    "* The cosine of 60 radians."
   ]
  },
  {
   "cell_type": "code",
   "execution_count": null,
   "metadata": {},
   "outputs": [],
   "source": [
    "# Import the library\n",
    "\n",
    "\n",
    "# Print the four numbers\n"
   ]
  },
  {
   "cell_type": "markdown",
   "metadata": {},
   "source": [
    "## Exercise 7.3. \n",
    "\n",
    "Write a function which can convert a given temperature in degrees Celcius into the equivalent in Fahrenheit. Use the following formula: F = 1.8 * C + 32.\n",
    "\n",
    "Once the function is ready, test it with a number of values. 20 degrees Celcius ought to be converted into 68 degrees Fahrenheit, and 37 degrees Celcius should equal 98.6 degrees Fahrenheit. "
   ]
  },
  {
   "cell_type": "code",
   "execution_count": null,
   "metadata": {},
   "outputs": [],
   "source": []
  },
  {
   "cell_type": "markdown",
   "metadata": {},
   "source": [
    "## Exercise 7.4.\n",
    "\n",
    "Following Pythagoras' theorem (A<sup>2</sup> + B<sup>2</sup> = C<sup>2</sup>), calculate the length of the hypothenuse in a right trangle in which the other two sides have a length of 6 and 7. Make use of the math module. "
   ]
  },
  {
   "cell_type": "code",
   "execution_count": null,
   "metadata": {},
   "outputs": [],
   "source": []
  }
 ],
 "metadata": {
  "celltoolbar": "Tags",
  "kernelspec": {
   "display_name": "Python 3 (ipykernel)",
   "language": "python",
   "name": "python3"
  },
  "language_info": {
   "codemirror_mode": {
    "name": "ipython",
    "version": 3
   },
   "file_extension": ".py",
   "mimetype": "text/x-python",
   "name": "python",
   "nbconvert_exporter": "python",
   "pygments_lexer": "ipython3",
   "version": "3.9.7"
  }
 },
 "nbformat": 4,
 "nbformat_minor": 2
}
