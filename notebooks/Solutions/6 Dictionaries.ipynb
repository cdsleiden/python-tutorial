{
 "cells": [
  {
   "cell_type": "markdown",
   "metadata": {},
   "source": [
    "# 6. Dictionaries\n"
   ]
  },
  {
   "cell_type": "markdown",
   "metadata": {},
   "source": [
    "### Exercise 6.1.\n",
    "\n",
    "The keys in a dictionary may consist of labels describing the values we are dealing with. The dictionary named `person_data` in the  cell below is used to capture biographical information. Use this dictionary to print the following sentence: \n",
    "\n",
    "\"Isaac Newton was born in 1642 in Woolsthorpe.\""
   ]
  },
  {
   "cell_type": "code",
   "execution_count": null,
   "metadata": {},
   "outputs": [],
   "source": [
    "person_data = dict()\n",
    "\n",
    "person_data['first_name'] = 'isaac'\n",
    "person_data['last_name'] = 'newton'\n",
    "person_data['year_of_birth'] = 1642\n",
    "person_data['place_of_birth'] = 'woolsthorpe'\n",
    "\n",
    "# We create a sentence variable, to make the code more readable\n",
    "# Remember that we can use the title() method to capitalise the first character.\n",
    "\n",
    "sentence = f\"{person_data['first_name'].title()} {person_data['last_name'].title()}\"\n",
    "sentence += f\" was born in {person_data['year_of_birth']}\"\n",
    "sentence += f\" in {person_data['place_of_birth'].title()}.\"\n",
    "\n",
    "print(sentence)"
   ]
  },
  {
   "cell_type": "markdown",
   "metadata": {},
   "source": [
    "## Exercise 6.2.\n",
    "\n",
    "Create a dictionary that can be used to connect ISBN codes to the titles of the books they identify. The name of this dictionary must be `books_by_isbn`. Using the second method that was discussed to create a dictionaries.  \n",
    "\n",
    "Upon its creation, the dictionary should be assigned the following items: \n",
    "\n",
    "```\n",
    "ISBN: 9780143105985\n",
    "title: 'White Noise'\n",
    "\n",
    "ISBN: 9781447289395 \n",
    "Title: 'Underworld'\n",
    "```\n",
    "\n",
    "After this, write code to add the following book individually: \n",
    "\n",
    "```\n",
    "ISBN: 9780330452236\n",
    "Title: 'Falling Man'\n",
    "```\n",
    "\n",
    "Finally, print a list of all the novels in the dictionary 'books_by_isbn'. For each item in the dictionary, print the sentence 'The ISBN of the novel '[title]' is [ISBN]'. \n",
    "\n",
    "Make sure that the code returns the string undefined if the isbn that is mentioned has not been addto the dictionary yet. "
   ]
  },
  {
   "cell_type": "code",
   "execution_count": null,
   "metadata": {},
   "outputs": [],
   "source": [
    "books_by_isbn = { \n",
    "    9780143105985:'White Noise',\n",
    "    9781447289395:'Underworld' }\n",
    "\n",
    "books_by_isbn[9780330452236]='Falling Man'\n",
    "\n",
    "for isbn in books_by_isbn:\n",
    "    print( f\"The ISBN of the novel '{books_by_isbn.get(isbn,'[Undefined]')}' is {isbn}.\" )"
   ]
  },
  {
   "cell_type": "markdown",
   "metadata": {},
   "source": [
    "### Exercise 6.3. \n",
    "\n",
    "The cell below creates a dictionary named `language_code` and a list named `language_code`. Using these two variables, try to print the **names** of the languages that are given in the list named `languages`. The output should look as follows:\n",
    "\n",
    "```\n",
    "The list contains the following countries:\n",
    "German\n",
    "Spanish\n",
    "English\n",
    "```"
   ]
  },
  {
   "cell_type": "code",
   "execution_count": null,
   "metadata": {},
   "outputs": [],
   "source": [
    "language_code = dict()\n",
    "language_code['dut'] = 'Dutch'\n",
    "language_code['fre'] = 'French'\n",
    "language_code['eng'] = 'English'\n",
    "language_code['ger'] = 'German'\n",
    "language_code['spa'] = 'Spanish'\n",
    "language_code['por'] = 'Portuguese'\n",
    "language_code['swe'] = 'Swedish'\n",
    "\n",
    "languages = ['ger','spa','eng']\n",
    "\n",
    "print('The list contains the following countries:')\n",
    "\n",
    "for language in languages:\n",
    "    print( language_code[language] )"
   ]
  },
  {
   "cell_type": "markdown",
   "metadata": {},
   "source": [
    "## Exercise 6.4.\n",
    "\n",
    "The dictionary named `country_continent`, defined below, connects the names of countries to the continents they are on. \n",
    "\n",
    "Print a list of all the countries in this dictionary that are in Asia. The list needs to be sorted alphabetically. "
   ]
  },
  {
   "cell_type": "code",
   "execution_count": null,
   "metadata": {},
   "outputs": [],
   "source": [
    "country_continent = {\n",
    "\"Belgium\":\"Europe\", \n",
    "\"France\":\"Europe\", \n",
    "\"Italy\":\"Europe\", \n",
    "\"China\":\"Asia\",\n",
    "\"Thailand\":\"Asia\",\n",
    "\"Japan\":\"Asia\", \n",
    "\"India\":\"Asia\", \n",
    "\"Bangladesh\":\"Asia\", \n",
    "\"Ghana\":\"Africa\", \n",
    "\"Tunesia\":\"Africa\" }\n",
    "\n",
    "for country in sorted(country_continent):\n",
    "    if country_continent[country] == 'Asia':\n",
    "        print(country)"
   ]
  },
  {
   "cell_type": "markdown",
   "metadata": {},
   "source": [
    "### Exercise 6.5.\n",
    "\n",
    "The dictionary named `eu_capitals` connects the countries in the European Union to their capitals."
   ]
  },
  {
   "cell_type": "code",
   "execution_count": null,
   "metadata": {},
   "outputs": [],
   "source": [
    "# Create the dictionary\n",
    "eu_capitals = {\n",
    "    'Italy': 'Rome', 'Luxembourg': 'Luxembourg',\n",
    "    'Belgium': 'Brussels', 'Denmark': 'Copenhagen',\n",
    "    'Finland': 'Helsinki', 'France': 'Paris',\n",
    "    'Slovakia': 'Bratislava', 'Slovenia': 'Ljubljana',\n",
    "    'Germany': 'Berlin', 'Greece': 'Athens',\n",
    "    'Ireland': 'Dublin', 'Netherlands': 'Amsterdam',\n",
    "    'Portugal': 'Lisbon', 'Spain': 'Madrid',\n",
    "    'Sweden': 'Stockholm',\n",
    "    'Cyprus': 'Nicosia', 'Lithuania': 'Vilnius', \n",
    "    'Czech Republic': 'Prague', 'Estonia': 'Tallin',\n",
    "    'Hungary': 'Budapest', 'Latvia': 'Riga',\n",
    "    'Malta': 'Valetta', 'Austria': 'Vienna',\n",
    "    'Poland': 'Warsaw', 'Croatia': 'Zagreb',\n",
    "    'Romania': 'Bucharest', 'Bulgaria': 'Sofia'\n",
    "}\n"
   ]
  },
  {
   "cell_type": "markdown",
   "metadata": {},
   "source": [
    "Using this dictionary, print a sentence which gives information about the current number of countries in the EU. The number of items in a dictionary can be determined using the `len()` function.  "
   ]
  },
  {
   "cell_type": "code",
   "execution_count": null,
   "metadata": {},
   "outputs": [],
   "source": [
    "print( f'The EU currently has {len(eu_capitals)} member countries:' )"
   ]
  },
  {
   "cell_type": "markdown",
   "metadata": {},
   "source": [
    "Print a list of all the countries of the EU in alphabetical order."
   ]
  },
  {
   "cell_type": "markdown",
   "metadata": {},
   "source": [
    "For each country, print the following sentence: \"The capital of [ *country* ] is [ *capital* ].\""
   ]
  },
  {
   "cell_type": "code",
   "execution_count": null,
   "metadata": {},
   "outputs": [],
   "source": [
    "for country in sorted(eu_capitals):\n",
    "    print( f'The capital of {country} is {eu_capitals[country]}.' )"
   ]
  },
  {
   "cell_type": "code",
   "execution_count": null,
   "metadata": {},
   "outputs": [],
   "source": []
  }
 ],
 "metadata": {
  "kernelspec": {
   "display_name": "Python 3 (ipykernel)",
   "language": "python",
   "name": "python3"
  },
  "language_info": {
   "codemirror_mode": {
    "name": "ipython",
    "version": 3
   },
   "file_extension": ".py",
   "mimetype": "text/x-python",
   "name": "python",
   "nbconvert_exporter": "python",
   "pygments_lexer": "ipython3",
   "version": "3.7.9"
  },
  "vscode": {
   "interpreter": {
    "hash": "b0fa6594d8f4cbf19f97940f81e996739fb7646882a419484c72d19e05852a7e"
   }
  }
 },
 "nbformat": 4,
 "nbformat_minor": 2
}
