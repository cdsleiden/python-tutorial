{
 "cells": [
  {
   "cell_type": "markdown",
   "metadata": {},
   "source": [
    "# 5. Lists\n"
   ]
  },
  {
   "cell_type": "markdown",
   "metadata": {},
   "source": [
    "## Exercise 5.1\n",
    "\n",
    "The list named `titles` below brings together a number of book titles. Print a sentence that gives information about the number of books in this list of titles. \n",
    "Next, create a new list named `last_two` containing only the last two titles in this series. "
   ]
  },
  {
   "cell_type": "code",
   "execution_count": null,
   "metadata": {},
   "outputs": [],
   "source": [
    "titles = [\"Philosopher's Stone\",\"Chamber of Secrets\",\"Prisoner of Azkaban\",\n",
    "          \"Goblet of Fire\",\"Order of the Phoenix\",\"Half-Blood Prince\",\"Deathly Hallows\"]\n",
    "\n",
    "print(f'This book series consists of {len(titles)} titles.')\n",
    "\n",
    "last_two = titles[-2:]\n",
    "print(last_two)\n",
    "\n",
    "## An alternative solution with the exact same effect\n",
    "last_two = titles[5:]\n",
    "print(last_two)"
   ]
  },
  {
   "cell_type": "markdown",
   "metadata": {},
   "source": [
    "## Exercise 5.2.\n",
    "\n",
    "Create the following list:\n",
    "\n",
    "```\n",
    "colours = ['green','blue','red']\n",
    "```\n",
    "\n",
    "Add the colours 'orange' and 'yellow' to this list. "
   ]
  },
  {
   "cell_type": "code",
   "execution_count": null,
   "metadata": {},
   "outputs": [],
   "source": [
    "colours = ['green','blue','red']\n",
    "\n",
    "colours.append('orange')\n",
    "colours.append('yellow')\n",
    "\n",
    "# Let's see the results\n",
    "print(colours)"
   ]
  },
  {
   "cell_type": "markdown",
   "metadata": {},
   "source": [
    "## Exercise 5.3.\n",
    "\n",
    "The list named years brings together a number of years. Use the keywords `for` and `if` to select the years from this list that are in the 18th century. Remember that you can combine multiple Boolean expressions using `and`.\n"
   ]
  },
  {
   "cell_type": "code",
   "execution_count": null,
   "metadata": {},
   "outputs": [],
   "source": [
    "years = [ 1756, 1575, 2002, 1984 ,1626 ,1791, 1714, 1873, 1991 ]\n",
    "\n",
    "# Print years that are in the 18th century\n",
    "for year in years:\n",
    "    if year > 1700 and year < 1800:\n",
    "        print( f'{year} is in the 18th century.') \n"
   ]
  },
  {
   "cell_type": "markdown",
   "metadata": {},
   "source": [
    "## Exercise 5.4.\n",
    "\n",
    "We have two lists of numbers and would like to know which numbers in the first list are not in the second list.\n",
    "\n",
    "Write code which can extract those numbers from the first list that are **not** in the second list."
   ]
  },
  {
   "cell_type": "code",
   "execution_count": null,
   "metadata": {},
   "outputs": [],
   "source": [
    "first = [4, 9, 1, 17, 11, 26, 28, 54, 63] \n",
    "second = [8, 9, 74, 21, 45, 11, 63, 28, 26]\n",
    "\n",
    "numbers_not_in_second = []\n",
    "\n",
    "# Add the numbers from `first` that are not in `second` to `numbers_not_in_second`\n",
    "for f in first:\n",
    "    if f not in second:\n",
    "        numbers_not_in_second.append(f)\n",
    "\n",
    "print(numbers_not_in_second)"
   ]
  },
  {
   "cell_type": "markdown",
   "metadata": {},
   "source": [
    "## Exercise 5.5.\n",
    "\n",
    "The list below contains the titles of first twelve plays written by William Shakespeare.\n",
    "\n",
    "```\n",
    "plays = [ 'Comedy of Errors' ,\n",
    "'Henry VI, Part I' ,\n",
    "'Henry VI, Part II' ,\n",
    "'Henry VI, Part III' ,\n",
    "'Richard III' ,\n",
    "'Taming of the Shrew' ,\n",
    "'Titus Andronicus' ,\n",
    "'Romeo and Juliet' ,\n",
    "'Two Gentlemen of Verona' ,\n",
    "'Love\\'s Labour\\'s Lost' ,\n",
    "'Richard II' ,\n",
    "'Midsummer Night\\'s Dream' ]```\n",
    "\n",
    "Add the following two titles to this list:\n",
    " \n",
    "* Macbeth\n",
    "* Othello\n",
    "\n",
    "Next, count the number of plays in this list and print the titles of the first and the last plays in the list, using the index of these items. \n",
    "Print the full list in alphabetical order using the ‘for’ keyword.\n"
   ]
  },
  {
   "cell_type": "code",
   "execution_count": null,
   "metadata": {},
   "outputs": [],
   "source": [
    "plays = [\n",
    "    'Comedy of Errors',\n",
    "    'Henry VI, Part I',\n",
    "    'Henry VI, Part II',\n",
    "    'Henry VI, Part III',\n",
    "    'Richard III',\n",
    "    'Taming of the Shrew',\n",
    "    'Titus Andronicus',\n",
    "    'Romeo and Juliet',\n",
    "    'Two Gentlemen of Verona',\n",
    "    'Love\\'s Labour\\'s Lost',\n",
    "    'Richard II',\n",
    "    'Midsummer Night\\'s Dream'\n",
    "]"
   ]
  },
  {
   "cell_type": "markdown",
   "metadata": {},
   "source": [
    "Add the following two titles to this list:\n",
    "\n",
    "* Macbeth\n",
    "* Othello"
   ]
  },
  {
   "cell_type": "code",
   "execution_count": null,
   "metadata": {},
   "outputs": [],
   "source": [
    "# Use my_list.append(item_to_add) to add items to a list\n",
    "plays.append('Macbeth')\n",
    "plays.append('Othello')"
   ]
  },
  {
   "cell_type": "markdown",
   "metadata": {},
   "source": [
    "Next, count the number of plays in this list."
   ]
  },
  {
   "cell_type": "code",
   "execution_count": null,
   "metadata": {},
   "outputs": [],
   "source": [
    "# Use the len(my_list) function to count the items in the list\n",
    "print( f'This list contains {len(plays)} plays.' )"
   ]
  },
  {
   "cell_type": "markdown",
   "metadata": {},
   "source": [
    "Print the titles of the first and the last plays in the list, using the index of these items."
   ]
  },
  {
   "cell_type": "code",
   "execution_count": null,
   "metadata": {},
   "outputs": [],
   "source": [
    "print( f\"The first play in the list is '{plays[0]}'.\" )\n",
    "print( f\"The last play in the list is '{plays[-1]}'.\" )"
   ]
  },
  {
   "cell_type": "markdown",
   "metadata": {},
   "source": [
    "Print the full list in alphabetical order using the `for` keyword."
   ]
  },
  {
   "cell_type": "code",
   "execution_count": null,
   "metadata": {},
   "outputs": [],
   "source": [
    "# Use sorted(my_list) to get the list's element in sorted order\n",
    "for p in sorted(plays):\n",
    "    print(p)"
   ]
  },
  {
   "cell_type": "markdown",
   "metadata": {},
   "source": [
    "## Exercise 5.6.\n",
    "\n",
    "We have a list of websites and are interested to find the Dutch ones.\n",
    "\n",
    "Write some code to select the Dutch websites from this list.\n",
    "Tip: You may want to reuse some of the code developed for exercise 3.4."
   ]
  },
  {
   "cell_type": "code",
   "execution_count": null,
   "metadata": {},
   "outputs": [],
   "source": [
    "websites = [\n",
    "    'https://www.universiteitleiden.nl',\n",
    "    'https://www.stanford.edu',\n",
    "    'https://www.uu.nl',\n",
    "    'http://www.ox.ac.uk',\n",
    "    'https://www.rug.nl',\n",
    "    'https://www.hu-berlin.de',\n",
    "    'https://www.uva.nl'\n",
    "]\n",
    "\n",
    "# Print the URLs that belong to Dutch institutions\n",
    "for url in websites:\n",
    "    # Extract the top-level domain, i.e. everything after the final dot\n",
    "    # You can leave out the end index of the 'slice' to get everything until the end of the string\n",
    "    top_level_domain = url[ url.rindex('.') + 1 : ]\n",
    "    # Dutch institutions have a '.nl' website\n",
    "    if top_level_domain == 'nl':\n",
    "        print(url)"
   ]
  },
  {
   "cell_type": "markdown",
   "metadata": {},
   "source": [
    "## Exercise 5.7.\n",
    "\n",
    "We have a quote from E.M. Forster’s *A Room with a View* below and want to get a few statistics about it."
   ]
  },
  {
   "cell_type": "code",
   "execution_count": null,
   "metadata": {},
   "outputs": [],
   "source": [
    "quote = '''We cast a shadow on something wherever we stand, and it is no good \n",
    "moving from place to place to save things; because the shadow always follows. Choose \n",
    "a place where you won’t do harm - yes, choose a place where you won’t do very much \n",
    "harm, and stand in it for all you are worth, facing the sunshine.'''"
   ]
  },
  {
   "cell_type": "markdown",
   "metadata": {},
   "source": [
    "First we'd like to know the total number of words. Here we say that the words are all the strings separated by spaces.\n",
    "That means \"won't\" is a word in the quote, as well as \"stand,\" (including the comma).\n",
    "It depends on the context of the research if this is okay, or that you need to further process the words before you count them.\n",
    "\n",
    "We can convert a string to a list of words, using the `split()` method.\n",
    "This method can convert a string into a list, based on a character or space that occurs in this string.\n",
    "This `split()` method must be added after the the string variable, using a dot, as follows:\n",
    "\n",
    "```python\n",
    "quote.split(string_to_split_on)\n",
    "quote.split()\n",
    "# Not specifying what to split on is the same as splitting by a space, like this:\n",
    "quote.split(' ')\n",
    "```\n",
    "\n",
    "Use this `split()` method to give information about the total number of words in this quote."
   ]
  },
  {
   "cell_type": "code",
   "execution_count": null,
   "metadata": {},
   "outputs": [],
   "source": [
    "# First we split the string into a list of words\n",
    "words = quote.split()\n",
    "\n",
    "# Now we can count the number of words, which is the number of elements in our list\n",
    "print( f'The quote contains {len(words)} words.' )"
   ]
  },
  {
   "cell_type": "markdown",
   "metadata": {},
   "source": [
    "Print the last word in the quote, and count the number of occurrences of the word “place”."
   ]
  },
  {
   "cell_type": "code",
   "execution_count": null,
   "metadata": {},
   "outputs": [],
   "source": [
    "# The last word is the word with index -1 in our list\n",
    "print( f'The last word is \\'{words[-1]}\\'.' )\n",
    "# Note how it includes the '.'?\n",
    "# In many cases, you will want to make sure that you remove such punctuation before processing text.\n",
    "print( f'The last word is \\'{words[-1].strip(\".\")}\\'.' )\n",
    "\n",
    "# How many times does \"place\" occur in the quote?\n",
    "print(f\"There are {words.count('place')} occurrences of the word 'place'.\")\n",
    "\n",
    "# If you want to count \"PlAcE\" and \"place\" as the same, you need a more elaborate program.\n",
    "count = 0\n",
    "\n",
    "for w in words:\n",
    "    if w.lower() == 'place':\n",
    "        count+= 1\n",
    "\n",
    "print( f\"There are {count} occurrences of the word 'place', counted in case-insensitive way.\")"
   ]
  }
 ],
 "metadata": {
  "kernelspec": {
   "display_name": "Python 3 (ipykernel)",
   "language": "python",
   "name": "python3"
  },
  "language_info": {
   "codemirror_mode": {
    "name": "ipython",
    "version": 3
   },
   "file_extension": ".py",
   "mimetype": "text/x-python",
   "name": "python",
   "nbconvert_exporter": "python",
   "pygments_lexer": "ipython3",
   "version": "3.7.9"
  },
  "vscode": {
   "interpreter": {
    "hash": "b0fa6594d8f4cbf19f97940f81e996739fb7646882a419484c72d19e05852a7e"
   }
  }
 },
 "nbformat": 4,
 "nbformat_minor": 2
}
