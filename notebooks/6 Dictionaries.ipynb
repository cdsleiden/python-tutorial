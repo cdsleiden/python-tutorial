{
 "cells": [
  {
   "cell_type": "markdown",
   "metadata": {},
   "source": [
    "# 6. Dictionaries\n",
    "\n",
    "Like a list, a dictionary is a data structure which can be used to store multiple items. In the case of a dictionary, each item consists of two parts: a *key* and a *value*. These keys need to be specified explicitly when you add an item to a dictionary. They can be of any type. \n",
    "\n",
    "## Creating a dictionary\n",
    "\n",
    "There are multiple ways to create a dictionary.\n",
    "One way is to use the `dict()` function. This function results in an empty dictionary."
   ]
  },
  {
   "cell_type": "code",
   "execution_count": 6,
   "metadata": {},
   "outputs": [],
   "source": [
    "language_code = dict()"
   ]
  },
  {
   "cell_type": "markdown",
   "metadata": {},
   "source": [
    "We can add items to this dictionary one by one. To do this, we firstly need to mention the key in a set of square brackets, directly following the name of the dictionary. The value to be associated with this key needs to be given to the right of the assignment operator. Importantly, each of these keys needs to be unique. In the example below, the keys and the values are all strings. "
   ]
  },
  {
   "cell_type": "code",
   "execution_count": 7,
   "metadata": {},
   "outputs": [],
   "source": [
    "language_code['dut'] = 'Dutch'\n",
    "language_code['fre'] = 'French'\n",
    "language_code['eng'] = 'English'\n",
    "language_code['ger'] = 'German'\n",
    "language_code['spa'] = 'Spanish; Castilian'"
   ]
  },
  {
   "cell_type": "markdown",
   "metadata": {},
   "source": [
    "We saw that, in the case of lists, we can look up values in a list by their index, which is always a number. The items in a dictionary can be accessed in a similar way. We can access the individual items of the dictionary by mentioning the keys of these items inside square brackets. The code below prints the *values* that are associated with the two keys that are provided."
   ]
  },
  {
   "cell_type": "code",
   "execution_count": null,
   "metadata": {},
   "outputs": [],
   "source": [
    "print( language_code['dut'] )\n",
    "## This prints 'Dutch'\n",
    "\n",
    "print( language_code['ger'] )\n",
    "## This prints 'German'"
   ]
  },
  {
   "cell_type": "markdown",
   "metadata": {},
   "source": [
    "Just like regular variables, you can overwrite values in dictionaries by assigning a different value to the key."
   ]
  },
  {
   "cell_type": "code",
   "execution_count": null,
   "metadata": {},
   "outputs": [],
   "source": [
    "language_code['spa'] = 'Spanish'"
   ]
  },
  {
   "cell_type": "markdown",
   "metadata": {},
   "source": [
    "### Exercise 6.1.\n",
    "\n",
    "The keys in a dictionary may consist of labels describing the values we are dealing with. The dictionary named `person_data` in the  cell below is used to capture biographical information. Use this dictionary to print the following sentence: \n",
    "\n",
    "\"Isaac Newton was born in 1642 in Woolsthorpe.\""
   ]
  },
  {
   "cell_type": "code",
   "execution_count": null,
   "metadata": {},
   "outputs": [],
   "source": [
    "person_data = dict()\n",
    "\n",
    "person_data['first_name'] = 'isaac'\n",
    "person_data['last_name'] = 'newton'\n",
    "person_data['year_of_birth'] = 1642\n",
    "person_data['place_of_birth'] = 'woolsthorpe'"
   ]
  },
  {
   "cell_type": "markdown",
   "metadata": {},
   "source": [
    "## Non-existing keys\n",
    "\n",
    "As was mentioned, the individual items of the dictionaries can be accessed using their keys. When you reference a key that does not actually exist in the dictionary, however, the code produces an error (more specifically: a `KeyError`). It is evidently impossible to retrieve a value for a key that does not exist."
   ]
  },
  {
   "cell_type": "code",
   "execution_count": null,
   "metadata": {},
   "outputs": [],
   "source": [
    "print(language_code['ita'])"
   ]
  },
  {
   "cell_type": "markdown",
   "metadata": {},
   "source": [
    "To avoid such error messages, you can make use of the `get()` method. As the first parameter, you need to mention the key of the item that you want to retrieve. If the key does indeed exist, the `get()` method returns the value associated with this key. If it does not exist, the methods returns `None`. "
   ]
  },
  {
   "cell_type": "code",
   "execution_count": null,
   "metadata": {},
   "outputs": [],
   "source": [
    "print( language_code.get( 'eng' ) )\n",
    "print( language_code.get( 'ita' ) )\n",
    "# prints None"
   ]
  },
  {
   "cell_type": "markdown",
   "metadata": {},
   "source": [
    "It is also possible to provide a default value which should be returned when the key that was supplied does not exist, as a second paramater of `get()`.\n",
    "\n",
    "Because the key 'ita' has not been set yet in the dictionary named 'language_code', the code below prints the string '[Undefined]', which is the value that is supplied as a second parameter. "
   ]
  },
  {
   "cell_type": "code",
   "execution_count": null,
   "metadata": {},
   "outputs": [],
   "source": [
    "print( language_code.get( 'ita', '[Undefined]' ) )"
   ]
  },
  {
   "cell_type": "markdown",
   "metadata": {},
   "source": [
    "## A second way of creating dictionaries\n",
    "\n",
    "Instead of starting with an empty dictionary, and adding items one by one, it is also possible to populate full dictionaries upon their creation using a syntax that makes use of curly brackets. Within these brackets, you need to list all the needed key and value pairs.\n",
    "\n",
    "The keys and the values need to be separated by a colon. All individual items in the dictionary (i.e. the full key and value pairs) need to separated by commas. The keys and the values may be provided on separate lines. "
   ]
  },
  {
   "cell_type": "code",
   "execution_count": 1,
   "metadata": {},
   "outputs": [],
   "source": [
    "country_code = { 'ec':'Ecuador',\n",
    "                 'af':'Afghanistan', \n",
    "                  'dk':'Denmark',\n",
    "                 'tr':'Turkey',\n",
    "                'ao':'Angola' , \n",
    "                'be':'Belgium',\n",
    "                 'ma':'Marocco',\n",
    "                'br':'Brazil',\n",
    "                'cn':'China'  }"
   ]
  },
  {
   "cell_type": "markdown",
   "metadata": {},
   "source": [
    "## Navigating a dictionary\n",
    "\n",
    "As is the case for lists, you can enumerate all the elements in a dictionary via the `for` keyword. When you *iterate over a dictionary*, you get its *keys*, one at a time.\n",
    "You can then use that key to look up its value."
   ]
  },
  {
   "cell_type": "code",
   "execution_count": 3,
   "metadata": {},
   "outputs": [
    {
     "name": "stdout",
     "output_type": "stream",
     "text": [
      "\"ec\" is the code for \"Ecuador\"\n",
      "\"af\" is the code for \"Afghanistan\"\n",
      "\"dk\" is the code for \"Denmark\"\n",
      "\"tr\" is the code for \"Turkey\"\n",
      "\"ao\" is the code for \"Angola\"\n",
      "\"be\" is the code for \"Belgium\"\n",
      "\"ma\" is the code for \"Marocco\"\n",
      "\"br\" is the code for \"Brazil\"\n",
      "\"cn\" is the code for \"China\"\n"
     ]
    }
   ],
   "source": [
    "# This dictionary had the code as the key, so we name our loop variable 'code'\n",
    "for code in country_code:\n",
    "    print(f'\"{code}\" is the code for \"{country_code[code]}\"')"
   ]
  },
  {
   "cell_type": "markdown",
   "metadata": {},
   "source": [
    "## Exercise 6.2.\n",
    "\n",
    "Create a dictionary that can be used to connect ISBN codes to the titles of the books they identify. The name of this dictionary must be `books_by_isbn`. Using the second method that was discussed to create a dictionaries.  \n",
    "\n",
    "Upon its creation, the dictionary should be assigned the following items: \n",
    "\n",
    "```\n",
    "ISBN: 9780143105985\n",
    "title: 'White Noise'\n",
    "\n",
    "ISBN: 9781447289395 \n",
    "Title: 'Underworld'\n",
    "```\n",
    "\n",
    "After this, write code to add the following book individually: \n",
    "\n",
    "```\n",
    "ISBN: 9780330452236\n",
    "Title: 'Falling Man'\n",
    "```\n",
    "\n",
    "Finally, print a list of all the novels in the dictionary 'books_by_isbn'. For each item in the dictionary, print the sentence 'The ISBN of the novel '[title]' is [ISBN]'. "
   ]
  },
  {
   "cell_type": "code",
   "execution_count": null,
   "metadata": {},
   "outputs": [],
   "source": []
  },
  {
   "cell_type": "markdown",
   "metadata": {},
   "source": [
    "### Exercise 6.3. \n",
    "\n",
    "The cell below creates a dictionary named `language_code` and a list named `language_code`. Using these two variables, try to print the **names** of the languages that are given in the list named `languages`. The output should look as follows:\n",
    "\n",
    "```\n",
    "The list contains the following countries:\n",
    "German\n",
    "Spanish\n",
    "English\n",
    "```"
   ]
  },
  {
   "cell_type": "code",
   "execution_count": null,
   "metadata": {},
   "outputs": [],
   "source": [
    "language_code = dict()\n",
    "language_code['dut'] = 'Dutch'\n",
    "language_code['fre'] = 'French'\n",
    "language_code['eng'] = 'English'\n",
    "language_code['ger'] = 'German'\n",
    "language_code['spa'] = 'Spanish'\n",
    "language_code['por'] = 'Portuguese'\n",
    "language_code['swe'] = 'Swedish'\n",
    "\n",
    "languages = ['ger','spa','eng']"
   ]
  },
  {
   "cell_type": "markdown",
   "metadata": {},
   "source": [
    "## Sorting a dictionary\n",
    "\n",
    "By default, all the items in this dictionary are shown in the order in which they were added to the dictionary.  \n",
    "\n",
    "A dictionary can be sorted by its keys using the in-built `sorted()` function. Strings are sorted alphabetically and integers and floats are sorted numerically. \n",
    "\n",
    "Strings are sorted alphabetically and integers and floats are sorted numerically. "
   ]
  },
  {
   "cell_type": "code",
   "execution_count": 9,
   "metadata": {},
   "outputs": [
    {
     "name": "stdout",
     "output_type": "stream",
     "text": [
      "\"af\" is the code for \"Afghanistan\"\n",
      "\"ao\" is the code for \"Angola\"\n",
      "\"be\" is the code for \"Belgium\"\n",
      "\"br\" is the code for \"Brazil\"\n",
      "\"cn\" is the code for \"China\"\n",
      "\"dk\" is the code for \"Denmark\"\n",
      "\"ec\" is the code for \"Ecuador\"\n",
      "\"ma\" is the code for \"Marocco\"\n",
      "\"tr\" is the code for \"Turkey\"\n"
     ]
    }
   ],
   "source": [
    "for code in sorted(country_code):\n",
    "    print(f'\"{code}\" is the code for \"{country_code[code]}\"')"
   ]
  },
  {
   "cell_type": "markdown",
   "metadata": {},
   "source": [
    "It is also possible to sort a dictionary by its values, but that is outside the scope of this tutorial."
   ]
  },
  {
   "cell_type": "markdown",
   "metadata": {},
   "source": [
    "## Exercise 6.4.\n",
    "\n",
    "The dictionary named `country_continent`, defined below, connects the names of countries to the continents they are on. \n",
    "\n",
    "Print a list of all the countries in this dictionary that are in Asia. The list needs to be sorted alphabetically. \n"
   ]
  },
  {
   "cell_type": "code",
   "execution_count": 17,
   "metadata": {},
   "outputs": [],
   "source": [
    "country_continent = {\n",
    "\"Belgium\":\"Europe\", \n",
    "\"France\":\"Europe\", \n",
    "\"Italy\":\"Europe\", \n",
    "\"China\":\"Asia\",\n",
    "\"Thailand\":\"Asia\",\n",
    "\"Japan\":\"Asia\", \n",
    "\"India\":\"Asia\", \n",
    "\"Bangladesh\":\"Asia\", \n",
    "\"Ghana\":\"Africa\", \n",
    "\"Tunesia\":\"Africa\" }"
   ]
  },
  {
   "cell_type": "markdown",
   "metadata": {},
   "source": [
    "### Exercise 6.5.\n",
    "\n",
    "The dictionary named `eu_capitals` connects the countries in the European Union to their capitals."
   ]
  },
  {
   "cell_type": "code",
   "execution_count": null,
   "metadata": {},
   "outputs": [],
   "source": [
    "# Create the dictionary\n",
    "eu_capitals = {\n",
    "    'Italy': 'Rome', 'Luxembourg': 'Luxembourg',\n",
    "    'Belgium': 'Brussels', 'Denmark': 'Copenhagen',\n",
    "    'Finland': 'Helsinki', 'France': 'Paris',\n",
    "    'Slovakia': 'Bratislava', 'Slovenia': 'Ljubljana',\n",
    "    'Germany': 'Berlin', 'Greece': 'Athens',\n",
    "    'Ireland': 'Dublin', 'Netherlands': 'Amsterdam',\n",
    "    'Portugal': 'Lisbon', 'Spain': 'Madrid',\n",
    "    'Sweden': 'Stockholm',\n",
    "    'Cyprus': 'Nicosia', 'Lithuania': 'Vilnius', \n",
    "    'Czech Republic': 'Prague', 'Estonia': 'Tallin',\n",
    "    'Hungary': 'Budapest', 'Latvia': 'Riga',\n",
    "    'Malta': 'Valetta', 'Austria': 'Vienna',\n",
    "    'Poland': 'Warsaw', 'Croatia': 'Zagreb',\n",
    "    'Romania': 'Bucharest', 'Bulgaria': 'Sofia'\n",
    "}"
   ]
  },
  {
   "cell_type": "markdown",
   "metadata": {},
   "source": [
    "Using this dictionary, print a sentence which gives information about the current number of countries in the EU. The number of items in a dictionary can be determined using the `len()` function.  "
   ]
  },
  {
   "cell_type": "code",
   "execution_count": null,
   "metadata": {},
   "outputs": [],
   "source": [
    "# How many countries are in the EU dictionary?\n"
   ]
  },
  {
   "cell_type": "markdown",
   "metadata": {},
   "source": [
    "For each country, print the following sentence: \"The capital of [ *country* ] is [ *capital* ].\""
   ]
  },
  {
   "cell_type": "code",
   "execution_count": null,
   "metadata": {},
   "outputs": [],
   "source": [
    "# Print the capitals of these countries\n"
   ]
  }
 ],
 "metadata": {
  "kernelspec": {
   "display_name": "Python 3 (ipykernel)",
   "language": "python",
   "name": "python3"
  },
  "language_info": {
   "codemirror_mode": {
    "name": "ipython",
    "version": 3
   },
   "file_extension": ".py",
   "mimetype": "text/x-python",
   "name": "python",
   "nbconvert_exporter": "python",
   "pygments_lexer": "ipython3",
   "version": "3.7.9"
  }
 },
 "nbformat": 4,
 "nbformat_minor": 2
}
