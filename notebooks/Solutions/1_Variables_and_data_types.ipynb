{
 "cells": [
  {
   "cell_type": "markdown",
   "metadata": {},
   "source": [
    "\n",
    "# 1. Variables and data types\n",
    "    \n"
   ]
  },
  {
   "cell_type": "markdown",
   "metadata": {},
   "source": [
    "## Exercise 1.1.\n",
    "\n",
    "Write code that can print the sentence “Hello world” or any other sentence that you can think of."
   ]
  },
  {
   "cell_type": "code",
   "execution_count": null,
   "metadata": {},
   "outputs": [],
   "source": [
    "print('Hello world!')"
   ]
  },
  {
   "cell_type": "markdown",
   "metadata": {},
   "source": [
    "## Exercise 1.2.\n",
    "\n",
    "\n",
    "Write a program which produces the following output: \n",
    "\n",
    "```\n",
    "This is the first line.\n",
    "This is the second line.\n",
    "This line contains a        tab. \n",
    "```\n"
   ]
  },
  {
   "cell_type": "code",
   "execution_count": null,
   "metadata": {},
   "outputs": [],
   "source": [
    "print('This is the first line.\\nThis is the second line.')\n",
    "print('This line contains a\\t tab.')"
   ]
  },
  {
   "cell_type": "markdown",
   "metadata": {},
   "source": [
    "## Exercise 1.3.\n",
    "\n",
    "Create a new variable and assign it a floating point number. Print the *type* of the value represented by the variable. \n",
    "\n",
    "Next, coerce it into an integer using the `int()` function. Next, display the new value of this variable using the `print()` function. What happened to the numbers after the decimal point?"
   ]
  },
  {
   "cell_type": "code",
   "execution_count": null,
   "metadata": {},
   "outputs": [],
   "source": [
    "floating_point = 4.5786\n",
    "print(type(floating_point))\n",
    "my_int = int(floating_point)\n",
    "print(my_int)"
   ]
  },
  {
   "cell_type": "markdown",
   "metadata": {},
   "source": [
    "## Exercise 1.4\n",
    "\n",
    "Try to debug the code below. "
   ]
  },
  {
   "cell_type": "code",
   "execution_count": null,
   "metadata": {},
   "outputs": [],
   "source": [
    "print( 'It\\'s not always easy to see the mistakes in your code.' )\n",
    "print( \"The ability to debug can be really useful.\" )\n",
    "print( \"Don't forget to read the error messages! They're often very useful.\")"
   ]
  }
 ],
 "metadata": {
  "kernelspec": {
   "display_name": "Python 3 (ipykernel)",
   "language": "python",
   "name": "python3"
  },
  "language_info": {
   "codemirror_mode": {
    "name": "ipython",
    "version": 3
   },
   "file_extension": ".py",
   "mimetype": "text/x-python",
   "name": "python",
   "nbconvert_exporter": "python",
   "pygments_lexer": "ipython3",
   "version": "3.7.9"
  }
 },
 "nbformat": 4,
 "nbformat_minor": 2
}
