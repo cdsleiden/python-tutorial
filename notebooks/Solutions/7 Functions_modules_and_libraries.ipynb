{
 "cells": [
  {
   "cell_type": "markdown",
   "metadata": {},
   "source": [
    "# 7. Functions, Modules and Libraries\n"
   ]
  },
  {
   "cell_type": "markdown",
   "metadata": {},
   "source": [
    "### Exercise 7.1. \n",
    "\n",
    "Write a function which can convert a given temperature in degrees Celcius into the equivalent in Fahrenheit. Use the following formula: F = 1.8 * C + 32.\n",
    "\n",
    "Once the function is ready, test it with a number of values. 20 degrees Celcius ought to be converted into 68 degrees Fahrenheit, and 37 degrees Celcius should equal 98.6 degrees Fahrenheit. "
   ]
  },
  {
   "cell_type": "code",
   "execution_count": null,
   "metadata": {},
   "outputs": [],
   "source": [
    "def celcius_to_fahrentheit( celcius ):\n",
    "    fahrenheit = 1.8 * celcius + 32 \n",
    "    return round( fahrenheit , 1 )\n",
    "\n",
    "print( '{} degrees Celcius is {} degrees in Fahrenheit'.format( 20 , celcius_to_fahrentheit(20) ))\n",
    "print( '{} degrees Celcius is {} degrees in Fahrenheit'.format( 37 , celcius_to_fahrentheit(37)  ))"
   ]
  },
  {
   "cell_type": "markdown",
   "metadata": {},
   "source": [
    "### Exercise 7.2.\n",
    "\n",
    "In a given university course, the final grade is determined by grade for essay and by the grade for a presentation. The presentation counts for 30% and the essay for 70%.\n",
    "\n",
    "Write two functions:\n",
    "\n",
    "1. `calculate_mark` should calculate the final grade based on a set of partial grades according to the given formula.\n",
    "   Grades must be rounded to integers. 5.4, for example, becomes 5 and 6.6 becomes 7.\n",
    "2. `pass_or_fail` should determine whether a given grade is at a pass level (i.e. equal to or higher than 6).\n",
    "   This function must return a string value, 'Pass' or 'Fail'."
   ]
  },
  {
   "cell_type": "code",
   "execution_count": null,
   "metadata": {},
   "outputs": [],
   "source": [
    "def calculate_mark( essay, presentation ):\n",
    "    partial1 = essay * 0.7\n",
    "    partial2 = presentation * 0.3\n",
    "    final = partial1 + partial2\n",
    "    return round(final)\n",
    "\n",
    "def pass_or_fail(grade):\n",
    "    result = 'Fail'\n",
    "    if grade >= 6:\n",
    "        result = 'Pass'\n",
    "    return result\n",
    "        \n",
    "\n",
    "essay1 = 7.0\n",
    "presentation1 = 8.5\n",
    "final1 = calculate_mark(essay1, presentation1)\n",
    "print( \"final grade: {} ({})\".format( final1 , pass_or_fail(final1) ) )\n",
    "\n",
    "essay2 = 4.5\n",
    "presentation2 = 5.5\n",
    "final2 = calculate_mark(essay2, presentation2)\n",
    "print( \"final grade: {} ({})\".format( final2 , pass_or_fail(final2) ) )"
   ]
  },
  {
   "cell_type": "markdown",
   "metadata": {},
   "source": [
    "### Exercise 7.3.\n",
    "\n",
    "Write a function which takes a Python list as a parameter. This list should contain numbers. The function should return the average value of the numbers in the list. Name the function `calculate_average()`. in the definition of this function, add an optional parameter which specifies the number of digits that are returned after the digit. The default value must be 1. \n",
    "\n",
    "To calculate the sum of all the numbers in a list, you can work with the `sum()` function. "
   ]
  },
  {
   "cell_type": "code",
   "execution_count": null,
   "metadata": {},
   "outputs": [],
   "source": [
    "numbers = [6,67,8,33,24,11,34,6,23,4,19,6,9,12,134,45,23]\n",
    "\n",
    "def calculate_average(numbers, nr_digits=1):\n",
    "    average = sum(numbers)/len(numbers)\n",
    "    return round(average, nr_digits)\n",
    "\n",
    "print(calculate_average(numbers,4))"
   ]
  },
  {
   "cell_type": "code",
   "execution_count": null,
   "metadata": {},
   "outputs": [],
   "source": []
  },
  {
   "cell_type": "markdown",
   "metadata": {},
   "source": [
    "### Exercise 7.4.\n",
    "\n",
    "Import the math library, as follows: \n",
    "\n",
    "```\n",
    "from math import *\n",
    "```\n",
    "\n",
    "This command simply imports all the available functions from the math library. Use the functions `log10()`, `pow()`, `sqrt()` and `cos()` to generate the following numbers: \n",
    "\n",
    "* The base-10 logarithm of 5.\n",
    "* 3 raised to the power of 4\n",
    "* The square root of 144\n",
    "* The cosine of 60 radians."
   ]
  },
  {
   "cell_type": "code",
   "execution_count": null,
   "metadata": {},
   "outputs": [],
   "source": [
    "from math import *\n",
    "\n",
    "\n",
    "print( str( log10(20) )  )\n",
    "print( str( pow( 3 , 4 ) ) )\n",
    "print( str( sqrt( 144 ) ) )\n",
    "print( str( cos( 60 ) ) )"
   ]
  },
  {
   "cell_type": "markdown",
   "metadata": {},
   "source": [
    "### Exercise 7.5.\n",
    "\n",
    "Following Pythagoras' theorem (A<sup>2</sup> + B<sup>2</sup> = C<sup>2</sup>), calculate the length of the hypothenuse in a right trangle in which the other two sides have a length of 6 and 7. Make use of the math module. "
   ]
  },
  {
   "cell_type": "code",
   "execution_count": null,
   "metadata": {},
   "outputs": [],
   "source": [
    "from math import *\n",
    "\n",
    "A = 6\n",
    "B = 7\n",
    "\n",
    "C2 = pow( 6 , 2 ) + pow( 7 , 2 )\n",
    "C = sqrt( C2 )\n",
    "\n",
    "print(C)"
   ]
  }
 ],
 "metadata": {
  "kernelspec": {
   "display_name": "Python 3 (ipykernel)",
   "language": "python",
   "name": "python3"
  },
  "language_info": {
   "codemirror_mode": {
    "name": "ipython",
    "version": 3
   },
   "file_extension": ".py",
   "mimetype": "text/x-python",
   "name": "python",
   "nbconvert_exporter": "python",
   "pygments_lexer": "ipython3",
   "version": "3.7.9"
  }
 },
 "nbformat": 4,
 "nbformat_minor": 2
}
