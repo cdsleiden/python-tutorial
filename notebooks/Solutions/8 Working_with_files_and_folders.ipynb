{
 "cells": [
  {
   "cell_type": "markdown",
   "metadata": {},
   "source": [
    "# 8. Working with files and folders"
   ]
  },
  {
   "cell_type": "markdown",
   "metadata": {},
   "source": [
    "### Exercise 8.1.\n",
    "\n",
    "Download the following file:\n",
    "\n",
    "[https://edu.nl/ggwtf](https://edu.nl/ggwtf)\n",
    "\n",
    "The file contains the text of a poem. \n",
    "\n",
    "Print the content of the poem that you have downloaded for exercises 8.2 on your screen, and make sure that you also add line numbers, as follows:\n",
    "    \n",
    "```\n",
    "1. [line1]\n",
    "2. [line2]\n",
    "```\n"
   ]
  },
  {
   "cell_type": "code",
   "execution_count": null,
   "metadata": {},
   "outputs": [],
   "source": [
    "sonnet = open( 'sonnet116.txt' , encoding = 'utf-8' )\n",
    "\n",
    "line_nr = 0\n",
    "\n",
    "for line in sonnet:\n",
    "    line_nr += 1\n",
    "    print(f'{line_nr}. {line}')"
   ]
  },
  {
   "cell_type": "markdown",
   "metadata": {},
   "source": [
    "### Exercise 8.2.\n",
    "\n",
    "The dictionary below is an excerpt from a longer dictionary which connects country codes to the full names of these countries. Working with this dictionary, create a *Comma Separated Value* (CSV) file with two columns, named 'code' and 'country_name'. The first column should contain the keys of the dictionary, and the second column should contain the values associated with these keys. This new CSV file should be saved under the name 'country_codes.csv'.  "
   ]
  },
  {
   "cell_type": "code",
   "execution_count": null,
   "metadata": {},
   "outputs": [],
   "source": [
    "country_codes = {'AFG': 'Afghanistan',\n",
    " 'ALB': 'Albania',\n",
    " 'DZA': 'Algeria',\n",
    " 'ASM': 'American Samoa',\n",
    " 'AND': 'Andorra',\n",
    " 'AGO': 'Angola',\n",
    " 'AIA': 'Anguilla',\n",
    " 'ATA': 'Antarctica',\n",
    " 'ATG': 'Antigua and Barbuda',\n",
    " 'ARG': 'Argentina',\n",
    " 'ARM': 'Armenia',\n",
    " 'ABW': 'Aruba',\n",
    " 'AUS': 'Australia',\n",
    " 'AUT': 'Austria',\n",
    " 'AZE': 'Azerbaijan' }\n",
    "\n",
    "\n",
    "out = open( 'country_codes.csv' , 'w' , encoding = 'utf-8' )\n",
    "out.write('code,country_name\\n')\n",
    "for code in country_codes:\n",
    "    out.write(f'{code},{country_codes[code]}\\n')\n",
    "out.close()"
   ]
  },
  {
   "cell_type": "markdown",
   "metadata": {},
   "source": [
    "### Exercise 8.3.\n",
    "\n",
    "Find a directory on your own computer which contains both files and subfolders. Define the path to this folder, as a variable named `path`.\n",
    "\n",
    "Next, write some code that can list only the subdirectories in this directories, and which ignores the individual files, using the functions `listdir()` and `isFile`. \n",
    "\n",
    "Finally, also try to list all the files in one of these subdirectories. "
   ]
  },
  {
   "cell_type": "code",
   "execution_count": null,
   "metadata": {},
   "outputs": [],
   "source": [
    "import os\n",
    "from os.path import join, isfile, isdir\n",
    "from os import listdir\n",
    "\n",
    "path = join( '..' )\n",
    "\n",
    "for item in listdir(path):\n",
    "    if not isfile(join( path, item)):\n",
    "        print(item)\n",
    "\n",
    "\n",
    "print('\\nFiles in \"Data\":\\n')\n",
    "        \n",
    "path = join( '..' , 'Data')\n",
    "\n",
    "for item in listdir(path):\n",
    "    if isfile(join( path, item)):\n",
    "        print(item)\n",
    "\n"
   ]
  }
 ],
 "metadata": {
  "kernelspec": {
   "display_name": "Python 3 (ipykernel)",
   "language": "python",
   "name": "python3"
  },
  "language_info": {
   "codemirror_mode": {
    "name": "ipython",
    "version": 3
   },
   "file_extension": ".py",
   "mimetype": "text/x-python",
   "name": "python",
   "nbconvert_exporter": "python",
   "pygments_lexer": "ipython3",
   "version": "3.7.9"
  }
 },
 "nbformat": 4,
 "nbformat_minor": 2
}
