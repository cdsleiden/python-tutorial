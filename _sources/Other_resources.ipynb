{
 "cells": [
  {
   "cell_type": "markdown",
   "metadata": {},
   "source": [
    "# Other resources\n",
    "\n",
    "## Python Tutorials\n",
    "\n",
    "* [Video series on programming in Python](https://www.youtube.com/playlist?list=PL6kqrM2i6BPIpEF5yHPNkYhjHm-FYWh17) recorded by Paul Vierthaler for his Text Mining and Digital Humanities class, taught in 2018-2019.\n",
    "* [Python programming for the Humanities](https://www.karsdorp.io/python-course/) by Folgert Karsdorp.\n",
    "* [Python tutorials](https://programminghistorian.org/en/lessons/?topic=python) on The Programing Historian\n",
    "* [Dive into Python](https://web.archive.org/web/20180418110409/http://www.diveintopython.net/toc/index.html) by Mark Pilgrim\n",
    "* MOOC [Programming for Everybody](https://www.coursera.org/learn/python) (Getting Started with Python) offered by the University of Michigan.\n",
    "* [Introduction to Python](https://www.datacamp.com/courses/intro-to-python-for-data-science?utm_source=adwords_ppc&utm_campaignid=805200711&utm_adgroupid=43370829484&utm_device=c&utm_keyword=%2Bdatacamp%20%2Bpython&utm_matchtype=b&utm_network=g&utm_adpostion=&utm_creative=255831678431&utm_targetid=aud-334851567295:kwd-414126611260&utm_loc_interest_ms=&utm_loc_physical_ms=9064324&gclid=EAIaIQobChMIrYq53Iuh6AIVjuJ3Ch2jtADUEAAYASABEgIuO_D_BwE) on DataCamp\n",
    "* [Humanities Data Analysis](https://www.humanitiesdataanalysis.org/) by Folgert Karsdorp, Mike Kestemont and Allen Riddell.\n",
    "* [Python Data Science Handbook](https://jakevdp.github.io/PythonDataScienceHandbook/) by Jake vanderplas.\n",
    "* [Data Visualisation Handbook](https://github.com/rougier/scientific-visualization-book) by Nicolas Rougier.\n",
    "* [The Art of Literary Text Analysis](https://github.com/sgsinclair/alta/blob/master/ipynb/ArtOfLiteraryTextAnalysis.ipynb) by Geoffrey Rockwell and Stéfan Sinclair.\n",
    "\n",
    "\n",
    "## Regular Expression Tutorials\n",
    "\n",
    "* [Understanding Regular Expressions](https://programminghistorian.org/en/lessons/understanding-regular-expressions) on The Programming Historian.\n",
    "* [Introduction to Regular Expressions](https://librarycarpentry.org/lc-data-intro/01-regular-expressions/) by Library Carpentry.\n",
    "* [Regular Expressions Cheat Sheet](https://www.dataquest.io/blog/regex-cheatsheet/) on Dataquest.io.\n",
    "\n",
    "## Application Programming Interface examples\n",
    "\n",
    "There is an extensive list of APIs you may be interested in at [Public APIs](https://github.com/public-apis/public-apis#index)."
   ]
  }
 ],
 "metadata": {
  "kernelspec": {
   "display_name": "Python 3 (ipykernel)",
   "language": "python",
   "name": "python3"
  },
  "language_info": {
   "codemirror_mode": {
    "name": "ipython",
    "version": 3
   },
   "file_extension": ".py",
   "mimetype": "text/x-python",
   "name": "python",
   "nbconvert_exporter": "python",
   "pygments_lexer": "ipython3",
   "version": "3.9.7"
  }
 },
 "nbformat": 4,
 "nbformat_minor": 2
}
