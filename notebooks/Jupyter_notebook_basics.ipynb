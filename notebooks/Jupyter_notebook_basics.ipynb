{
 "cells": [
  {
   "cell_type": "markdown",
   "metadata": {},
   "source": [
    "# Jupyter Notebook basics\n",
    "\n"
   ]
  },
  {
   "cell_type": "markdown",
   "metadata": {},
   "source": [
    "Jupyter Notebook is an aplication that enables you to create documents containing both code and explanations of this code in understandable language. Such documents are called 'notebooks'. The code that you include in these notebooks can also be run (or executed) directly. \n",
    "\n",
    "Creating notebooks enables you to share your code and the documentation of this code in a very effective way. \n",
    "\n",
    "## Cells\n",
    "\n",
    "A notebook is essentially a collection of cells. We shall be working with two types of cells. \n",
    "\n",
    "* A **Code cell** contains code to be executed using the so-called Python kernel. When you run a cell, the output will be displayed directly below the cell. \n",
    "* A **Markdown cell** contains rich text. The text can be formatted using a language named [Markdown](https://github.com/adam-p/markdown-here/wiki/Markdown-Cheatsheet). \n"
   ]
  },
  {
   "cell_type": "markdown",
   "metadata": {},
   "source": [
    "To view the *markdown* codes, you need to **double click on the cell** that contains this text. You can try this with this current cell. \n",
    "\n",
    "The cell below contains code. Double clicking on this cell and try to edit the code. "
   ]
  },
  {
   "cell_type": "code",
   "execution_count": 1,
   "metadata": {},
   "outputs": [
    {
     "name": "stdout",
     "output_type": "stream",
     "text": [
      "Hello world!\n"
     ]
    }
   ],
   "source": [
    "# This cell contains code\n",
    "print('Hello world!')"
   ]
  },
  {
   "cell_type": "markdown",
   "metadata": {},
   "source": [
    "Cells can be run by placing the cursor inside the cell and by pressing <kbd>Ctrl</kbd> + <kbd>Enter</kbd> (or <kbd>Command</kbd> + <kbd>Enter</kbd> on MacOS). Alternatively, you can click '`Run`' in the menu at the top of the screen. Try to experiment with this. Can you change the output of the `print()` function, for instance? \n",
    "\n",
    "Code cells always have the characters `In [ ]:` to their left. While the kernel is still active (i.e. when it is busy running the code), you will see an asterisk ('`*`') in between the two square brackets. When it has finished running, Jupyter Notebook will display a number. The program keeps track of the order in which you run all the cells. \n"
   ]
  },
  {
   "cell_type": "markdown",
   "metadata": {},
   "source": [
    "You can also add new cells by choosing `Insert` > `Insert Cell Above` or `Insert Cell Below` from the menu. New cells will be code cells by default. If you want to change the newly created cell into a Markdown cell, you can use the drowdown menu at the top of your screen, containing values such as `Code` and `Markdown`.\n",
    "\n",
    "To delete a cell, you can choose `Edit` > `Delete cells`. "
   ]
  },
  {
   "cell_type": "code",
   "execution_count": null,
   "metadata": {},
   "outputs": [],
   "source": [
    "# Click on this cell to insert a new cell below it. Next, try to to delete this cell"
   ]
  },
  {
   "cell_type": "code",
   "execution_count": null,
   "metadata": {},
   "outputs": [],
   "source": []
  },
  {
   "cell_type": "markdown",
   "metadata": {},
   "source": [
    "Finally, try to run the cell below. "
   ]
  },
  {
   "cell_type": "code",
   "execution_count": null,
   "metadata": {},
   "outputs": [],
   "source": [
    "import this"
   ]
  },
  {
   "cell_type": "markdown",
   "metadata": {},
   "source": [
    "## Saving notebooks\n",
    "\n",
    "Normally, when you work with Jupyter Notebook, you use notebooks to write code and to produce some results.\n",
    "Of course you want to save that work. Although you may see that Jupyter Notebook automatically saves changes in \"checkpoints\" (temporary backups), you need to save your changes actively to make sure that you do not lose any work. \n",
    "\n",
    "Save your file by clicking the \"floppy disk\" button on the toolbar, or via \"File\" > \"Save\", or using a keyboard shortcut <kbd>Ctrl</kbd> + <kbd>S</kbd> (or <kbd>Cmnd</kbd> + <kbd>S</kbd> on MacOS).\n",
    "\n",
    "## Closing a notebook\n",
    "\n",
    "To close a notebook, save it and use the menu option \"File\" > \"Close and Halt\". If you close the browser tab with your notebook directly, the file is actually still running. *Close and Halt* stops the background process and then closes the browser window.\n",
    "\n",
    "## Exiting Jupyter Notebook\n",
    "\n",
    "Since Jupyter Notebook is running in the background while you work in the browser frontend, closing the browser tabs or windows is not enough to stop the application. To exit Jupyter Notebook, click on the \"Quit\" button in the top right of the page showing the dashboard. When the background process succesfully terminated, Jupyter Notebook will tell you that you can close the browser tab or window."
   ]
  }
 ],
 "metadata": {
  "kernelspec": {
   "display_name": "Python 3 (ipykernel)",
   "language": "python",
   "name": "python3"
  },
  "language_info": {
   "codemirror_mode": {
    "name": "ipython",
    "version": 3
   },
   "file_extension": ".py",
   "mimetype": "text/x-python",
   "name": "python",
   "nbconvert_exporter": "python",
   "pygments_lexer": "ipython3",
   "version": "3.7.9"
  }
 },
 "nbformat": 4,
 "nbformat_minor": 4
}
