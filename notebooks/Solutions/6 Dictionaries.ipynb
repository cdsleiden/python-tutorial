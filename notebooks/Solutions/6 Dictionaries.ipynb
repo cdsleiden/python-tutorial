{
 "cells": [
  {
   "cell_type": "markdown",
   "metadata": {},
   "source": [
    "# 6. Dictionaries\n"
   ]
  },
  {
   "cell_type": "markdown",
   "metadata": {},
   "source": [
    "### Exercise 6.1.\n",
    "\n",
    "Using the dictionary `person_data` below, print the following sentence: “Louis Elsevier was a printer. He was born in 1540 in Leuven and died in 1617 in Leiden.”"
   ]
  },
  {
   "cell_type": "code",
   "execution_count": null,
   "metadata": {},
   "outputs": [],
   "source": [
    "\n",
    "person_data = dict()\n",
    "\n",
    "person_data[\"firstName\"] = 'louis'\n",
    "person_data[\"lastName\"] = 'elsevier'\n",
    "person_data[\"profession\"] = 'printer'\n",
    "person_data[\"yob\"] = 1540\n",
    "person_data[\"yod\"] = 1617\n",
    "person_data[\"pob\"] = 'leuven'\n",
    "person_data[\"pod\"] = 'leiden'"
   ]
  },
  {
   "cell_type": "markdown",
   "metadata": {},
   "source": [
    "We first construct the sentence, to keep the code a bit more readable.\n",
    "\n",
    "Remember that you can use `some_string.title()` to capitalise the first character."
   ]
  },
  {
   "cell_type": "code",
   "execution_count": null,
   "metadata": {},
   "outputs": [],
   "source": [
    "\n",
    "sentence = f\"{ person_data['firstName'].title() } {person_data['lastName'].title()} was a {person_data['profession']}. \"\n",
    "sentence += f\"He was born in {person_data['yob']} in {person_data.get('pob' , '[Unknown]' ).title() }\"\n",
    "sentence += f\" and died in {person_data['yod']} in {person_data.get('pod' , '[Unknown]' ).title()}.\"\n",
    "\n",
    "# Print the sentence\n",
    "\n",
    "print( sentence )\n"
   ]
  },
  {
   "cell_type": "markdown",
   "metadata": {},
   "source": [
    "### Exercise 6.2.\n",
    "\n",
    "The code below creates a new dictionary. This dictionary connects a number of ISBNs to the titles of the books they identify.\n",
    "\n",
    "```\n",
    "isbn = {\n",
    "9780143105985 : 'White Noise' ,\n",
    "9780241984536 : 'Libra' ,\n",
    "9781925480665 : 'Mao II' ,\n",
    "9781447289395 : 'Underworld' ,\n",
    "9780743595728 : 'The Body Artist' ,\n",
    "9781925480665 : 'Cosmopolis' ,\n",
    "9780330524919 : 'Falling man' ,\n",
    "9781439169971 : 'Point Omega'\n",
    "}\n",
    "```\n",
    "\n",
    "* Add the novel Zero K to the dictionary. This novel has ISBN13 9781501138072.\n",
    "* Write some code which can print the title that corresponds to ISBN 9781447289395. \n",
    "* Print a list of all the novels. Display both the ISBN and the title. "
   ]
  },
  {
   "cell_type": "code",
   "execution_count": null,
   "metadata": {},
   "outputs": [],
   "source": [
    "# Create the dictionary\n",
    "books_by_isbn = {\n",
    "    9780143105985 : 'White Noise',\n",
    "    9780241984536 : 'Libra',\n",
    "    9781925480665 : 'Mao II',\n",
    "    9781447289395 : 'Underworld',\n",
    "    9780743595728 : 'The Body Artist',\n",
    "    9781925480665 : 'Cosmopolis',\n",
    "    9780330524919 : 'Falling man',\n",
    "    9781439169971 : 'Point Omega'\n",
    "}"
   ]
  },
  {
   "cell_type": "markdown",
   "metadata": {},
   "source": [
    "\n",
    "Add the novel Zero K to the dictionary. This novel has ISBN 9781501138072."
   ]
  },
  {
   "cell_type": "code",
   "execution_count": null,
   "metadata": {},
   "outputs": [],
   "source": [
    "\n",
    "books_by_isbn[9781501138072] = 'Zero K'\n"
   ]
  },
  {
   "cell_type": "markdown",
   "metadata": {},
   "source": [
    "Write some code which can print the title that corresponds to ISBN 9781447289395."
   ]
  },
  {
   "cell_type": "code",
   "execution_count": null,
   "metadata": {},
   "outputs": [],
   "source": [
    "index = 9781447289395\n",
    "print( f\"\\nThe ISBN of the novel '{books_by_isbn[index] }' is {index}.\\n\" )"
   ]
  },
  {
   "cell_type": "markdown",
   "metadata": {},
   "source": [
    "Print a list of all the novels. Display both the ISBN and the title. "
   ]
  },
  {
   "cell_type": "code",
   "execution_count": null,
   "metadata": {},
   "outputs": [],
   "source": [
    "for isbn in books_by_isbn:\n",
    "    print( books_by_isbn[isbn] + ' (' + str(isbn) + ')' )"
   ]
  },
  {
   "cell_type": "markdown",
   "metadata": {},
   "source": [
    "### Exercise 6.3.\n",
    "\n",
    "We have a dictionary of countries in the European Union and their capitals."
   ]
  },
  {
   "cell_type": "code",
   "execution_count": null,
   "metadata": {},
   "outputs": [],
   "source": [
    "# Create the dictionary\n",
    "eu_capitals = {\n",
    "    'Italy': 'Rome', 'Luxembourg': 'Luxembourg',\n",
    "    'Belgium': 'Brussels', 'Denmark': 'Copenhagen',\n",
    "    'Finland': 'Helsinki', 'France': 'Paris',\n",
    "    'Slovakia': 'Bratislava', 'Slovenia': 'Ljubljana',\n",
    "    'Germany': 'Berlin', 'Greece': 'Athens',\n",
    "    'Ireland': 'Dublin', 'Netherlands': 'Amsterdam',\n",
    "    'Portugal': 'Lisbon', 'Spain': 'Madrid',\n",
    "    'Sweden': 'Stockholm',\n",
    "    'Cyprus': 'Nicosia', 'Lithuania': 'Vilnius', \n",
    "    'Czech Republic': 'Prague', 'Estonia': 'Tallin',\n",
    "    'Hungary': 'Budapest', 'Latvia': 'Riga',\n",
    "    'Malta': 'Valetta', 'Austria': 'Vienna',\n",
    "    'Poland': 'Warsaw', 'Croatia': 'Zagreb',\n",
    "    'Romania': 'Bucharest', 'Bulgaria': 'Sofia'\n",
    "}\n"
   ]
  },
  {
   "cell_type": "markdown",
   "metadata": {},
   "source": [
    "Using this dictionary, print a sentence which gives information about the current number of countries in the EU."
   ]
  },
  {
   "cell_type": "code",
   "execution_count": null,
   "metadata": {},
   "outputs": [],
   "source": [
    "print( f'The EU currently has {len(eu_capitals)} member countries:' )"
   ]
  },
  {
   "cell_type": "markdown",
   "metadata": {},
   "source": [
    "Print a list of all the countries of the EU in alphabetical order."
   ]
  },
  {
   "cell_type": "code",
   "execution_count": null,
   "metadata": {},
   "outputs": [],
   "source": [
    "# The keys of the dictionary are the countries\n",
    "for country in sorted(eu_capitals):\n",
    "    print( country )"
   ]
  },
  {
   "cell_type": "markdown",
   "metadata": {},
   "source": [
    "Finally, for each country, print the following sentence: \"The capital of [ *country* ] is [ *capital* ].\""
   ]
  },
  {
   "cell_type": "code",
   "execution_count": null,
   "metadata": {},
   "outputs": [],
   "source": [
    "for country in sorted(eu_capitals):\n",
    "    print( f'The capital of {country} is {eu_capitals[country]}.' )"
   ]
  }
 ],
 "metadata": {
  "kernelspec": {
   "display_name": "Python 3 (ipykernel)",
   "language": "python",
   "name": "python3"
  },
  "language_info": {
   "codemirror_mode": {
    "name": "ipython",
    "version": 3
   },
   "file_extension": ".py",
   "mimetype": "text/x-python",
   "name": "python",
   "nbconvert_exporter": "python",
   "pygments_lexer": "ipython3",
   "version": "3.7.9"
  },
  "vscode": {
   "interpreter": {
    "hash": "b0fa6594d8f4cbf19f97940f81e996739fb7646882a419484c72d19e05852a7e"
   }
  }
 },
 "nbformat": 4,
 "nbformat_minor": 2
}
