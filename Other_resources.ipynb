{
 "cells": [
  {
   "cell_type": "markdown",
   "metadata": {},
   "source": [
    "# Other resources\n",
    "\n",
    "We are aware that other resources exist to help you learn programming in Python.\n",
    "This page lists a selection of complete (text or video) tutorials and MOOCs, as well as tutorials and books on specific topics.\n",
    "\n",
    "## Complete Python Tutorials\n",
    "\n",
    "* [Video series on programming in Python](https://www.youtube.com/playlist?list=PL6kqrM2i6BPIpEF5yHPNkYhjHm-FYWh17) recorded by Paul Vierthaler for his Text Mining and Digital Humanities class, taught in 2018-2019.\n",
    "* [Python programming for the Humanities](https://www.karsdorp.io/python-course/) by Folgert Karsdorp.\n",
    "* [Dive into Python](https://web.archive.org/web/20180418110409/http://www.diveintopython.net/toc/index.html) by Mark Pilgrim (from 2004).\n",
    "* MOOC [Programming for Everybody](https://www.coursera.org/learn/python) (Getting Started with Python) offered by the University of Michigan.\n",
    "* [Introduction to Python](https://www.datacamp.com/courses/intro-to-python-for-data-science?gclid=EAIaIQobChMIrYq53Iuh6AIVjuJ3Ch2jtADUEAAYASABEgIuO_D_BwE) on DataCamp.\n",
    "\n",
    "## Topical Python Tutorials\n",
    "\n",
    "* [Python tutorials on The Programming Historian](https://programminghistorian.org/en/lessons/?topic=python).\n",
    "* [Humanities Data Analysis](https://www.humanitiesdataanalysis.org/) by Folgert Karsdorp, Mike Kestemont and Allen Riddell.\n",
    "* [Python Data Science Handbook](https://jakevdp.github.io/PythonDataScienceHandbook/) by Jake vanderplas.\n",
    "* [Scientific Visualization: Python + Matplotlib Handbook](https://github.com/rougier/scientific-visualization-book) by Nicolas Rougier.\n",
    "* [The Art of Literary Text Analysis](https://github.com/sgsinclair/alta/blob/master/ipynb/ArtOfLiteraryTextAnalysis.ipynb) by Geoffrey Rockwell and Stéfan Sinclair.\n",
    "\n",
    "## Data visualisation\n",
    "\n",
    "* [Computerphile video on the foundations of data visualisation](https://youtu.be/qQ9Wu1IxsYw) (11 minutes) by Dr Kai Xu (University of Nottingham) and Sean Riley.\n",
    "\n",
    "## Regular Expression Tutorials\n",
    "\n",
    "* [Understanding Regular Expressions](https://programminghistorian.org/en/lessons/understanding-regular-expressions) on The Programming Historian.\n",
    "* [Introduction to Regular Expressions](https://librarycarpentry.org/lc-data-intro/01-regular-expressions/) by Library Carpentry.\n",
    "* [Regular Expressions Cheat Sheet](https://www.dataquest.io/blog/regex-cheatsheet/) on Dataquest.io.\n",
    "\n",
    "## Application Programming Interface examples\n",
    "\n",
    "There is an extensive list of APIs you may be interested in at [Public APIs](https://github.com/public-apis/public-apis#index)."
   ]
  }
 ],
 "metadata": {
  "kernelspec": {
   "display_name": "Python 3 (ipykernel)",
   "language": "python",
   "name": "python3"
  },
  "language_info": {
   "codemirror_mode": {
    "name": "ipython",
    "version": 3
   },
   "file_extension": ".py",
   "mimetype": "text/x-python",
   "name": "python",
   "nbconvert_exporter": "python",
   "pygments_lexer": "ipython3",
   "version": "3.9.7"
  }
 },
 "nbformat": 4,
 "nbformat_minor": 2
}
