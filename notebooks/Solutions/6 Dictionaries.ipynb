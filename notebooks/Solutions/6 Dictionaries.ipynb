{
 "cells": [
  {
   "cell_type": "markdown",
   "metadata": {},
   "source": [
    "# 6. Dictionaries\n"
   ]
  },
  {
   "cell_type": "markdown",
   "metadata": {},
   "source": [
    "### Exercise 6.1.\n",
    "\n",
    "The keys in a dictionary may consist of labels describing the values we are dealing with. The dictionary named `person_data` in the  cell below is used to capture biographical information. Use this dictionary to print the following sentence: \n",
    "\n",
    "\"Isaac Newton was born in 1642 in Woolsthorpe.\""
   ]
  },
  {
   "cell_type": "code",
   "execution_count": null,
   "metadata": {},
   "outputs": [],
   "source": [
    "person_data = dict()\n",
    "\n",
    "person_data['first_name'] = 'isaac'\n",
    "person_data['last_name'] = 'newton'\n",
    "person_data['year_of_birth'] = 1642\n",
    "person_data['place_of_birth'] = 'woolsthorpe'\n",
    "\n",
    "# We create a sentence variable, to make the code more readable\n",
    "# Remember that we can use the title() method to capitalise the first character.\n",
    "\n",
    "sentence = f\"{person_data['first_name'].title()} {person_data['last_name'].title()}\"\n",
    "sentence += f\" was born in {person_data['year_of_birth']}\"\n",
    "sentence += f\" in {person_data['place_of_birth'].title()}.\"\n",
    "\n",
    "print(sentence)"
   ]
  },
  {
   "cell_type": "markdown",
   "metadata": {},
   "source": [
    "### Exercise 6.2. \n",
    "\n",
    "The cell below creates a dictionary named `language_code` and a list named `language_code`. Using these two variables, try to print the **names** of the languages that are given in the list named `languages`. The output should look as follows:\n",
    "\n",
    "```\n",
    "The list contains the following countries:\n",
    "German\n",
    "Spanish\n",
    "English\n",
    "```"
   ]
  },
  {
   "cell_type": "code",
   "execution_count": null,
   "metadata": {},
   "outputs": [],
   "source": [
    "language_code = dict()\n",
    "language_code['dut'] = 'Dutch'\n",
    "language_code['fre'] = 'French'\n",
    "language_code['eng'] = 'English'\n",
    "language_code['ger'] = 'German'\n",
    "language_code['spa'] = 'Spanish'\n",
    "language_code['por'] = 'Portuguese'\n",
    "language_code['swe'] = 'Swedish'\n",
    "\n",
    "languages = ['ger','spa','eng']\n",
    "\n",
    "print('The list contains the following countries:')\n",
    "\n",
    "for language in languages:\n",
    "    print( language_code[language] )"
   ]
  },
  {
   "cell_type": "markdown",
   "metadata": {},
   "source": [
    "### Exercise 6.3. \n",
    "\n",
    "Working with the dictionary named `language_code`, defined below using the second method that was discussed, create a dataset in the [Comma Separated Values](https://en.wikipedia.org/wiki/Comma-separated_values) format. Each line of the CSV file should contain the code and the full name of the language, separated by a comma. The CSV file should have the following header: 'code,language_name'. The language codes must be also be ordered alphabetically. \n",
    "\n",
    "The output should look as follows:\n",
    "\n",
    "```\n",
    "code,language_name\n",
    "dut,Dutch\n",
    "eng,English\n",
    "fre,French\n",
    "ger,German\n",
    "por,Portuguese\n",
    "spa,Spanish\n",
    "swe,Swedish\n",
    "```\n"
   ]
  },
  {
   "cell_type": "code",
   "execution_count": null,
   "metadata": {},
   "outputs": [],
   "source": [
    "language_code = {\n",
    "    'fre': 'French',\n",
    "    'swe': 'Swedish',\n",
    "    'eng': 'English',\n",
    "    'ger': 'German',\n",
    "    'spa': 'Spanish',\n",
    "    'dut': 'Dutch',\n",
    "    'por': 'Portuguese'\n",
    " }\n",
    "\n",
    "print('code,language_name')\n",
    "\n",
    "for item in sorted(language_code):\n",
    "    print( f'{item},{language_code[item]}' )"
   ]
  },
  {
   "cell_type": "markdown",
   "metadata": {},
   "source": [
    "### Exercise 6.4.\n",
    "\n",
    "The code below creates a new dictionary. This dictionary connects a number of ISBNs to the titles of the books they identify.\n",
    "\n",
    "```\n",
    "isbn = {\n",
    "9780143105985 : 'White Noise' ,\n",
    "9780241984536 : 'Libra' ,\n",
    "9781925480665 : 'Mao II' ,\n",
    "9781447289395 : 'Underworld' ,\n",
    "9780743595728 : 'The Body Artist' ,\n",
    "9781925480665 : 'Cosmopolis' ,\n",
    "9780330524919 : 'Falling man' ,\n",
    "9781439169971 : 'Point Omega'\n",
    "}\n",
    "```\n",
    "\n",
    "* Add the novel Zero K to the dictionary. This novel has ISBN13 9781501138072.\n",
    "* Write some code which can print the title that corresponds to ISBN 9781447289395. \n",
    "* Print a list of all the novels. Display both the ISBN and the title. "
   ]
  },
  {
   "cell_type": "code",
   "execution_count": null,
   "metadata": {},
   "outputs": [],
   "source": [
    "# Create the dictionary\n",
    "books_by_isbn = {\n",
    "    9780143105985 : 'White Noise',\n",
    "    9780241984536 : 'Libra',\n",
    "    9781925480665 : 'Mao II',\n",
    "    9781447289395 : 'Underworld',\n",
    "    9780743595728 : 'The Body Artist',\n",
    "    9781925480665 : 'Cosmopolis',\n",
    "    9780330524919 : 'Falling man',\n",
    "    9781439169971 : 'Point Omega'\n",
    "}"
   ]
  },
  {
   "cell_type": "markdown",
   "metadata": {},
   "source": [
    "\n",
    "Add the novel Zero K to the dictionary. This novel has ISBN 9781501138072."
   ]
  },
  {
   "cell_type": "code",
   "execution_count": null,
   "metadata": {},
   "outputs": [],
   "source": [
    "\n",
    "books_by_isbn[9781501138072] = 'Zero K'\n"
   ]
  },
  {
   "cell_type": "markdown",
   "metadata": {},
   "source": [
    "Write some code which can print the title that corresponds to ISBN 9781447289395."
   ]
  },
  {
   "cell_type": "code",
   "execution_count": null,
   "metadata": {},
   "outputs": [],
   "source": [
    "index = 9781447289395\n",
    "print( f\"\\nThe ISBN of the novel '{books_by_isbn[index] }' is {index}.\\n\" )"
   ]
  },
  {
   "cell_type": "markdown",
   "metadata": {},
   "source": [
    "Print a list of all the novels. Display both the ISBN and the title. "
   ]
  },
  {
   "cell_type": "code",
   "execution_count": null,
   "metadata": {},
   "outputs": [],
   "source": [
    "for isbn in books_by_isbn:\n",
    "    print( books_by_isbn[isbn] + ' (' + str(isbn) + ')' )"
   ]
  },
  {
   "cell_type": "markdown",
   "metadata": {},
   "source": [
    "### Exercise 6.3.\n",
    "\n",
    "We have a dictionary of countries in the European Union and their capitals."
   ]
  },
  {
   "cell_type": "code",
   "execution_count": null,
   "metadata": {},
   "outputs": [],
   "source": [
    "# Create the dictionary\n",
    "eu_capitals = {\n",
    "    'Italy': 'Rome', 'Luxembourg': 'Luxembourg',\n",
    "    'Belgium': 'Brussels', 'Denmark': 'Copenhagen',\n",
    "    'Finland': 'Helsinki', 'France': 'Paris',\n",
    "    'Slovakia': 'Bratislava', 'Slovenia': 'Ljubljana',\n",
    "    'Germany': 'Berlin', 'Greece': 'Athens',\n",
    "    'Ireland': 'Dublin', 'Netherlands': 'Amsterdam',\n",
    "    'Portugal': 'Lisbon', 'Spain': 'Madrid',\n",
    "    'Sweden': 'Stockholm',\n",
    "    'Cyprus': 'Nicosia', 'Lithuania': 'Vilnius', \n",
    "    'Czech Republic': 'Prague', 'Estonia': 'Tallin',\n",
    "    'Hungary': 'Budapest', 'Latvia': 'Riga',\n",
    "    'Malta': 'Valetta', 'Austria': 'Vienna',\n",
    "    'Poland': 'Warsaw', 'Croatia': 'Zagreb',\n",
    "    'Romania': 'Bucharest', 'Bulgaria': 'Sofia'\n",
    "}\n"
   ]
  },
  {
   "cell_type": "markdown",
   "metadata": {},
   "source": [
    "Using this dictionary, print a sentence which gives information about the current number of countries in the EU. The number of items in a dictionary can be determined using the `len()` function.  "
   ]
  },
  {
   "cell_type": "code",
   "execution_count": null,
   "metadata": {},
   "outputs": [],
   "source": [
    "print( f'The EU currently has {len(eu_capitals)} member countries:' )"
   ]
  },
  {
   "cell_type": "markdown",
   "metadata": {},
   "source": [
    "Print a list of all the countries of the EU in alphabetical order."
   ]
  },
  {
   "cell_type": "code",
   "execution_count": null,
   "metadata": {},
   "outputs": [],
   "source": [
    "# The keys of the dictionary are the countries\n",
    "for country in sorted(eu_capitals):\n",
    "    print( country )"
   ]
  },
  {
   "cell_type": "markdown",
   "metadata": {},
   "source": [
    "Finally, for each country, print the following sentence: \"The capital of [ *country* ] is [ *capital* ].\""
   ]
  },
  {
   "cell_type": "code",
   "execution_count": null,
   "metadata": {},
   "outputs": [],
   "source": [
    "for country in sorted(eu_capitals):\n",
    "    print( f'The capital of {country} is {eu_capitals[country]}.' )"
   ]
  }
 ],
 "metadata": {
  "kernelspec": {
   "display_name": "Python 3 (ipykernel)",
   "language": "python",
   "name": "python3"
  },
  "language_info": {
   "codemirror_mode": {
    "name": "ipython",
    "version": 3
   },
   "file_extension": ".py",
   "mimetype": "text/x-python",
   "name": "python",
   "nbconvert_exporter": "python",
   "pygments_lexer": "ipython3",
   "version": "3.7.9"
  },
  "vscode": {
   "interpreter": {
    "hash": "b0fa6594d8f4cbf19f97940f81e996739fb7646882a419484c72d19e05852a7e"
   }
  }
 },
 "nbformat": 4,
 "nbformat_minor": 2
}
