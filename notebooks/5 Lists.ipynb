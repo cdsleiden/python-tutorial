{
 "cells": [
  {
   "cell_type": "markdown",
   "metadata": {},
   "source": [
    "# 5. Lists\n",
    "\n",
    "The variables that were discussed in the previous tutorials were all assigned single values, such as strings, integers or floating point numbers.\n",
    "It is also possible to work with variables that contain collections of values. \n",
    "\n",
    "One example of a variable type that can hold multiple values is the *list*.\n",
    "Lists can be created by surrounding all the values that you want to gather by square brackets. The individual values within such lists need to be separated by commas.\n",
    "\n",
    "The statement below creates a list containing the five days of the working week:\n"
   ]
  },
  {
   "cell_type": "code",
   "execution_count": null,
   "metadata": {},
   "outputs": [],
   "source": [
    "week = [ \"Monday\", \"Tuesday\", \"Wednesday\", \"Thursday\", \"Friday\" ]  "
   ]
  },
  {
   "cell_type": "markdown",
   "metadata": {},
   "source": [
    "The we may call the things that are in the list *elements* or *items*.\n",
    "The elements in `week` are all strings. The elements do not all have to be of the same type, however. It is allowed to mix strings with integers, for instance. \n",
    "\n",
    "## Accessing individual items\n",
    "\n",
    "When lists are created in this manner, the items in this list are given a certain order.\n",
    "Python numbers the elements in the list automatically, following the order in which these values were given. These numbers will function as *indices* that can be used to access the individual items in the list. Bear in mind that Python starts counting at 0.\n",
    "\n",
    "In the example above, the element `\"Monday\"` is assigned the index 0, and the element `\"Thursday\"` will have the index 3. As is the case for strings and their individual characters, the separate elements in the list can be accessed using the square bracket notation.\n",
    "\n",
    "Another similarity between lists and strings is that the lengths of both types of variables can be found using the `len()` function. In the case of lists, `len()` returns the number of elements in the list."
   ]
  },
  {
   "cell_type": "code",
   "execution_count": null,
   "metadata": {},
   "outputs": [],
   "source": [
    "# Same as above:\n",
    "# week = [ \"Monday\" , \"Tuesday\" , \"Wednesday\" , \"Thursday\" , \"Friday\" ]\n",
    "\n",
    "print( week[3] )\n",
    "# This prints \"Thursday\""
   ]
  },
  {
   "cell_type": "code",
   "execution_count": null,
   "metadata": {},
   "outputs": [],
   "source": [
    "print( week[-1] )\n",
    "# This prints \"Friday\""
   ]
  },
  {
   "cell_type": "code",
   "execution_count": null,
   "metadata": {},
   "outputs": [],
   "source": [
    "print( len(week) )\n",
    "# This prints 5"
   ]
  },
  {
   "cell_type": "markdown",
   "metadata": {},
   "source": [
    "## List slicing\n",
    "\n",
    "Like strings, lists can also be sliced. *Slicing* means selecting a part of a list (or string).\n",
    "To do this, you need to type in a set of square brackets directly following the name of the list. Within these brackets, you need to give a pair of indices, specifying the first and the last item you want to retrieve. These two numbers need to be separated by a colon.\n",
    "The item whose index is to the right of the colon is not included in the selection. If you state that the selection should stop at index 3, for instance, the last item in the selection will be the item with index 2.\n",
    "\n",
    "If you leave out the first number, Python will start at the beginning of the list. If you omit the second number, the selection will continue until the very last item in the list."
   ]
  },
  {
   "cell_type": "code",
   "execution_count": null,
   "metadata": {},
   "outputs": [],
   "source": [
    "week_part = week[1:3]\n",
    "## Selects Tuesday' and 'Wednesday'\n",
    "print(week_part)"
   ]
  },
  {
   "cell_type": "code",
   "execution_count": null,
   "metadata": {},
   "outputs": [],
   "source": [
    "week_part = week[:2]\n",
    "## Selects 'Monday' and 'Tuesday'\n",
    "print(week_part)"
   ]
  },
  {
   "cell_type": "code",
   "execution_count": null,
   "metadata": {},
   "outputs": [],
   "source": [
    "week_part = week[3:]\n",
    "## Selects 'Thursday'and 'Friday'\n",
    "print(week_part)"
   ]
  },
  {
   "cell_type": "markdown",
   "metadata": {},
   "source": [
    "## Adding items to a list\n",
    "\n",
    "The `append()` method can be used to add items to an existing list.\n",
    "This is a *method*, which is part of the list and therefore needs to be called in the `my_list.append(new_item)` syntax.\n",
    "Functions and methods will be discussed later in the tutorial."
   ]
  },
  {
   "cell_type": "code",
   "execution_count": null,
   "metadata": {},
   "outputs": [],
   "source": [
    "week.append(\"Saturday\")\n",
    "week.append(\"Sunday\")\n",
    "\n",
    "print( f\"The list now contains {len(week)} items.\" )\n",
    "# This prints the following sentence:\n",
    "# 'The list now contains 7 items.'"
   ]
  },
  {
   "cell_type": "markdown",
   "metadata": {},
   "source": [
    "## Sorting\n",
    "\n",
    "Finally, the items in a list can be arranged alphabetically or numerically using the `sorted()` function."
   ]
  },
  {
   "cell_type": "code",
   "execution_count": null,
   "metadata": {},
   "outputs": [],
   "source": [
    "unsorted_list = [ 5, 8, 2, 9, 1, 8 ]\n",
    "print( sorted( unsorted_list ) )\n",
    "\n",
    "## The output is as follows:\n",
    "## [1, 2, 5, 8, 8, 9]"
   ]
  },
  {
   "cell_type": "markdown",
   "metadata": {},
   "source": [
    "## Navigating a list\n",
    "\n",
    "To move through all the elements in a list, you can use the `for` keyword. We also talk about *iterating over a list*.\n",
    "We have learned in the section on iteration that `for` needs to be used in combination with `in`.\n",
    "After `for`, you first supply the name of a (new) variable that you can use to refer to the current element. \n",
    "After `in`, you give the name of the list whose elements you want to retrieve.\n",
    "\n",
    "In the example below, we print the names of the days in the week.\n",
    "We assign the current element to a new variable `day`.\n",
    "During each cycle, the value of the variable `day` will be different; it will\n",
    "consecutively be assigned the various elements in the list named `week`.\n",
    "The loop will continue as long as there are items in the list. "
   ]
  },
  {
   "cell_type": "code",
   "execution_count": null,
   "metadata": {},
   "outputs": [],
   "source": [
    "for day in week:\n",
    "    print( day )"
   ]
  },
  {
   "cell_type": "markdown",
   "metadata": {},
   "source": [
    "## Presence in a list"
   ]
  },
  {
   "cell_type": "markdown",
   "metadata": {},
   "source": [
    "If you want to know whether a list contains a given item, you use the `in` operator.\n",
    "This operator takes two operands, i.e. things to operate on.\n",
    "To the left of `in`, you mention the item you want to search for.\n",
    "On the right you mention the list in which you want to search.\n",
    "Using `in`, you can create a Boolean expression, an expression which can be either true or false."
   ]
  },
  {
   "cell_type": "code",
   "execution_count": null,
   "metadata": {},
   "outputs": [],
   "source": [
    "# Is 2 in [1, 2, 3]? Yes, so this returns True\n",
    "2 in [1, 2, 3]"
   ]
  },
  {
   "cell_type": "code",
   "execution_count": null,
   "metadata": {},
   "outputs": [],
   "source": [
    "if 'Monday' in week:\n",
    "    print('This item is indeed in the list!')"
   ]
  },
  {
   "cell_type": "markdown",
   "metadata": {},
   "source": [
    "## Counting items\n",
    "\n",
    "You can count the number of times an item occurs in a list by making use of the `count()` method.\n",
    "\n",
    "This method needs to be appended after the name of the list, using a dot.\n",
    "As a parameter to this method, you provide the item that you want to count.\n",
    "\n",
    "```python\n",
    "my_list.count(item_to_count)\n",
    "```\n",
    "\n",
    "As an example, we ask how many times the string `\"cat\"` appears in the list of animals."
   ]
  },
  {
   "cell_type": "code",
   "execution_count": null,
   "metadata": {},
   "outputs": [],
   "source": [
    "animals = [ 'cat' , 'dog' , 'rabbit' , 'elephant' , 'cat' , 'cat' , 'giraffe']\n",
    "\n",
    "print( f\"The word 'cat' occurs {animals.count('cat')} times in this list.\" )"
   ]
  },
  {
   "cell_type": "markdown",
   "metadata": {},
   "source": [
    "# Exercises"
   ]
  },
  {
   "cell_type": "markdown",
   "metadata": {},
   "source": [
    "## Exercise 5.1.\n",
    "\n",
    "Create the following list:\n",
    "\n",
    "``\n",
    "colours = ['green','blue','red']\n",
    "``\n",
    "\n",
    "Add the colours 'orange', 'yellow' to this list. \n"
   ]
  },
  {
   "cell_type": "code",
   "execution_count": null,
   "metadata": {},
   "outputs": [],
   "source": [
    "colours = "
   ]
  },
  {
   "cell_type": "markdown",
   "metadata": {},
   "source": [
    "## Exercise 5.2.\n",
    "\n",
    "We have two lists of numbers and would like to know which numbers in the first list are not in the second list.\n",
    "\n",
    "Write code which can extract those numbers from the first list that are **not** in the second list.\n"
   ]
  },
  {
   "cell_type": "code",
   "execution_count": null,
   "metadata": {},
   "outputs": [],
   "source": [
    "first = [4, 9, 1, 17, 11, 26, 28, 54, 63] \n",
    "second = [8, 9, 74, 21, 45, 11, 63, 28, 26]\n",
    "\n",
    "numbers_not_in_second = []\n",
    "\n",
    "# Add the numbers from `first` that are not in `second` to `numbers_not_in_second`\n",
    "\n",
    "\n",
    "\n",
    "print(numbers_not_in_second)"
   ]
  },
  {
   "cell_type": "markdown",
   "metadata": {},
   "source": [
    "## Exercise 5.3.\n",
    "\n",
    "The list below contains the titles of first twelve plays written by William Shakespeare."
   ]
  },
  {
   "cell_type": "code",
   "execution_count": null,
   "metadata": {},
   "outputs": [],
   "source": [
    "plays = [\n",
    "    'Comedy of Errors',\n",
    "    'Henry VI, Part I',\n",
    "    'Henry VI, Part II',\n",
    "    'Henry VI, Part III',\n",
    "    'Richard III',\n",
    "    'Taming of the Shrew',\n",
    "    'Titus Andronicus',\n",
    "    'Romeo and Juliet',\n",
    "    'Two Gentlemen of Verona',\n",
    "    'Love\\'s Labour\\'s Lost',\n",
    "    'Richard II',\n",
    "    'Midsummer Night\\'s Dream'\n",
    "]"
   ]
  },
  {
   "cell_type": "markdown",
   "metadata": {},
   "source": [
    "Add the following two titles to this list:\n",
    "\n",
    "* Macbeth\n",
    "* Othello"
   ]
  },
  {
   "cell_type": "code",
   "execution_count": null,
   "metadata": {},
   "outputs": [],
   "source": []
  },
  {
   "cell_type": "markdown",
   "metadata": {},
   "source": [
    "Next, count the number of plays in this list."
   ]
  },
  {
   "cell_type": "code",
   "execution_count": null,
   "metadata": {},
   "outputs": [],
   "source": []
  },
  {
   "cell_type": "markdown",
   "metadata": {},
   "source": [
    "Print the titles of the first and the last plays in the list, using the index of these items."
   ]
  },
  {
   "cell_type": "code",
   "execution_count": null,
   "metadata": {},
   "outputs": [],
   "source": []
  },
  {
   "cell_type": "markdown",
   "metadata": {},
   "source": [
    "Print the full list in alphabetical order using the `for` keyword."
   ]
  },
  {
   "cell_type": "code",
   "execution_count": null,
   "metadata": {},
   "outputs": [],
   "source": [
    "for "
   ]
  },
  {
   "cell_type": "markdown",
   "metadata": {},
   "source": [
    "## Exercise 5.4.\n",
    "\n",
    "We have a list of websites and are interested to find the Dutch ones.\n",
    "\n",
    "Write some code to select the Dutch websites from this list.\n",
    "Tip: You may want to reuse some of the code developed for exercise 3.4."
   ]
  },
  {
   "cell_type": "code",
   "execution_count": null,
   "metadata": {},
   "outputs": [],
   "source": [
    "websites = [\n",
    "    'https://www.universiteitleiden.nl',\n",
    "    'https://www.stanford.edu',\n",
    "    'https://www.uu.nl',\n",
    "    'http://www.ox.ac.uk',\n",
    "    'https://www.rug.nl',\n",
    "    'https://www.hu-berlin.de',\n",
    "    'https://www.uva.nl'\n",
    "]\n",
    "\n",
    "# Print the URLs that belong to Dutch institutions"
   ]
  },
  {
   "cell_type": "markdown",
   "metadata": {},
   "source": [
    "## Exercise 5.5.\n",
    "\n",
    "We have a list `years` that contains – well – years.\n",
    "\n",
    "Use the keywords `for` and `if` to select years from this list that are in the 18th century. \n",
    "Remember that you can combine multiple Boolean expressions using `and`.  "
   ]
  },
  {
   "cell_type": "code",
   "execution_count": null,
   "metadata": {},
   "outputs": [],
   "source": [
    "years = [ 1756, 1575, 2002, 1984 ,1626 ,1791, 1714, 1873, 1991 ]\n",
    "\n",
    "# Print years that are in the 18th century\n"
   ]
  },
  {
   "cell_type": "markdown",
   "metadata": {},
   "source": [
    "## Exercise 5.6.\n",
    "\n",
    "We have a quote from E.M. Forster’s *A Room with a View* below and want to get a few statistics about it."
   ]
  },
  {
   "cell_type": "code",
   "execution_count": null,
   "metadata": {},
   "outputs": [],
   "source": [
    "quote = '''We cast a shadow on something wherever we stand, and it is no good \n",
    "moving from place to place to save things; because the shadow always follows. Choose \n",
    "a place where you won’t do harm - yes, choose a place where you won’t do very much \n",
    "harm, and stand in it for all you are worth, facing the sunshine.'''"
   ]
  },
  {
   "cell_type": "markdown",
   "metadata": {},
   "source": [
    "First we'd like to know the total number of words. Here we to a list of words, using the `split()` method. This function can convert a string into a list, based on the spaces that occur in this string. This `split()` method must be added after the the string variable, using a dot, as follows:\n",
    "\n",
    "```python\n",
    "quote.split()\n",
    "```\n",
    "\n",
    "Use this `split()` method to give information about the total number of words in this quote."
   ]
  },
  {
   "cell_type": "code",
   "execution_count": null,
   "metadata": {},
   "outputs": [],
   "source": []
  },
  {
   "cell_type": "markdown",
   "metadata": {},
   "source": [
    "Print the last word in the quote, and count the number of occurrences of the word “place”."
   ]
  },
  {
   "cell_type": "code",
   "execution_count": null,
   "metadata": {},
   "outputs": [],
   "source": [
    "# Print the last word\n",
    "\n",
    "\n",
    "# Count the number of occurrences of \"place\" in the quote\n"
   ]
  }
 ],
 "metadata": {
  "kernelspec": {
   "display_name": "Python 3.10.6 64-bit",
   "language": "python",
   "name": "python3"
  },
  "language_info": {
   "codemirror_mode": {
    "name": "ipython",
    "version": 3
   },
   "file_extension": ".py",
   "mimetype": "text/x-python",
   "name": "python",
   "nbconvert_exporter": "python",
   "pygments_lexer": "ipython3",
   "version": "3.10.6"
  },
  "vscode": {
   "interpreter": {
    "hash": "b0fa6594d8f4cbf19f97940f81e996739fb7646882a419484c72d19e05852a7e"
   }
  }
 },
 "nbformat": 4,
 "nbformat_minor": 2
}
