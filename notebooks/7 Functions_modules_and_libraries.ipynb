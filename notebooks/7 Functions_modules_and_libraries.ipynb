{
 "cells": [
  {
   "cell_type": "markdown",
   "metadata": {},
   "source": [
    "# 7. Functions, Modules and Libraries\n",
    "\n",
    "\n",
    "So far, we have mostly focused on small pieces of code that perform specific tasks. In a program, the same types of tasks may be performed several times in different sections of the code. In such situations, it can be efficient to reuse particular pieces of code.\n",
    "\n",
    "## Functions\n",
    "\n",
    "Imagine, for example, that you want to write a program in Python which can calculate the final grades earned by students who have followed a certain course. Such grades are normally calculated using a fixed formula (e.g. a mid-term assignment which counts for 40% and a final exam which counts for 60%). To calculate the final grades, this formula needs to be applied repeatedly with different values. In such a situation, it would be quite inefficient if you simply repeated the code that is needed for every single student. Fortunately, we can reuse fragments of code by defining them as functions.\n",
    "\n",
    "A *function* is essentially a set of statements which can be addressed collectively via a single name. A function may demand some *input*. The values that need to be provided as input are referred to as *parameters*. The function may also produce some *output*. The output is the result of the function.\n",
    "\n",
    "## Built-in functions\n",
    "\n",
    "Up to this point we have seen a few functions that Python provides 'out of the box':\n",
    "\n",
    "Up to this point, we have already encountered some of Python's built-in functions: the functions that Python provides 'out of the box'. The list below gives a number of examples.\n",
    "\n",
    "* `print()` takes one or more values and 'writes' these to the screen.\n",
    "* `len()` takes a string, list or dictionary and returns its length (i.e. the number of characters or items).\n",
    "* `float()` takes a numerical value (e.g. an integer) as input, and converts it into an integer. \n",
    "* `dict()` takes no inputs and returns an empty dictionary.\n",
    "* `sorted()` takes a list and returns a sorted copy of that list.\n",
    "\n",
    "In the tutorial we have already used some of these functions. When you use a function, you often say that you are *calling a function*. When you call a function, you always include the parentheses after the name of the function, even when there are no parameters."
   ]
  },
  {
   "cell_type": "code",
   "execution_count": null,
   "metadata": {},
   "outputs": [],
   "source": [
    "# Returns an empty dictionary\n",
    "dict()"
   ]
  },
  {
   "cell_type": "markdown",
   "metadata": {},
   "source": [
    "### Parameters and arguments\n",
    "\n",
    "When a function accepts an input, it is said to have a *parameter*.\n",
    "Functions can define zero or more parameters.\n",
    "Parameters can be made *optional* by setting default values.\n",
    "\n",
    "The in-built function `round()`, which rounds numbers, takes two parameters.\n",
    "The first parameter is a floating point number that needs to be round. The second parameter is the number of digits you would like to see following the decimal point."
   ]
  },
  {
   "cell_type": "code",
   "execution_count": null,
   "metadata": {},
   "outputs": [],
   "source": [
    "# Keep 2 decimals\n",
    "round(4.55892, 2)"
   ]
  },
  {
   "cell_type": "markdown",
   "metadata": {},
   "source": [
    "The term *parameter* is sometimes used interchangeably with the term *argument*. Strictly speaking, however, a *parameter* is a value used as input in the **definition** of the function (see below). An *argument* is the value that is sent to the function when it is called. "
   ]
  },
  {
   "cell_type": "markdown",
   "metadata": {},
   "source": [
    "You can find more information about these [built-in functions in the Python documentation](https://docs.python.org/3/library/functions.html).\n",
    "\n",
    "If you come across a function that you do not understand, you can also ask for more information using the built-in `help()` function. In this `help()` function, you need to provide the name of the function as an argument, **without the parentheses**."
   ]
  },
  {
   "cell_type": "code",
   "execution_count": null,
   "metadata": {},
   "outputs": [],
   "source": [
    "# Ask for documentation of the print function\n",
    "help(print)"
   ]
  },
  {
   "cell_type": "markdown",
   "metadata": {},
   "source": [
    "\n",
    "## Defining functions\n",
    "\n",
    "Next to working with in-built functions, it is also possible to write your own functions. Working with functions can often be very effective. It enables you to decompose specific problem into smaller sub-problems and into units which can be reused as often as needed. Follow the steps below to define a new function. \n",
    "\n",
    "* You begin the definition of the function with `def`.\n",
    "* After `def`, you firstly provide the name of the function. Function names need to follow the same rules as variable names. \n",
    "* The name of the function is followed by a set of parentheses. Within these parentheses, you mention the parameters: the values that the function works with. If there are two or more parameters, they need to be separated by commas. You always need to type in the parentheses, even if the function does not demand any parameters. In this latter case, you simply provide an empty set of parentheses. \n",
    "* Give a colon after the closing bracket. \n",
    "* Following the line that starts with `def`, you provide an indented block of code containing all the actual statements that make up the function. \n",
    "* If the function also produces *output*, this final result needs to be given after the keyword `return`. \n",
    "\n",
    "When you choose a name, make sure to make it descriptive and do not use an existing one or reserved keyword.\n",
    "The Python community has [guidelines for naming functions][pep8-func]. You are advised to come up with function names that are \"lowercase,\n",
    "with words separated by underscores to improve readability\".\n",
    "\n",
    "[pep8-func]: https://peps.python.org/pep-0008/#function-and-variable-names\n",
    "\n",
    "The cell below contains an example. The function that is programmed calculates the area of a rectangle, by multiplying the width and the height. "
   ]
  },
  {
   "cell_type": "code",
   "execution_count": null,
   "metadata": {},
   "outputs": [],
   "source": [
    "def calculate_area(width,height):\n",
    "    area = width * height\n",
    "    return area"
   ]
  },
  {
   "cell_type": "markdown",
   "metadata": {},
   "source": [
    "When you define a function, this does not immediately run the code. The cell above does not produce any output. Defining a function is similar to defining a variable. To run the code, you need to call the function, using actual values for the parameters that are required."
   ]
  },
  {
   "cell_type": "code",
   "execution_count": null,
   "metadata": {},
   "outputs": [],
   "source": [
    "print( calculate_area(5,6) )"
   ]
  },
  {
   "cell_type": "markdown",
   "metadata": {},
   "source": [
    "Once the function has been defined, it can be called, or invoked, in other locations in your program. When you call the function, the parameters named `width` and `height` will both be assigned values. The calculation inside the body of the function then operates on the specific values that you supply. The `print()` statement in the cell above ultimately outputs the result of the calculation. \n",
    "\n",
    "Remember that a function always returns something. If a function does not include a `return` statement, the function automatically returns the value `None`."
   ]
  },
  {
   "cell_type": "markdown",
   "metadata": {},
   "source": [
    "### Exercise 7.1. \n",
    "\n",
    "Write a function which can convert a given temperature in degrees Celcius into the equivalent in Fahrenheit. Use the following formula: F = 1.8 * C + 32.\n",
    "\n",
    "Once the function is ready, test it with a number of values. 20 degrees Celcius ought to be converted into 68 degrees Fahrenheit, and 37 degrees Celcius should equal 98.6 degrees Fahrenheit. "
   ]
  },
  {
   "cell_type": "code",
   "execution_count": null,
   "metadata": {},
   "outputs": [],
   "source": []
  },
  {
   "cell_type": "markdown",
   "metadata": {},
   "source": [
    "### Exercise 7.2.\n",
    "\n",
    "In a given university course, the final grade is determined by grade for essay and by the grade for a presentation. The presentation counts for 30% and the essay for 70%.\n",
    "\n",
    "Write two functions:\n",
    "\n",
    "1. `calculate_mark` should calculate the final grade based on a set of partial grades according to the given formula.\n",
    "   Grades must be rounded to integers. 5.4, for example, becomes 5 and 6.6 becomes 7.\n",
    "2. `pass_or_fail` should determine whether a given grade is at a pass level (i.e. equal to or higher than 6).\n",
    "   This function must return a string value, 'Pass' or 'Fail'."
   ]
  },
  {
   "cell_type": "code",
   "execution_count": null,
   "metadata": {},
   "outputs": [],
   "source": [
    "# Function calculate_mark determines the final mark, based on the marks for the essay and presentation\n",
    "\n",
    "\n",
    "# Function pass_or_fail determines 'Pass' or 'Fail', based on a single mark\n"
   ]
  },
  {
   "cell_type": "code",
   "execution_count": null,
   "metadata": {},
   "outputs": [],
   "source": [
    "# Let's try them:\n",
    "essay1 = 7.0\n",
    "presentation1 = 8.5\n",
    "final1 = calculate_mark(essay1, presentation1)\n",
    "# We expect the grade 7 (pass)\n",
    "print( f\"final grade: {final1} ({pass_or_fail(final1)})\" )\n",
    "\n",
    "essay2 = 4.5\n",
    "presentation2 = 5.5\n",
    "final2 = calculate_mark(essay2, presentation2)\n",
    "# We expect the grade 5 (fail)\n",
    "print( f\"final grade: {final2} ({pass_or_fail(final2)})\" )"
   ]
  },
  {
   "cell_type": "markdown",
   "metadata": {},
   "source": [
    "## Optional parameters\n",
    "\n",
    "Parameters can be made optional by specifying default values in the function definition. The function below can be used to shorten a string. Such a function can be useful if you want to display shortened titles in a library catalogue, for example. By default, the function selects the first twelve characters only. If a different length is needed, the required number of characters can be specified by the second parameter."
   ]
  },
  {
   "cell_type": "code",
   "execution_count": null,
   "metadata": {},
   "outputs": [],
   "source": [
    "def shorten_string( text , max_characters = 12 ):\n",
    "    return text[:max_characters] + ' [...]'\n",
    "\n",
    "print(shorten_string('Frankenstein, or, The Modern Prometheus'))\n",
    "print(shorten_string('The Secret Agent: A Simple Tale' , 16))"
   ]
  },
  {
   "cell_type": "markdown",
   "metadata": {},
   "source": [
    "The in-built function `round()`, which was discussed above, similarly works with optional parameters. The first parameter is the floating point number that needs to be rounded off. The second parameter is the number of digits you would like to see following the decimal point. The default value for this second parameter is the zero. If you supply only one parameter, the number is rounded off to a number with zero decimals, or, in other words, to an integer.     "
   ]
  },
  {
   "cell_type": "code",
   "execution_count": null,
   "metadata": {},
   "outputs": [],
   "source": [
    "float_number = 4.55892\n",
    "\n",
    "# Keep 2 decimals\n",
    "print( round(float_number, 2) )\n",
    "\n",
    "# Round to zero decimals and return an integer\n",
    "print( round(float_number) )"
   ]
  },
  {
   "cell_type": "markdown",
   "metadata": {},
   "source": [
    "### Exercise 7.3.\n",
    "\n",
    "Write a function which takes a Python list as a parameter. This list should contain numbers. The function should return the average value of the numbers in the list. Name the function `calculate_average()`. in the definition of this function, add an optional parameter which specifies the number of digits that are returned after the digit. The default value must be 1. \n",
    "\n",
    "To calculate the sum of all the numbers in a list, you can work with the `sum()` function. "
   ]
  },
  {
   "cell_type": "code",
   "execution_count": null,
   "metadata": {},
   "outputs": [],
   "source": [
    "numbers = [6,67,8,33,24,11,34,6,23,4,19,6,9,12,134,45,23]\n",
    "\n"
   ]
  },
  {
   "cell_type": "markdown",
   "metadata": {},
   "source": [
    "## Methods (and classes)\n",
    "\n",
    "When we worked with strings, lists and dictionaries, we referred to some *methods* that were 'part of' the variables, such as:\n",
    "\n",
    "- `my_string.title()` returns a copy of the string in 'Title Case';\n",
    "- `my_dictionary.get(a_key, \"Default value\")` returns the value associated to `a_key` or `\"Default value\"` if there is no `a_key`;\n",
    "- `my_list.count(value_to_count)` returns the number of times `value_to_count` is in the list.\n",
    "\n",
    "These methods are functions that only exist within the variable and usually operate on its value(s).\n",
    "To understand how this works, we will have to introduce classes and objects.\n",
    "\n",
    "When we introduced data types, we only mentioned a few.\n",
    "But we can create new data types too, by defining *classes*.\n",
    "A *class* combines variables and/or functions that are related.\n",
    "Within a class, variables are called *properties* (or *fields*) and functions are *methods*.\n",
    "After defining a class, you can use it as a data type.\n",
    "This may make your code more readable and understandable.\n",
    "For example, if you create a calendar application, it would be easier to work with an `Event` class that has properties for start time, end time and description, than to use a dictionary with these elements.\n",
    "This `Event` class can have methods for determining if it is a past event or future event, or if its end time is not before its start time.\n",
    "In the example below, we define a class `Book` with properties named `title` and `isbn`, and a method named `describe()`.\n",
    "\n",
    "This paradigm of creating classes with properties and methods is known as *object-oriented programming*.\n",
    "\n",
    "You use a class by *instantiating* it, i.e. creating an instance.\n",
    "This instance is called an *object*, and this object can be assigned to a variable.\n",
    "As we have seen before, you can access the properties and methods of the object using `object_name.property_name()` and `object_name.method_name()`.\n",
    "This notation is called the *period syntax*."
   ]
  },
  {
   "cell_type": "code",
   "execution_count": null,
   "metadata": {},
   "outputs": [],
   "source": [
    "class Book:\n",
    "    def __init__(self, title, isbn):\n",
    "        self.title = title\n",
    "        self.isbn = isbn\n",
    "\n",
    "    def describe(self):\n",
    "        print(\"Title: \" + self.title)\n",
    "        print(\"ISBN: \" + str(self.isbn))"
   ]
  },
  {
   "cell_type": "markdown",
   "metadata": {},
   "source": [
    "*Note: this is advanced material*\n",
    "\n",
    "This class has two methods, `__init__` and `describe`.\n",
    "The first parameter of a method is always `self` and refers to the instance of the class that the method is being called on.\n",
    "Through the `self` reference, you can refer to an object's properties (`self.title` and `self.isbn` in this case) and methods.\n",
    "\n",
    "The `__init__` method is special: it is called when you create *a new Book*.\n",
    "Below is how you would do that."
   ]
  },
  {
   "cell_type": "code",
   "execution_count": null,
   "metadata": {},
   "outputs": [],
   "source": [
    "title1 = Book(\"A Room with a View\", \"978-1420925432\")\n",
    "title1.describe()"
   ]
  },
  {
   "cell_type": "markdown",
   "metadata": {},
   "source": [
    "Here we created a new `Book`, and assigned it to the variable `title1`.\n",
    "The `__init__` method defines two parameters, `title` and `isbn`, so we need to provide values to match these.\n",
    "Now that we have a `Book` object called `title1`, we can call its method `describe()`, which prints a description based on this object's properties.\n",
    "\n",
    "We have only touched the surface of object-oriented programming.\n",
    "But perhaps you can see how strings, lists and dictionaries have methods: they are instances of classes.\n",
    "For example, all strings are saved as instances of the general `str` (string) class.\n",
    "This class defines the methods that we used, such as `lower()`, `strip()` and `index()`.\n",
    "\n",
    "\n",
    "## Combining functionality: modules, packages and the Library\n",
    "\n",
    "*Note: the terms in this section are easily confused.*\n",
    "\n",
    "When you have a number of functions or classes that perform similar or related activities,\n",
    "these can all be placed together in a Python file.\n",
    "Such a file containing related functions, statements or classes is called a *module*.\n",
    "Modules can be *imported* into scripts (or other modules) to access and reuse their functionality.\n",
    "<!-- A module, in short, is a file with code that you can reuse across different programs.  -->\n",
    "\n",
    "When you install Python, you get a lot of modules 'in the box'.\n",
    "This collection of preinstalled modules is called the\n",
    "[*Python Standard Library*](https://docs.python.org/3/library/index.html).\n",
    "Earlier in the tutorial we encountered the `math` and `random` modules,\n",
    "which contain mathematical functions and constants and functions for random numbers respectively,\n",
    "but there are many more.\n",
    "\n",
    "Python has multiple meanings for the word 'package'.\n",
    "For our purposes, a *package* is a collection of related modules,\n",
    "often distributed over the web.\n",
    "We will get back to this later.\n",
    "\n",
    "## Importing (from) modules\n",
    "\n",
    "To access functionality in a module, we need to *import* it using the `import` keyword.\n",
    "\n",
    "The Standard Library has a module named `os` that contains various functions for working with files and folders on your operating system.\n",
    "To work with this module, you need to import it:"
   ]
  },
  {
   "cell_type": "code",
   "execution_count": null,
   "metadata": {},
   "outputs": [],
   "source": [
    "import os"
   ]
  },
  {
   "cell_type": "markdown",
   "metadata": {},
   "source": [
    "`os` stands for 'Operating System'. This module will be discussed in more detail in the section focusing on working with files and directories.\n",
    "\n",
    "Once imported, all the functions and the classes that are defined within this module can be used via the period syntax. The function `listdir()`, for instance, can be invoked using the code below:"
   ]
  },
  {
   "cell_type": "code",
   "execution_count": null,
   "metadata": {},
   "outputs": [],
   "source": [
    "files = os.listdir('Solutions')\n",
    "files"
   ]
  },
  {
   "cell_type": "markdown",
   "metadata": {},
   "source": [
    "\n",
    "\t\n",
    "  \n",
    "\n",
    "  \n",
    "Alternatively, it is also possible to import individual functions from a module.\n",
    "\n",
    "\n",
    "  \n",
    "\n",
    "\t\n",
    "\n"
   ]
  },
  {
   "cell_type": "code",
   "execution_count": null,
   "metadata": {},
   "outputs": [],
   "source": [
    "from os import listdir"
   ]
  },
  {
   "cell_type": "markdown",
   "metadata": {},
   "source": [
    "This second way of importing code has the advantage that it is no longer necessary to use the period syntax. The function can then be used without referencing the name of the module:\n"
   ]
  },
  {
   "cell_type": "code",
   "execution_count": null,
   "metadata": {},
   "outputs": [],
   "source": [
    "files = listdir('Solutions')"
   ]
  },
  {
   "cell_type": "markdown",
   "metadata": {},
   "source": [
    "## Finding functionality\n",
    "\n",
    "Next to the Standard Library there are hundreds of thousands of projects that you can install from the web.\n",
    "Many people publish their code (in modules) as packages on the [Python Package Index](https://pypi.org/).\n",
    "With the amount of packages available, there is a good chance that someone else has already published functionality that you could reuse.\n",
    "\n",
    "In practice, you often start with packages that are well-known in general, or that may be recommened by your colleagues.\n",
    "That not only makes getting started easier, but you can also be reasonably certain that the packages do not contain malware.\n",
    "It is rare, but unfortunately it happens.\n",
    "\n",
    "Some well known packages (most of which we have worked with):\n",
    "\n",
    "- [NumPy](https://numpy.org) for working with multi-dimensional arrays of numbers\n",
    "- [Sympy](https://www.sympy.org) for working with symbolic mathematics\n",
    "- [Tensorflow](https://tensorflow.org/) and [PyTorch](https://pytorch.org/) for machine learning with neural networks\n",
    "- [OpenCV](https://opencv.org/) for image manipulation and analysis\n",
    "- [spaCy](https://spacy.io) and [nltk](https://www.nltk.org/) for text analysis\n",
    "- [matplotlib](https://matplotlib.org/), [Bokeh](https://bokeh.org/) and [seaborn](https://seaborn.pydata.org/) for data visualisation\n",
    "\n",
    "Each of these projects, as well as the others on the PyPI, can often be installed using a single command, like:\n",
    "```sh\n",
    "pip install nltk\n",
    "```\n",
    "We will not go deeper into installing these packages now.\n",
    "If you would like to use any of these, you can usually find installation instructions on the project website."
   ]
  },
  {
   "cell_type": "markdown",
   "metadata": {},
   "source": [
    "### Exercise 7.4.\n",
    "\n",
    "Import the math module, as follows: \n",
    "\n",
    "```\n",
    "from math import *\n",
    "```\n",
    "\n",
    "This command imports all the available functions from the `math` module. Use the functions `log10()`, `pow()`, `sqrt()` and `cos()` to generate the following numbers:\n",
    "\n",
    "* The base-10 logarithm of 5.\n",
    "* 3 raised to the power of 4\n",
    "* The square root of 144\n",
    "* The cosine of 60 radians."
   ]
  },
  {
   "cell_type": "code",
   "execution_count": null,
   "metadata": {},
   "outputs": [],
   "source": [
    "# Import the library\n",
    "\n",
    "\n",
    "# Print the four numbers\n"
   ]
  },
  {
   "cell_type": "markdown",
   "metadata": {},
   "source": [
    "### Exercise 7.5.\n",
    "\n",
    "Following Pythagoras' theorem (A<sup>2</sup> + B<sup>2</sup> = C<sup>2</sup>), calculate the length of the hypothenuse in a right trangle in which the other two sides have a length of 6 and 7. Make use of the math module. "
   ]
  },
  {
   "cell_type": "code",
   "execution_count": null,
   "metadata": {},
   "outputs": [],
   "source": []
  }
 ],
 "metadata": {
  "kernelspec": {
   "display_name": "Python 3 (ipykernel)",
   "language": "python",
   "name": "python3"
  },
  "language_info": {
   "codemirror_mode": {
    "name": "ipython",
    "version": 3
   },
   "file_extension": ".py",
   "mimetype": "text/x-python",
   "name": "python",
   "nbconvert_exporter": "python",
   "pygments_lexer": "ipython3",
   "version": "3.7.9"
  },
  "vscode": {
   "interpreter": {
    "hash": "b0fa6594d8f4cbf19f97940f81e996739fb7646882a419484c72d19e05852a7e"
   }
  }
 },
 "nbformat": 4,
 "nbformat_minor": 2
}
