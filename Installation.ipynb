{
 "cells": [
  {
   "cell_type": "markdown",
   "metadata": {},
   "source": [
    "# Installation guidelines\n",
    "\n",
    "## Install Python\n",
    "\n",
    "Please make sure that you have installed a recent version of Python (Python 3.7 or higher) before starting this tutorial. \n",
    "\n",
    "We strongly advise you to install the Anaconda distribution of Python 3. The installation files can be found at the following address:\n",
    "\n",
    "https://www.anaconda.com/distribution/#download-section\n",
    "\n",
    "On this page, you can find separate instructions for Windows, Mac and Linux. Next to Python itself, the Anaconda distribution also contains Jupyter Notebook, an environment that can be used to document and to execute Python code. We will use Jupyter Notebooks in this course.\n",
    "\n",
    "See Anaconda's installation instructions for some important points to consider during installation. For example, the installation path must not contain spaces. If you want to use Anaconda Python from the command line, it helps to add Anaconda to your PATH during the installation, even though this is not recommended by the installer.\n",
    "\n",
    "If the installation process was successful, you should be able to open an application named 'Anaconda Navigator'. The opening page of this application looks as follows:\n",
    "\n",
    "\n",
    "<img src=\"https://docs.anaconda.com/_images/nav-tabs.png\"/>\n",
    "\n",
    "Anaconda Navigator is a platform whioch can be used to to launch other applications, such as 'Jupyter Notebook' or 'Spyder'. \n",
    "\n",
    "To test whether everything works well, launch 'Jupyter Notebook' using Anaconda Navigator. Jupyter Notebook is an interactive environment in which you can work with so-called notebooks. The application should open in a web browser. \n",
    "\n",
    "When you open Jupyter Notebook, you should initially see the application's dashboard. \n",
    "\n",
    "<img src=\"https://jupyter-notebook.readthedocs.io/en/stable/_images/dashboard_files_tab.png\"/>\n",
    "\n",
    "This dashboard displays a specific driectory on your own machine. The folders and files that are mentioned will probably be different from those shown in the screenshot above. \n",
    "\n",
    "From the directory you see, you can hopefully navigate to the folder containing all the notebooks you downloaded for this tutorial. Try to open the notebook named '**Jupyter_notebook_basics.ipynb**' to test whether everything works as expected. \n",
    "\n",
    "\n",
    "If you experience difficulties during the installation of this software, do not hesitate to contact [the CDS via email](mailto:cds@library.leidenuniv.nl). If necessary, you can make an appointment and ask us to help you install the software. \n"
   ]
  },
  {
   "cell_type": "code",
   "execution_count": null,
   "metadata": {},
   "outputs": [],
   "source": []
  }
 ],
 "metadata": {
  "kernelspec": {
   "display_name": "Python 3 (ipykernel)",
   "language": "python",
   "name": "python3"
  },
  "language_info": {
   "codemirror_mode": {
    "name": "ipython",
    "version": 3
   },
   "file_extension": ".py",
   "mimetype": "text/x-python",
   "name": "python",
   "nbconvert_exporter": "python",
   "pygments_lexer": "ipython3",
   "version": "3.7.9"
  }
 },
 "nbformat": 4,
 "nbformat_minor": 2
}
