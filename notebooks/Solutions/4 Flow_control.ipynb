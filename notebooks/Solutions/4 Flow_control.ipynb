{
 "cells": [
  {
   "cell_type": "markdown",
   "metadata": {},
   "source": [
    "# 4. Flow control\n"
   ]
  },
  {
   "cell_type": "markdown",
   "metadata": {},
   "source": [
    "### Exercise 4.1.\n",
    "\n",
    "Create a variable named `hour` and asign it a value in between 0 and 23. Assuming that this variable represents a given time, print a message that is appropriate for the part of the day this hour is in. If the variable `hour` has value 10, for instance, the code should print `'Good morning!'` and if `hour` has value 23, the code should print `'Good night!'` "
   ]
  },
  {
   "cell_type": "code",
   "execution_count": null,
   "metadata": {},
   "outputs": [],
   "source": [
    "hour = 21\n",
    "\n",
    "print( f\"It is now {hour} o'clock\" )\n",
    "\n",
    "# We check for two conditions at once using `and`\n",
    "if hour > 6 and hour < 12:\n",
    "    print(\"Good morning!\")\n",
    "elif hour < 17:\n",
    "    print(\"Good afternoon!\")\n",
    "elif hour < 23:\n",
    "    print(\"Good evening!\")\n",
    "else:\n",
    "    print(\"Good night!\")"
   ]
  },
  {
   "cell_type": "markdown",
   "metadata": {},
   "source": [
    "Note that we expect the value of `hour` to be reasonable for our code to work as expected.\n",
    "For example, we don't check whether `hour` is at least 0 or at most 23.\n",
    "It is advisable to include these checks in code that you rely on.\n",
    "\n",
    "In case you wondered if you can make the comparisons more compact, you can!\n",
    "You can compare a number to two numbers at the same time, as demonstrated below."
   ]
  },
  {
   "cell_type": "markdown",
   "metadata": {},
   "source": [
    "### Exercise 4.2.\n",
    "\n",
    "Strings can be viewed as collections of characters. When you iterate across a string using a `for` loop, you will receive each individual character in sequence. Try to write code which print all each characters of a string on a separate line. "
   ]
  },
  {
   "cell_type": "code",
   "execution_count": null,
   "metadata": {},
   "outputs": [],
   "source": [
    "text = 'Flow control'\n",
    "\n",
    "for t in text:\n",
    "    print(t)"
   ]
  },
  {
   "cell_type": "markdown",
   "metadata": {},
   "source": [
    "### Exercise 4.3.\n",
    "\n",
    "Define a list ranging from 1 to 100 using the `range()` function. Next, print the cumulative sum of all the numbers in this collection of numbers."
   ]
  },
  {
   "cell_type": "code",
   "execution_count": null,
   "metadata": {},
   "outputs": [],
   "source": [
    "cumulative_sum = 0\n",
    "\n",
    "for i in range(1,101):\n",
    "    cumulative_sum += i\n",
    "    \n",
    "print(cumulative_sum)"
   ]
  },
  {
   "cell_type": "markdown",
   "metadata": {},
   "source": [
    "### Exercise 4.4.\n",
    "\n",
    "Building on the code you developed for exercise 4.2, try to write code which can reverse the order of the characters in a given string. \n",
    "\n",
    "You can test your code with the following examples:\n",
    "\n",
    "\n",
    "| Input | Output |\n",
    "| :-------| :--------|\n",
    "| time  | emit  |\n",
    "| drawer | reward |\n",
    "| stressed | desserts |\n",
    "\n",
    "\n",
    "\n"
   ]
  },
  {
   "cell_type": "code",
   "execution_count": null,
   "metadata": {},
   "outputs": [],
   "source": [
    "input_string = 'drawer' \n",
    "output_string = ''\n",
    "\n",
    "for character in input_string:\n",
    "    output_string = character + output_string \n",
    "    \n",
    "print(output_string)"
   ]
  },
  {
   "cell_type": "markdown",
   "metadata": {},
   "source": [
    "### Exercise 4.5.\n",
    "\n",
    "Program a small guessing game. In this game, the player needs to guess a number in between 1 and 50. You can use the code below as a basis. \n",
    "\n",
    "The `randint()` method from `random` can be used, firstly, to generate a random integer. \n",
    "\n",
    "Use the function `input()` to request a value from the user. The function `int()` needs to be used to convert the input into an integer.\n",
    "\n",
    "When the user enters a value which is too low or too high, this information is communicated to the user via a print statement. To test whether the number that is guesses is correct, you can work with the equality (`==`) and the inequality (`!=`) operators.\n",
    "\n",
    "Hint: you will need to combine the different kinds of flow control to complete the whole game.\n",
    "Start by checking if the guessed number is correct and making sure that this part of the code works as you expect.\n",
    "When that works, think which parts of the code need to be repeated to let the player guess until the number was found."
   ]
  },
  {
   "cell_type": "code",
   "execution_count": null,
   "metadata": {},
   "outputs": [],
   "source": [
    "\n",
    "from random import randint\n",
    "\n",
    "max_number = 50\n",
    "number_to_guess = randint(0,max_number)\n",
    "\n",
    "guess = int( input( f\"Guess a number in between 1 and {max_number}: \") )\n",
    "\n",
    "while guess != number_to_guess:\n",
    "\n",
    "    if guess > number_to_guess:\n",
    "        print(\"Lower!\")\n",
    "    elif guess < number_to_guess: # this could be 'else:'\n",
    "        print(\"Higher!\")\n",
    "    guess = int( input(\"Guess again ... \\n\") )\n",
    "\n",
    "print( f\"The correct number is indeed {number_to_guess}.\" )"
   ]
  }
 ],
 "metadata": {
  "kernelspec": {
   "display_name": "Python 3 (ipykernel)",
   "language": "python",
   "name": "python3"
  },
  "language_info": {
   "codemirror_mode": {
    "name": "ipython",
    "version": 3
   },
   "file_extension": ".py",
   "mimetype": "text/x-python",
   "name": "python",
   "nbconvert_exporter": "python",
   "pygments_lexer": "ipython3",
   "version": "3.7.9"
  },
  "vscode": {
   "interpreter": {
    "hash": "b0fa6594d8f4cbf19f97940f81e996739fb7646882a419484c72d19e05852a7e"
   }
  }
 },
 "nbformat": 4,
 "nbformat_minor": 2
}
