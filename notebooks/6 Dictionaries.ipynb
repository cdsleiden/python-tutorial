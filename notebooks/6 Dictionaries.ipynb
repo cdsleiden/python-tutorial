{
 "cells": [
  {
   "cell_type": "markdown",
   "metadata": {},
   "source": [
    "\n",
    "# 6. Dictionaries\n",
    "\n",
    "Like a list, a dictionary is a data structure which can be used to collect multiple values. While the indices of lists consist of numbers which are assigned automatically, programmers need to define these indices themselves. The indices of dictionaries can be of any value type. \n",
    "\n",
    "## Creating a dictionary\n",
    "\n",
    "A dictionary can be created using the `dict()` function. This function results in an empty dictionary. Elements can be added to the dictionary by using the bracket operator containing the index. The value associated with this index needs to be given after the assignment operator. Importantly, each of these indices must be unique. \n",
    "\n",
    "This data structure can used to store pairs of keys and values. "
   ]
  },
  {
   "cell_type": "code",
   "execution_count": null,
   "metadata": {},
   "outputs": [],
   "source": [
    "data = dict()\n",
    "\n",
    "data['firstName'] = 'William'\n",
    "data['lastName'] = 'Shakespeare'\n",
    "data['yearOfBirth'] = 1564\n",
    "\n",
    "print( data['firstName'] + ' ' + data['lastName'] )\n",
    "## This prints 'William Shakespeare'\n"
   ]
  },
  {
   "cell_type": "markdown",
   "metadata": {},
   "source": [
    "## Non-existing keys\n",
    "\n",
    "As can be seen in the code above, the individual values in dictionaries can be accessed by using their indices. When you mention an index that does not actually exist, however, the code produces an error. It is evidently impossible to make use of an index which does not exist. To avoid such error messages, you can make use of the get() method. This method requires two values. Firstly, you need to mention the index of the element that you want to retrieve. Secondly, you have to provide a default value which should be returned when the index that was supplied does not exist. "
   ]
  },
  {
   "cell_type": "code",
   "execution_count": null,
   "metadata": {},
   "outputs": [],
   "source": [
    "print( data.get( 'yearOfDeath' , 'NULL' ) )\n",
    "# prints 'NULL' if the variable data['yearOfDeath'] has not been set yet.\n",
    "\n",
    "print( data.get( 'numberOfChildren' , 0 ) )\n",
    "# prints 0 if the variable data['numberOfChildren'] has not been set yet."
   ]
  },
  {
   "cell_type": "markdown",
   "metadata": {},
   "source": [
    "Instead of starting with an empty list, and adding items one by one, it is also possible to populate dictionaries upon their creation using a syntax that makes use of curly brackets. Within this brackets, you need to list all the needed key and value pairs. The keys and the values need to be separated by a colon. All individual items in the dictionary (i.e. the full key and value pairs) need to separated by a comma. The example below offers an example."
   ]
  },
  {
   "cell_type": "code",
   "execution_count": null,
   "metadata": {},
   "outputs": [],
   "source": [
    "capitals = { \n",
    "    'France':'Paris', \n",
    "    'Spain':'Madrid',\n",
    "    'The Netherlands' : 'Amsterdam' , \n",
    "    'Belgium':'Brussel' , \n",
    "    'Italy':'Rome',\n",
    "    'Germany':'Berlin',\n",
    "    'Denmark':'Copenhagen'\n",
    "} "
   ]
  },
  {
   "cell_type": "markdown",
   "metadata": {},
   "source": [
    "## Navigating a dictionary\n",
    "\n",
    "As is the case for lists, you can list all the elements in a dictionary via the `for` keyword. "
   ]
  },
  {
   "cell_type": "code",
   "execution_count": null,
   "metadata": {},
   "outputs": [],
   "source": [
    "for country in sorted(capitals):\n",
    "    print( f'The capital of {country} is {capitals[country]}.' )"
   ]
  },
  {
   "cell_type": "markdown",
   "metadata": {},
   "source": [
    "## Sorting a dictionary\n",
    "\n",
    "By default, all the items in this dictionary are shown in the order in which they were added to the dictionary.  \n",
    "\n",
    "When you have created a dictionary named `capitals`, using the code above, it can be sorted by index using the in-built `sorted()` function. Strings are sorted alphabetically and integers and floats are sorted numerically. "
   ]
  },
  {
   "cell_type": "code",
   "execution_count": null,
   "metadata": {},
   "outputs": [],
   "source": [
    "for country in sorted(capitals):\n",
    "    print( f'The capital of {country} is {capitals[country]}.' )"
   ]
  },
  {
   "cell_type": "markdown",
   "metadata": {},
   "source": [
    "# Exercises"
   ]
  },
  {
   "cell_type": "markdown",
   "metadata": {},
   "source": [
    "## Exercise 6.1.\n",
    "\n",
    "The code below creates a new dictionary. This dictionary connects a number of ISBNs to the titles of the books they identify.\n",
    "\n",
    "```\n",
    "isbn = {\n",
    "9780143105985 : 'White Noise' ,\n",
    "9780241984536 : 'Libra' ,\n",
    "9781925480665 : 'Mao II' ,\n",
    "9781447289395 : 'Underworld' ,\n",
    "9780743595728 : 'The Body Artist' ,\n",
    "9781925480665 : 'Cosmopolis' ,\n",
    "9780330524919 : 'Falling man' ,\n",
    "9781439169971 : 'Point Omega'\n",
    "}\n",
    "```\n",
    "\n",
    "* Add the novel Zero K to the dictionary. This novel has ISBN13 9781501138072.\n",
    "* Write some code which can print the title that corresponds to ISBN 9781447289395. \n",
    "* Print a list of all the novels. Display both the ISBN and the title. "
   ]
  },
  {
   "cell_type": "code",
   "execution_count": null,
   "metadata": {},
   "outputs": [],
   "source": [
    "# Create the dictionary\n",
    "isbn = {\n",
    "}\n",
    "\n",
    "# Add the novel\n",
    "\n",
    "\n",
    "# Print the title of the book with the ISBN 9781447289395\n",
    "\n",
    "\n",
    "# Print all ISBNs and titles\n"
   ]
  },
  {
   "cell_type": "markdown",
   "metadata": {},
   "source": [
    "## Exercise 6.2.\n",
    "\n",
    "Using the dictionary `data` below, print the following sentence: “Louis Elsevier was a printer. He was born in 1540 in Leuven and died in 1617 in Leiden.”\n",
    "\n",
    "```\n",
    "data = dict()\n",
    "\n",
    "data[\"firstName\"] = 'louis'\n",
    "data[\"lastName\"] = 'elsevier'\n",
    "data[\"profession\"] = 'printer'\n",
    "data[\"yob\"] = 1540\n",
    "data[\"yod\"] = 1617\n",
    "data[\"pob\"] = 'leuven'\n",
    "data[\"pod\"] = 'leiden'\n",
    "```"
   ]
  },
  {
   "cell_type": "code",
   "execution_count": null,
   "metadata": {},
   "outputs": [],
   "source": []
  },
  {
   "cell_type": "markdown",
   "metadata": {},
   "source": [
    "## Exercise 6.3.\n",
    "\n",
    "Copy the code below in your code editor. \n",
    "\n",
    "* Using the dictionary `eu_capitals`, print a sentence which gives information about the current number of countries in the EU. \n",
    "* Add some code which can print a list of all the countries of the EU in alphabetical order. \n",
    "* Finally, for each country, print the following sentence: \"The capital of [ *country* ] is [ *capital* ].\"  \n",
    "\n",
    "```\n",
    "eu_capitals = {\n",
    "'Italy':'Rome' , 'Luxembourg':'Luxembourg' ,\n",
    "'Belgium':'Brussels' , 'Denmark':'Copenhagen' ,\n",
    "'Finland':'Helsinki' , 'France':'Paris' ,\n",
    "'Slovakia':'Bratislava' , 'Slovenia':'Ljubljana' ,\n",
    "'Germany':'Berlin' , 'Greece':'Athens' ,\n",
    "'Ireland':'Dublin' , 'Netherlands':'Amsterdam' ,\n",
    "'Portugal':'Lisbon' , 'Spain':'Madrid' ,\n",
    "'Sweden':'Stockholm' ,\n",
    "'Cyprus':'Nicosia' , 'Lithuania':'Vilnius' , 'Czech\n",
    "Republic':'Prague' , 'Estonia':'Tallin' ,\n",
    "'Hungary':'Budapest' , 'Latvia':'Riga' ,\n",
    "'Malta':'Valetta' , 'Austria':'Vienna' ,\n",
    "'Poland':'Warsaw' , 'Croatia':'Zagreb'\n",
    ",'Romania':'Bucharest' , 'Bulgaria':'Sofia' }\n",
    "```"
   ]
  },
  {
   "cell_type": "code",
   "execution_count": 1,
   "metadata": {},
   "outputs": [],
   "source": [
    "# Create the dictionary\n",
    "eu_capitals = {\n",
    "    \n",
    "}\n",
    "\n",
    "# How many countries are in the EU dictionary?\n",
    "\n",
    "\n",
    "# Print the list of countries in alphabetical order\n",
    "\n",
    "\n",
    "# Print the capitals of these countries\n"
   ]
  },
  {
   "cell_type": "code",
   "execution_count": null,
   "metadata": {},
   "outputs": [],
   "source": []
  }
 ],
 "metadata": {
  "kernelspec": {
   "display_name": "Python 3 (ipykernel)",
   "language": "python",
   "name": "python3"
  },
  "language_info": {
   "codemirror_mode": {
    "name": "ipython",
    "version": 3
   },
   "file_extension": ".py",
   "mimetype": "text/x-python",
   "name": "python",
   "nbconvert_exporter": "python",
   "pygments_lexer": "ipython3",
   "version": "3.7.9"
  }
 },
 "nbformat": 4,
 "nbformat_minor": 2
}
