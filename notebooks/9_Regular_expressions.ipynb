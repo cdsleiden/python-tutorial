{
 "cells": [
  {
   "cell_type": "markdown",
   "metadata": {},
   "source": [
    "\n",
    "\n",
    "# 9. Regular Expressions\n",
    "\n",
    "\n"
   ]
  },
  {
   "cell_type": "markdown",
   "metadata": {},
   "source": [
    "Regular expressions can be used to search for specific patterns within texts. When you search using patterns, rather than search terms, you can generally search in much more advanced ways. You can search for words with specific types of characters or for words containing a specific number fo characters, for instance. \n",
    "\n",
    "Such regular expressions typically consist of a sequence of symbols which specify a search action. Once defined, such regular expressions can be matched against actual strings. \n",
    "\n",
    "Regular expressions can be constructed using literal characters and so-called metacharacters. The simple regular expression ‘flower’, for instance, only contains literal characters. It can be used to search for the six characters that are mentioned. Metacharacters, by contrast, are characters with a special meaning. They represent specific types of characters, such as characters in lower case, digits, spaces or tabs. When you combine literal characters and metacharacters, you can search for patterns rather than for literal strings or keywords.  \n",
    "\n",
    "## re.search()\n",
    "\n",
    "The standard installation of Python includes a useful module called `re`, which can be used to search for text fragments on the basis of regular expressions. To work with the module, you firstly need to import it. The module `re` contains a method named `search()`, which minimally requires two parameters. The first parameter is the pattern to search for, and the second parameter is the string in which you want to search. The method returns the value `True` if the pattern which is mentioned occurs in the string which is provided as the second parameter. \n",
    "\n",
    "The listing below offers an example. The regular expression, in this case, is simply a string consisting of literal characters. The code below tries to establish whether the string that is mentioned as the first parameter of `re.search()'`occurs in the sentence which is mentioned as the second parameter."
   ]
  },
  {
   "cell_type": "code",
   "execution_count": null,
   "metadata": {},
   "outputs": [],
   "source": [
    "import re\n",
    "\n",
    "sentence = 'Mrs. Dalloway said she would buy the flowers herself.'\n",
    "\n",
    "if re.search( 'flower' , sentence ):\n",
    "    print('The pattern was found in the sentence!')\n",
    "    "
   ]
  },
  {
   "cell_type": "markdown",
   "metadata": {},
   "source": [
    "## Meta-characters\n",
    "\n",
    "Next to literal characters, the following metacharacters may be used:\n",
    "\n",
    "<table style=\"text-align: left; font-size: 1.0em;  \">\n",
    "  <tr>\n",
    "    <th style=\"text-align: center; \">Metacharacter</th>\n",
    "    <th style=\"text-align: left; padding-right: 40%;\">Description</th>\n",
    "  </tr>\n",
    "  <tr style=\"text-align: left; \">\n",
    "    <td style=\"text-align: center; \">\\w</td>\n",
    "    <td >Any alphanumeric character: all 26 alphabetical characters of the Latin alphabet, both in upper case and in lower case, all numbers and the underscore.</td>\n",
    "  </tr>\n",
    "  <tr style=\"text-align: left; \">\n",
    "    <td style=\"text-align: center; \" >\\d</td>\n",
    "    <td >Digits.</td>\n",
    "  </tr>\n",
    "  <tr>\n",
    "    <td style=\"text-align: center; \">.</td>\n",
    "    <td style=\"text-align: left; padding-right: 40%;\">Any character, except the newline.</td>\n",
    "  </tr>\n",
    "  <tr style=\"text-align: left; \">\n",
    "    <td style=\"text-align: center; \">\\s</td>\n",
    "    <td >White space: the space, a tab or a newline character.</td>\n",
    "  </tr>\n",
    "  <tr style=\"text-align: left; \">\n",
    "    <td style=\"text-align: center; \">[A-Z]</td>\n",
    "    <td >Any upper case character.</td>\n",
    "  </tr>\n",
    "  <tr style=\"text-align: left; \">\n",
    "    <td style=\"text-align: center; \">[A-Za-z]</td>\n",
    "    <td >Any upper case or lower case character.</td>\n",
    "  </tr>\n",
    "  <tr style=\"text-align: left; \">\n",
    "    <td style=\"text-align: center; \">[...]</td>\n",
    "    <td >If only a limited number of characters are allowed on a specific position in a string, the characters that are allowed can be supplied in square brackets (i.e. on the place of the dots).</td>\n",
    "  </tr>\n",
    "</table>\n",
    "\n",
    "The square brackets can be useful if you need to search for words which can be spelled in different ways. To localize the word ‘digitise’ in a text, for instance, either in its British or in its American spelling, you may use the regular expression `digiti[sz]e`.\n",
    "\n",
    "## Quantifiers\n",
    "\n",
    "You can also use quantifiers to specify the number of times a character or a pattern should occur.\n",
    "\n",
    "<table style=\"text-align: left; font-size: 1.0em; \">\n",
    "  <tr>\n",
    "    <th style=\"text-align: center; \">Quantifier</th>\n",
    "    <th style=\"text-align: left; padding-right: 40%;\">Description</th>\n",
    "  </tr>\n",
    "  <tr>\n",
    "    <td style=\"text-align: center; \">{n,m}</td>\n",
    "    <td style=\"text-align: left; padding-right: 40%;\">Pattern must occur a least n times, at most m times</td>\n",
    "  </tr>\n",
    "  <tr>\n",
    "    <td style=\"text-align: center; \">{n,}</td>\n",
    "    <td style=\"text-align: left; padding-right: 40%;\">At least n times.</td>\n",
    "  </tr>\n",
    "  <tr>\n",
    "    <td style=\"text-align: center; \">{n}</td>\n",
    "    <td style=\"text-align: left; padding-right: 40%;\">Exactly n times.</td>\n",
    "  </tr>\n",
    "  <tr>\n",
    "    <td style=\"text-align: center; \">?</td>\n",
    "    <td style=\"text-align: left; padding-right: 40%;\">Is the same as {0,1}</td>\n",
    "  </tr>\n",
    "  <tr>\n",
    "    <td style=\"text-align: center; \">+</td>\n",
    "    <td style=\"text-align: left; padding-right: 40%;\">Is the same as {1,}</td>\n",
    "  </tr>\n",
    "  <tr>\n",
    "    <td style=\"text-align: center; \">*</td>\n",
    "    <td style=\"text-align: left; padding-right: 40%;\">Is the same as {0,}</td>\n",
    "  </tr>\n",
    "</table>\n",
    "\n",
    "The code below contains a number of examples of regular expressions containing such metacharacters and quantifiers."
   ]
  },
  {
   "cell_type": "code",
   "execution_count": null,
   "metadata": {},
   "outputs": [],
   "source": [
    "import re\n",
    "\n",
    "sentence = \"Keats's 'Ode on a Grecian Urn' was written in 1819.\"\n",
    "\n",
    "if re.search( r'\\d{4}' , sentence ):\n",
    "    print('Found')\n",
    "## Matches '1819'\n",
    "\n",
    "\n",
    "hits = re.findall( r'[aeuio]n' , sentence )\n",
    "for h in hits:\n",
    "    print(h)\n",
    "## Four matches: 'on', 'an', 'en' and 'in'\n",
    "\n"
   ]
  },
  {
   "cell_type": "markdown",
   "metadata": {},
   "source": [
    "In the code above, all the regular expressions are preceded by the character ‘r’, which, in this context, indicates that the strings defining the regular expressions make use of the ‘raw string’ notation. In short, it means that all characters need to be read literally, in their ‘raw’ form. You are advised to use the ‘r’ in front of the string whenever the regular expression contains metacharacters such as ‘\\w’ or ‘\\d’.\n",
    "\n",
    "The fragment above also illustrates the function of the `findall()` method from the `re` module. This function creates a list containing all fragments from the string that match the regular expression. The `re.search()` funcion, by contrast, only produces a Boolean value, depending on whether the regular expression matches the string.\n",
    "\n",
    "## Anchors\n",
    "\n",
    "Finally, you can also use so-called anchors in regular expression. Anchors do not represent actual characters, but only locations within strings.\n",
    "\n",
    "<table style=\"text-align: left; font-size: 1.0em; \">\n",
    "  <tr>\n",
    "    <th style=\"text-align: center; \">Symbol</th>\n",
    "    <th style=\"text-align: left; padding-right: 40%;\">Description</th>\n",
    "  </tr>\n",
    "  <tr>\n",
    "    <td style=\"text-align: center; \">\\b</td>\n",
    "    <td style=\"text-align: left; padding-right: 40%;\">A word boundary.</td>\n",
    "  </tr>\n",
    "  <tr>\n",
    "    <td style=\"text-align: center; \">^</td>\n",
    "    <td style=\"text-align: left; padding-right: 40%;\"> The beginning of a string.</td>\n",
    "  </tr>\n",
    "  <tr>\n",
    "    <td style=\"text-align: center; \">$</td>\n",
    "    <td style=\"text-align: left; padding-right: 40%;\">The end of a string.</td>\n",
    "  </tr>\n",
    "</table>\n",
    "\n",
    "A word boundary is a location in which an alphanumeric character is placed next to a character which is not an alphanumeric character, such as punctuation, a space or a new line character. Illustrations of the use of such anchors can be found below.\n"
   ]
  },
  {
   "cell_type": "code",
   "execution_count": null,
   "metadata": {},
   "outputs": [],
   "source": [
    "import re\n",
    "\n",
    "line = \"In Xanadu did Kubla Khan a stately pleasure-dome decree\"\n",
    "\n",
    "if re.search( r'^In\\b' , line ):\n",
    "    print('Found!')\n",
    "    ## This regular expression searches for lines\n",
    "    ## beginning with the preposion ‘In’\n",
    "\n",
    "if re.search( r'\\bd.*$' , line ):\n",
    "    print('Found!')\n",
    "    ## Searches for lines whose final word begin with the character ‘d’\n",
    "\n",
    "if re.search( r'\\ba\\b' , line ):\n",
    "    print('Found!')\n",
    "    ### Searches for the single character ‘a’.\n",
    "    ### It does not match words which contain an ‘a’, such\n",
    "    ### as ‘Xanadu’ or ‘Khan’\n",
    "\n"
   ]
  },
  {
   "cell_type": "markdown",
   "metadata": {},
   "source": [
    "\n",
    "## Case insensitivity\n",
    "\n",
    "If you add the text “re.IGNORECASE” as the third parameter of the search() function, the search will take place in a case-insensitive manner. For examples of case-insensitive searches using word boundaries, see the code below.\n"
   ]
  },
  {
   "cell_type": "code",
   "execution_count": null,
   "metadata": {},
   "outputs": [],
   "source": [
    "import re\n",
    "\n",
    "line = \"Doubting, dreaming dreams no mortal ever dared to dream before\"\n",
    "\n",
    "hits = re.findall( r'\\bd[a-z]*\\b' , line , re.IGNORECASE )\n",
    "for h in hits:\n",
    "    print(h)\n",
    "\n",
    "# Matches all words starting with 'd', including 'Doubting' which starts \n",
    "# with upper case 'd'\n",
    "\n"
   ]
  },
  {
   "cell_type": "markdown",
   "metadata": {},
   "source": [
    "The method `findall()` can also be used, for instance, to extract the direct speech from a longer sentence, provided that this speech is givem in quotes. "
   ]
  },
  {
   "cell_type": "code",
   "execution_count": null,
   "metadata": {},
   "outputs": [],
   "source": [
    "import re\n",
    "\n",
    "sentence = \"\\\"Oh, good gracious me!\\\" said Lucy, suddenly collapsing and again seeing the whole of life in a new perspective.\"\n",
    "\n",
    "hits = re.findall( r'[\"](.+)[\"]' , sentence )\n",
    "\n",
    "for h in hits:\n",
    "    print( h )\n",
    "    ## prints Oh, good gracious me!"
   ]
  },
  {
   "cell_type": "markdown",
   "metadata": {},
   "source": [
    "## The escape character\n",
    "\n",
    "As was discussed above, character such as the dot (‘.’), the asterisk (‘*’) or the question mark (‘?’) have a special meaning in regular expressions. Normally, they function as quantifiers or as metacharacters. In some cases, however, you may want to search for these literal characters themselves. If you need to extract the top level domain name from the URL of a website, for example, you need to specify that it is the part that follows the final dot. \n",
    "\n",
    "If you want to refer to characters in their literal meaning, these special characters need to be preceded by the back slash. This notation is known as “escaping” the character. The following code cell contains an illustration.\n"
   ]
  },
  {
   "cell_type": "code",
   "execution_count": null,
   "metadata": {},
   "outputs": [],
   "source": [
    "import re\n",
    "\n",
    "url = \"www.universiteitleiden.nl\"\n",
    "\n",
    "matches = re.findall( r'\\.\\w+$' , url )\n",
    "\n",
    "\n",
    "if matches:\n",
    "    print( 'The top level domain name of this URL is ' + matches[-1])"
   ]
  },
  {
   "cell_type": "markdown",
   "metadata": {},
   "source": [
    "\n",
    "## Finding and replacing text\n",
    "\n",
    "In Python, regular expressions can also be applied usefully in ‘find and replace’ operations. Such operations can be performed using the `sub()` function from the `re` module. The `sub()` method demands three parameters: (1) a regular expression, (2) a replacement string, and (3) the string containing text which needs to be replaced. \n",
    "\n",
    "If matches can be found for the regular expression which is mentioned as the first parameter, these matches will all be replaced with the string which is given as the second parameter. The function of `re.sub` is comparable to that of the `replace()` function, discussed in the section on 'Working with Strings'.\n"
   ]
  },
  {
   "cell_type": "code",
   "execution_count": null,
   "metadata": {},
   "outputs": [],
   "source": [
    "import re\n",
    "\n",
    "name1 = 'data carpentry'\n",
    "name2 = re.sub( 'data' , 'software' , name1 )\n",
    "print(name2)\n",
    "## prints 'software carpentry'"
   ]
  },
  {
   "cell_type": "markdown",
   "metadata": {},
   "source": [
    "You can also remove unwanted characters using `re.sub` by replacing these characters with an empty string. "
   ]
  },
  {
   "cell_type": "code",
   "execution_count": null,
   "metadata": {},
   "outputs": [],
   "source": [
    "import re\n",
    "\n",
    "sentence = \"This,, ..sentence-. .,contains. .strange. !=puncuation\"\n",
    "\n",
    "sentence = re.sub( r'[.,!=-]' , '' , sentence )\n",
    "\n",
    "print(sentence)\n",
    "## This code removes all punctuation"
   ]
  },
  {
   "cell_type": "markdown",
   "metadata": {},
   "source": [
    "The process of learning to work with regular expressions may imply a steep learning curve. You need to develp a good understanding of all the characters that can be used to compose search patterns, next to the ability to use all of these characters and symbols in combination. \n",
    "\n",
    "If you want to learn more about regular expressions, you can study the very elaborate and accessible turorials on this topic on [The Programming Historian](https://programminghistorian.org/en/lessons/understanding-regular-expressions) or on the website of [Library Carpentry](https://librarycarpentry.org/lc-data-intro/01-regular-expressions/).\n",
    "\n",
    "On Dataquest.io, you can find a helpful [Regular Expressions Cheat Sheet](https://www.dataquest.io/blog/regex-cheatsheet/) (also available as a [PDF document](https://www.dataquest.io/wp-content/uploads/2019/03/python-regular-expressions-cheat-sheet.pdf)) \n"
   ]
  },
  {
   "cell_type": "markdown",
   "metadata": {},
   "source": [
    "# Exercises"
   ]
  },
  {
   "cell_type": "markdown",
   "metadata": {},
   "source": [
    "## Exercise 9.1.\n",
    "\n",
    "Download the full text of “P.B. Shelley's Complete Poems” from the following URL:  \n",
    "\n",
    "[https://edu.nl/r6dn8](https://edu.nl/r6dn8)\n",
    "\n",
    "Regular expressions can be used to find verse lines with specific properties. Write a program in Python which can identify verse lines with the following features: \n",
    "\n",
    "* Lines containing the word \"fire\". \n",
    "* Lines that containing either the word \"sun\" or to word \"moon\". \n",
    "* Use a single regular expression to identify these lines. \n",
    "* All the lines which contain either the singular or the plural form of \"star\". \n",
    "* All the lines which contain either the singular or the plural form of \"leaf\". \n",
    "* Lines with words ending in in \"ly\". \n",
    "* All the lines which contain a question mark. \n",
    "* Lines ending in the character combination \"ain\". \n",
    "* Cases of alliteration on \"br\" (or, in other words, all the lines which contain at least two words that begin with \"br\")"
   ]
  },
  {
   "cell_type": "code",
   "execution_count": null,
   "metadata": {},
   "outputs": [],
   "source": [
    "import re\n",
    "\n",
    "# Open the file and read its lines so that we can iterate over the lines multiple times\n",
    "poems = open(\"../Texts/shelley.txt\" , encoding='utf-8')\n",
    "lines = []\n",
    "\n",
    "\n",
    "for line in poems:\n",
    "    lines.append(line)\n",
    "\n",
    "\n",
    "# ADD YOUR CODE BELOW - YOU ONLY NEED TO ADD THE REGULAR EXPRESSIONS\n",
    "\n",
    "# Print lines that contain the word 'fire'\n",
    "for line in lines:\n",
    "    if re.search( r\"\" , line , re.IGNORECASE ):\n",
    "        print(line)\n",
    "\n",
    "\n",
    "# Using the same text, print all the lines containing either the word \"sun\" or to word \"moon\".\n",
    "# Use a single regular expression to identify these lines.\n",
    "\n",
    "for line in lines:\n",
    "    if re.search( r'' , line ):\n",
    "        print( line )\n",
    "\n",
    "\n",
    "# Find all the lines which contain either the singular or the plural form of \"star\".\n",
    "\n",
    "for line in lines:\n",
    "    if re.search( r'' , line ):\n",
    "        print( line )\n",
    "\n",
    "\n",
    "# Find all the lines which contain either the singular or the plural form of \"leaf\".\n",
    "\n",
    "for line in lines:\n",
    "    if re.search( r'' , line ):\n",
    "        print( line )\n",
    "\n",
    "\n",
    "# Find all the lines which contain a word ending in in \"ly\".\n",
    "\n",
    "for line in lines:\n",
    "    if re.search( r'' , line ):\n",
    "        print( line )\n",
    "\n",
    "\n",
    "# Find all the lines which contain a question mark.\n",
    "\n",
    "for line in lines:\n",
    "    if re.search( r'' , line ):\n",
    "        print( line )\n",
    "\n",
    "\n",
    "# Find all the lines ending in the character sequence \"ain\".\n",
    "\n",
    "for line in lines:\n",
    "    if re.search( r'' , line ):\n",
    "        print( line )\n",
    "\n",
    "\n",
    "# Find all the lines which contain at least two words that begin with \"br\"\n",
    "\n",
    "for line in lines:\n",
    "    if re.search( r'' , line ):\n",
    "        print( line )\n"
   ]
  },
  {
   "cell_type": "markdown",
   "metadata": {},
   "source": [
    "## Exercise 9.2.\n",
    "\n",
    "Download the file “bibliography.txt” from \n",
    "\n",
    "[https://edu.nl/t449h](https://edu.nl/t449h)\n",
    "\n",
    "This file contains a list of articles, formatted according to the APA citation style. For each title, try to extract the year of publication, the title and the name of the journal.\n"
   ]
  },
  {
   "cell_type": "code",
   "execution_count": null,
   "metadata": {},
   "outputs": [],
   "source": [
    "import re\n",
    "\n",
    "# Open the file\n",
    "file = open( \"../Texts/bibliography.txt\" )\n",
    "\n",
    "# ADD YOUR CODE BELOW - YOU ONLY NEED TO ADD THE REGULAR EXPRESSIONS\n",
    "\n",
    "for pub in file:\n",
    "    match = re.search( r'' , pub )\n",
    "    if match:\n",
    "        year = match.group(1)\n",
    "\n",
    "    match = re.search( r'' , pub )\n",
    "    if match:\n",
    "        title = match.group(1)\n",
    "\n",
    "    match = re.search( r'' , pub )\n",
    "    if match:\n",
    "        journal = match.group(1)\n",
    "\n",
    "    print( year + '\\n' +  title + '\\n' + journal + '\\n')"
   ]
  },
  {
   "cell_type": "markdown",
   "metadata": {},
   "source": [
    "## Exercise 9.3.\n",
    "\n",
    "Download the file “tweets.txt” from [https://edu.nl/cvge6](https://edu.nl/cvge6).\n",
    "\n",
    "This file contains a number of tweets containing the hashtag ‘#universiteitleiden’, obtained using the Twitter API. Extract all the usernames and all the hashtags form these tweets, using regular expressions."
   ]
  },
  {
   "cell_type": "code",
   "execution_count": null,
   "metadata": {},
   "outputs": [],
   "source": [
    "import re\n",
    "\n",
    "tweets = open( '../Texts/tweets.txt' , encoding = 'utf-8')\n",
    "\n",
    "hash_tags = dict()\n",
    "user_names = dict()\n",
    "\n",
    "# ADD YOUR CODE BELOW\n",
    "\n",
    "for t in tweets:\n",
    "    \n",
    "    # Count all hashtags and usernames\n",
    "\n",
    "\n",
    "# DON'T CHANGE THE CODE BELOW\n",
    "print(\"Hashtags:\")        \n",
    "for ht in hash_tags:\n",
    "    print(ht, '(', hash_tags[ht], 'times)')\n",
    "    \n",
    "print(\"\\nUser names:\")     \n",
    "    \n",
    "for u in user_names:\n",
    "    print(u, '(', user_names[u], 'times)')\n"
   ]
  }
 ],
 "metadata": {
  "kernelspec": {
   "display_name": "Python 3.10.6 64-bit",
   "language": "python",
   "name": "python3"
  },
  "language_info": {
   "codemirror_mode": {
    "name": "ipython",
    "version": 3
   },
   "file_extension": ".py",
   "mimetype": "text/x-python",
   "name": "python",
   "nbconvert_exporter": "python",
   "pygments_lexer": "ipython3",
   "version": "3.10.6"
  },
  "vscode": {
   "interpreter": {
    "hash": "b0fa6594d8f4cbf19f97940f81e996739fb7646882a419484c72d19e05852a7e"
   }
  }
 },
 "nbformat": 4,
 "nbformat_minor": 2
}
