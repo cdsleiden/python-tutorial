{
 "cells": [
  {
   "cell_type": "markdown",
   "metadata": {},
   "source": [
    "# 6. Dictionaries\n",
    "\n",
    "Like a list, a dictionary is a data structure which can be used to store multiple items. In the case of a dictionary, each item consists of two parts: a *key* and a *value*. These keys need to be specified explicitly when you add an item to a dictionary, and they can be of any type. \n",
    "\n",
    "We learned how we can look up values in a list by their index, which is always a number.\n",
    "In a dictionary, we say that we use a *key*, not index, to look up the corresponding *value*.\n",
    "Keys can be of any type, but you do need to specify them explicitly when you add an item to a dictionary.\n",
    "You will see that keys are often strings, because it makes it easier to understand the code.\n",
    "\n",
    "## Creating a dictionary\n",
    "\n",
    "There are multiple ways to create a dictionary.\n",
    "One way is to use the `dict()` function. This function results in an empty dictionary."
   ]
  },
  {
   "cell_type": "code",
   "execution_count": null,
   "metadata": {},
   "outputs": [],
   "source": [
    "shakespeare_dict = dict()"
   ]
  },
  {
   "cell_type": "markdown",
   "metadata": {},
   "source": [
    "We can add items to this dictionary by firstly mentioning the key in a set of square brackets, directly following the name of the dictionary. The value to be associated with this key needs to be given after the assignment operator. \n",
    "\n",
    "Importantly, each of these keys needs to be unique. In the example below, the keys are all strings. "
   ]
  },
  {
   "cell_type": "code",
   "execution_count": null,
   "metadata": {},
   "outputs": [],
   "source": [
    "shakespeare_dict['first_name'] = 'William'\n",
    "shakespeare_dict['last_name'] = 'Shakespeare'\n",
    "shakespeare_dict['year_of_birth'] = 1564"
   ]
  },
  {
   "cell_type": "markdown",
   "metadata": {},
   "source": [
    "You can access the individual items of the dictionary by mentioning the keys of these items inside square brackets. The code below prints the *values* that are associated with the two keys that are provided."
   ]
  },
  {
   "cell_type": "code",
   "execution_count": null,
   "metadata": {},
   "outputs": [],
   "source": [
    "print(shakespeare_dict['first_name'])\n",
    "# prints 'William'\n",
    "print(shakespeare_dict['last_name'])\n",
    "# prints 'Shakespeare'"
   ]
  },
  {
   "cell_type": "markdown",
   "metadata": {},
   "source": [
    "Just like regular variables, you can overwrite values in dictionaries by assigning a different value to the key."
   ]
  },
  {
   "cell_type": "markdown",
   "metadata": {},
   "source": [
    "## Non-existing keys\n",
    "\n",
    "As was mentioned, the individual items of the dictionaries can be accessed using their keys. When you reference a key that does not actually exist in the dictionary, however, the code produces an error. It is evidently impossible to retrieve a value for a key that does not exist.\n",
    "\n",
    "To avoid such error messages, you can make use of the `get()` method. As the first parameter, you need to mention the key of the item that you want to retrieve. If the key does indeed exist, the `get()` method returns the value associated with this key. If it does not exist, the methods returns `None`. "
   ]
  },
  {
   "cell_type": "code",
   "execution_count": null,
   "metadata": {},
   "outputs": [],
   "source": [
    "print( shakespeare_dict.get( 'year_of_birth' ) )\n",
    "# prints 1564\n",
    "print( shakespeare_dict.get( 'year_of_death' ) )\n",
    "# prints None"
   ]
  },
  {
   "cell_type": "markdown",
   "metadata": {},
   "source": [
    "It is also possible to provide a default value which should be returned when the key that was supplied does not exist, as a second paramater of `get()`.\n",
    "\n",
    "Because the key 'number_of_children' has not been set yet in the dictionary named 'shakespeare_dict', the code below prints the number 0, which is the value that is supplied as a second parameter. "
   ]
  },
  {
   "cell_type": "code",
   "execution_count": null,
   "metadata": {},
   "outputs": [],
   "source": [
    "print( shakespeare_dict.get( 'number_of_children', 0 ) )"
   ]
  },
  {
   "cell_type": "markdown",
   "metadata": {},
   "source": [
    "## Another way of creating dictionaries\n",
    "\n",
    "Instead of starting with an empty dictionary, and adding items one by one, it is also possible to populate full dictionaries upon their creation using a syntax that makes use of curly brackets.\n",
    "Within these brackets, you need to list all the needed key and value pairs.\n",
    "\n",
    "The keys and the values need to be separated by a colon. All individual items in the dictionary (i.e. the full key and value pairs) need to separated by commas.\n",
    "\n",
    "Let's create a dictionary of countries and their capitals."
   ]
  },
  {
   "cell_type": "code",
   "execution_count": null,
   "metadata": {},
   "outputs": [],
   "source": [
    "capitals = { \n",
    "    'France': 'Paris', \n",
    "    'Spain': 'Madrid',\n",
    "    'The Netherlands' : 'Amsterdam', \n",
    "    'Belgium': 'Brussels',\n",
    "    'Italy': 'Rome',\n",
    "    'Germany': 'Berlin',\n",
    "    'Denmark': 'Copenhagen'\n",
    "} "
   ]
  },
  {
   "cell_type": "markdown",
   "metadata": {},
   "source": [
    "## Navigating a dictionary\n",
    "\n",
    "You can list all the elements in a dictionary via the `for` keyword.\n",
    "When you *iterate over a dictionary*, you get its *keys*, one at a time.\n",
    "You can then use that key to look up its value."
   ]
  },
  {
   "cell_type": "code",
   "execution_count": null,
   "metadata": {},
   "outputs": [],
   "source": [
    "# Our dictionary has the country as the key, so we name our loop variable 'country'\n",
    "for country in capitals:\n",
    "    print( f'The capital of {country} is {capitals[country]}.' )"
   ]
  },
  {
   "cell_type": "markdown",
   "metadata": {},
   "source": [
    "## Sorting a dictionary\n",
    "\n",
    "By default, all the items in this dictionary are shown in the order in which they were added to the dictionary.  \n",
    "\n",
    "When you have created a dictionary named `capitals`, using the code above, it can be sorted by index using the in-built `sorted()` function.\n",
    "Strings are sorted alphabetically and integers and floats are sorted numerically. "
   ]
  },
  {
   "cell_type": "code",
   "execution_count": null,
   "metadata": {},
   "outputs": [],
   "source": [
    "for country in sorted(capitals):\n",
    "    print( f'The capital of {country} is {capitals[country]}.' )"
   ]
  },
  {
   "cell_type": "markdown",
   "metadata": {},
   "source": [
    "It is also possible to sort a dictionary by its values, but that is outside the scope of this tutorial."
   ]
  },
  {
   "cell_type": "markdown",
   "metadata": {},
   "source": [
    "# Exercises"
   ]
  },
  {
   "cell_type": "markdown",
   "metadata": {},
   "source": [
    "## Exercise 6.1.\n",
    "\n",
    "The code below creates a new dictionary. This dictionary connects a number of ISBNs to the titles of the books they identify."
   ]
  },
  {
   "cell_type": "code",
   "execution_count": null,
   "metadata": {},
   "outputs": [],
   "source": [
    "# Create the dictionary\n",
    "books_by_isbn = {\n",
    "    9780143105985 : 'White Noise',\n",
    "    9780241984536 : 'Libra',\n",
    "    9781925480665 : 'Mao II',\n",
    "    9781447289395 : 'Underworld',\n",
    "    9780743595728 : 'The Body Artist',\n",
    "    9781925480665 : 'Cosmopolis',\n",
    "    9780330524919 : 'Falling man',\n",
    "    9781439169971 : 'Point Omega'\n",
    "}"
   ]
  },
  {
   "cell_type": "markdown",
   "metadata": {},
   "source": [
    "\n",
    "Add the novel Zero K to the dictionary. This novel has ISBN13 9781501138072."
   ]
  },
  {
   "cell_type": "code",
   "execution_count": null,
   "metadata": {},
   "outputs": [],
   "source": []
  },
  {
   "cell_type": "markdown",
   "metadata": {},
   "source": [
    "Write some code which can print the title that corresponds to ISBN 9781447289395."
   ]
  },
  {
   "cell_type": "code",
   "execution_count": null,
   "metadata": {},
   "outputs": [],
   "source": []
  },
  {
   "cell_type": "markdown",
   "metadata": {},
   "source": [
    "Print a list of all the novels. Display both the ISBN and the title. "
   ]
  },
  {
   "cell_type": "code",
   "execution_count": null,
   "metadata": {},
   "outputs": [],
   "source": []
  },
  {
   "cell_type": "markdown",
   "metadata": {},
   "source": [
    "## Exercise 6.2.\n",
    "\n",
    "Using the dictionary `person_data` below, print the following sentence: “Louis Elsevier was a printer. He was born in 1540 in Leuven and died in 1617 in Leiden.”"
   ]
  },
  {
   "cell_type": "code",
   "execution_count": null,
   "metadata": {},
   "outputs": [],
   "source": [
    "person_data = dict()\n",
    "\n",
    "person_data[\"firstName\"] = 'louis'\n",
    "person_data[\"lastName\"] = 'elsevier'\n",
    "person_data[\"profession\"] = 'printer'\n",
    "person_data[\"yob\"] = 1540\n",
    "person_data[\"yod\"] = 1617\n",
    "person_data[\"pob\"] = 'leuven'\n",
    "person_data[\"pod\"] = 'leiden'\n",
    "\n",
    "# Print the sentence\n"
   ]
  },
  {
   "cell_type": "markdown",
   "metadata": {},
   "source": [
    "## Exercise 6.3.\n",
    "\n",
    "We have a dictionary of countries in the European Union and their capitals."
   ]
  },
  {
   "cell_type": "code",
   "execution_count": null,
   "metadata": {},
   "outputs": [],
   "source": [
    "# Create the dictionary\n",
    "eu_capitals = {\n",
    "    'Italy': 'Rome', 'Luxembourg': 'Luxembourg',\n",
    "    'Belgium': 'Brussels', 'Denmark': 'Copenhagen',\n",
    "    'Finland': 'Helsinki', 'France': 'Paris',\n",
    "    'Slovakia': 'Bratislava', 'Slovenia': 'Ljubljana',\n",
    "    'Germany': 'Berlin', 'Greece': 'Athens',\n",
    "    'Ireland': 'Dublin', 'Netherlands': 'Amsterdam',\n",
    "    'Portugal': 'Lisbon', 'Spain': 'Madrid',\n",
    "    'Sweden': 'Stockholm',\n",
    "    'Cyprus': 'Nicosia', 'Lithuania': 'Vilnius', \n",
    "    'Czech Republic': 'Prague', 'Estonia': 'Tallin',\n",
    "    'Hungary': 'Budapest', 'Latvia': 'Riga',\n",
    "    'Malta': 'Valetta', 'Austria': 'Vienna',\n",
    "    'Poland': 'Warsaw', 'Croatia': 'Zagreb',\n",
    "    'Romania': 'Bucharest', 'Bulgaria': 'Sofia'\n",
    "}"
   ]
  },
  {
   "cell_type": "markdown",
   "metadata": {},
   "source": [
    "Using this dictionary, print a sentence which gives information about the current number of countries in the EU."
   ]
  },
  {
   "cell_type": "code",
   "execution_count": null,
   "metadata": {},
   "outputs": [],
   "source": [
    "# How many countries are in the EU dictionary?\n"
   ]
  },
  {
   "cell_type": "markdown",
   "metadata": {},
   "source": [
    "Print a list of all the countries of the EU in alphabetical order."
   ]
  },
  {
   "cell_type": "code",
   "execution_count": null,
   "metadata": {},
   "outputs": [],
   "source": [
    "# Print the list of countries in alphabetical order\n"
   ]
  },
  {
   "cell_type": "markdown",
   "metadata": {},
   "source": [
    "Finally, for each country, print the following sentence: \"The capital of [ *country* ] is [ *capital* ].\""
   ]
  },
  {
   "cell_type": "code",
   "execution_count": null,
   "metadata": {},
   "outputs": [],
   "source": [
    "# Print the capitals of these countries\n"
   ]
  }
 ],
 "metadata": {
  "kernelspec": {
   "display_name": "Python 3 (ipykernel)",
   "language": "python",
   "name": "python3"
  },
  "language_info": {
   "codemirror_mode": {
    "name": "ipython",
    "version": 3
   },
   "file_extension": ".py",
   "mimetype": "text/x-python",
   "name": "python",
   "nbconvert_exporter": "python",
   "pygments_lexer": "ipython3",
   "version": "3.7.9"
  }
 },
 "nbformat": 4,
 "nbformat_minor": 2
}
