{
 "cells": [
  {
   "cell_type": "markdown",
   "metadata": {},
   "source": [
    "# Welcome\n",
    "\n",
    "This website offers a basic and accessible introduction to programming in Python, aimed specifically at researchers and teachers without prior coding skills.\n",
    "\n",
    "## What these materials cover\n",
    "\n",
    "The tutorials that you can follow on this website explain the core features of the Python programming language, including topics such as variables, data types and control structures. Additionally, you can learn learn about the main techniques that can be used to clean, enrich, analyse and visualise data.\n",
    "\n",
    "## How to use these materials\n",
    "\n",
    "The tutorial and supporting sections are written using Jupyter Notebook.\n",
    "In both courses, we ask learners to use the notebooks on their own computer.\n",
    "They follow the [Installation instructions](Installation.ipynb) and download the latest version of the notebooks, so that they can follow along with the instructors.\n",
    "\n",
    "You can download the latest version of all the notebooks written for this tutorial at the following address: \n",
    "\n",
    "<https://github.com/cdsleiden/python-tutorial/releases/latest/download/notebooks.zip>\n",
    "\n",
    "When you download and unzip this folder, make sure that you put the unzipped folder (*notebooks*) in a location that you can access from the Jupyter Notebook environment. Your home directory should be a good location.\n"
   ]
  }
 ],
 "metadata": {
  "kernelspec": {
   "display_name": "Python 3 (ipykernel)",
   "language": "python",
   "name": "python3"
  },
  "language_info": {
   "codemirror_mode": {
    "name": "ipython",
    "version": 3
   },
   "file_extension": ".py",
   "mimetype": "text/x-python",
   "name": "python",
   "nbconvert_exporter": "python",
   "pygments_lexer": "ipython3",
   "version": "3.9.7"
  },
  "vscode": {
   "interpreter": {
    "hash": "b0fa6594d8f4cbf19f97940f81e996739fb7646882a419484c72d19e05852a7e"
   }
  }
 },
 "nbformat": 4,
 "nbformat_minor": 2
}
