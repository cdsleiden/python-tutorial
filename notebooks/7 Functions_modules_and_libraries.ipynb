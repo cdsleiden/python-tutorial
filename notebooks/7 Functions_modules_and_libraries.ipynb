{
 "cells": [
  {
   "cell_type": "markdown",
   "metadata": {},
   "source": [
    "# 7. Functions, Modules and Libraries\n",
    "\n",
    "So far we have seen and used small pieces of code that perform small tasks.\n",
    "If we wanted to use the same code with a different input, we either changed the original code or copied the whole *block* and changed that copy.\n",
    "That is not only inefficient, it is easier to lose overview of what the code does.\n",
    "\n",
    "In this section we will look at ways to combine and reuse pieces of code.\n",
    "We introduce quite a few new terms, so please don't get discouraged.\n",
    "\n",
    "## Functions\n",
    "\n",
    "Imagine that you want to write a program in Python which can calculate the final grades earned by students who have followed a certain course.\n",
    "Such grades are normally calculated using a fixed formula (e.g. a mid-term assignment which counts for 40% and a final exam which counts for 60%).\n",
    "To calculate the final grades, this formula needs to be applied repeatedly with different values.\n",
    "In such a situation, it would be quite inefficient if you simply repeated the code that is needed for every single student.\n",
    "Fortunately, we can reuse fragments of code by defining them as functions.\n",
    "\n",
    "A *function* is essentially a set of statements which can be addressed collectively via a single name.\n",
    "The idea of a function comes from mathematics, in which a function takes one or more *inputs* and produces an *output*.\n",
    "Functions work the same in programming: you give (or *pass*) something to a function and the function *returns* an output. The output is the result of the function.\n",
    "\n",
    "Up to this point we have seen a few functions that Python provides 'out of the box':\n",
    "\n",
    "- `print()` takes one or more values and 'writes' them to the screen\n",
    "- `len()` takes a string, list or dictionary and returns its length (i.e. number of characters or items)\n",
    "- `dict()` takes no inputs and returns an empty dictionary\n",
    "- `sorted()` takes a list and returns a sorted copy of that list\n",
    "\n",
    "These are just some of the functions we have seen so far and there is more nuance to their descriptions.\n",
    "You can find [all built-in functions in the Python documentation][f].\n",
    "\n",
    "In the tutorial we have already used these functions.\n",
    "Using a function is often called ***calling** a function*."
   ]
  },
  {
   "cell_type": "markdown",
   "metadata": {},
   "source": [
    "# 7. Functions, Modules and Libraries\n",
    "\n",
    "So far we have seen and used small pieces of code that perform small tasks.\n",
    "If we wanted to use the same code with a different input, we either changed the original code or copied the whole *block* and changed that copy.\n",
    "That is not only inefficient, it is easier to lose overview of what the code does.\n",
    "\n",
    "In this section we will look at ways to combine and reuse pieces of code.\n",
    "We introduce quite a few new terms, so please don't get discouraged.\n",
    "\n",
    "## Functions\n",
    "\n",
    "Imagine that you want to write a program in Python which can calculate the final grades earned by students who have followed a certain course.\n",
    "Such grades are normally calculated using a fixed formula (e.g. a mid-term assignment which counts for 40% and a final exam which counts for 60%).\n",
    "To calculate the final grades, this formula needs to be applied repeatedly with different values.\n",
    "In such a situation, it would be quite inefficient if you simply repeated the code that is needed for every single student.\n",
    "Fortunately, we can reuse fragments of code by defining them as functions.\n",
    "\n",
    "A *function* is essentially a set of statements which can be addressed collectively via a single name.\n",
    "The idea of a function comes from mathematics, in which a function takes one or more *inputs* and produces an *output*.\n",
    "Functions work the same in programming: you give (or *pass*) something to a function and the function *returns* an output. The output is the result of the function.\n",
    "\n",
    "Up to this point we have seen a few functions that Python provides 'out of the box':\n",
    "\n",
    "- `print()` takes one or more values and 'writes' them to the screen\n",
    "- `len()` takes a string, list or dictionary and returns its length (i.e. number of characters or items)\n",
    "- `dict()` takes no inputs and returns an empty dictionary\n",
    "- `sorted()` takes a list and returns a sorted copy of that list\n",
    "\n",
    "These are just some of the functions we have seen so far and there is more nuance to their descriptions.\n",
    "You can find [all built-in functions in the Python documentation][f].\n",
    "\n",
    "[f]: https://docs.python.org/3/library/functions.html\n",
    "\n",
    "In the tutorial we have already used these functions.\n",
    "When you use a function, you often say that you are *calling a function*.\n",
    "To call a function, you to refer to its name followed by parentheses."
   ]
  },
  {
   "cell_type": "code",
   "execution_count": 1,
   "metadata": {},
   "outputs": [
    {
     "data": {
      "text/plain": [
       "[]"
      ]
     },
     "execution_count": 1,
     "metadata": {},
     "output_type": "execute_result"
    }
   ],
   "source": [
    "# Returns an empty list\n",
    "list()"
   ]
  },
  {
   "cell_type": "code",
   "execution_count": 2,
   "metadata": {},
   "outputs": [
    {
     "data": {
      "text/plain": [
       "{}"
      ]
     },
     "execution_count": 2,
     "metadata": {},
     "output_type": "execute_result"
    }
   ],
   "source": [
    "# Returns an empty dictionary\n",
    "dict()"
   ]
  },
  {
   "cell_type": "markdown",
   "metadata": {},
   "source": [
    "If you don't include the parentheses, you don't call the function, but get it as a value.\n",
    "This is often not what you want."
   ]
  },
  {
   "cell_type": "code",
   "execution_count": 4,
   "metadata": {},
   "outputs": [
    {
     "data": {
      "text/plain": [
       "<function print>"
      ]
     },
     "execution_count": 4,
     "metadata": {},
     "output_type": "execute_result"
    }
   ],
   "source": [
    "# Returns the function, but does not *call* it\n",
    "print"
   ]
  },
  {
   "cell_type": "markdown",
   "metadata": {},
   "source": [
    "### Parameters and arguments\n",
    "\n",
    "When a function accepts an input, it is said to have a *parameter*.\n",
    "Functions can define zero or more parameters.\n",
    "Parameters can be made *optional* by setting default values.\n",
    "\n",
    "For example, the in-built function `round()`, which rounds numbers, takes two parameters.\n",
    "The first parameter is a floating point number, the number to round.\n",
    "The second parameter is the number of digits you would like to see following the decimal point.\n",
    "This second parameter is optional: if you don't specify it, the number is rounded to zero decimals."
   ]
  },
  {
   "cell_type": "code",
   "execution_count": null,
   "metadata": {},
   "outputs": [],
   "source": [
    "# Keep 2 decimals\n",
    "round(4.55892, 2)"
   ]
  },
  {
   "cell_type": "code",
   "execution_count": null,
   "metadata": {},
   "outputs": [],
   "source": [
    "# Round to zero decimals and return an integer\n",
    "round(4.55892)"
   ]
  },
  {
   "cell_type": "markdown",
   "metadata": {},
   "source": [
    "Somewhat confusingly, when we call a function, we say that the values we 'give' to the function are *arguments*.\n",
    "So a function defines *parameters*, and we as programmers give it *arguments*.\n",
    "This distinction is not too important at this point, but you may come across both terms."
   ]
  },
  {
   "cell_type": "markdown",
   "metadata": {},
   "source": [
    "### Defining functions\n",
    "\n",
    "Next to working with in-built functions, it is also possible to write your own functions.\n",
    "Working with functions can often be very effective.\n",
    "It enables you to decompose specific problem into smaller sub-problems and into units which can be reused as often as needed.\n",
    "As illustrated in the code below, functions can be created using the `def` keyword, a function name and parentheses that may contain parameters."
   ]
  },
  {
   "cell_type": "code",
   "execution_count": null,
   "metadata": {},
   "outputs": [],
   "source": [
    "def calculate_final_mark( mid_term, exam ):\n",
    "    final_mark = 0.4 * mid_term\n",
    "    final_mark += 0.6 * exam\n",
    "    return round(final_mark, 1)"
   ]
  },
  {
   "cell_type": "markdown",
   "metadata": {},
   "source": [
    "The code above defines the function `calculate_final_mark()`.\n",
    "The `def` keyword needs to be followed by the name of the function and a set of parentheses.\n",
    "When you choose a name, make sure to make it descriptive and do not use an existing one or reserved keyword.\n",
    "\n",
    "Within the parentheses, you can optionally mention the parameters, i.e. the values the function should operate on.\n",
    "If there are two or more parameters, they need to be separated by commas.\n",
    "Our function takes two parameters to create an output.\n",
    "The output is said to be *returned* and we use `return` to do so.\n",
    "<!-- When Python evaluates `return`, the execution of the function stops. -->\n",
    "\n",
    "<!-- It's possible that a function doesn't return a value. -->\n",
    "\n",
    "Once the function has been defined, it can be called, or invoked, in other locations in your program.\n",
    "The `print` statements show the result of the calculation that is returned by the function, using the values that are mentioned within the parentheses (as *arguments*)."
   ]
  },
  {
   "cell_type": "code",
   "execution_count": null,
   "metadata": {},
   "outputs": [],
   "source": [
    "print( f'Final grade: {calculate_final_mark( 8 , 9 )} ')\n",
    "print( f'Final grade: {calculate_final_mark( 4 , 10 )} ')\n",
    "print( f'Final grade: {calculate_final_mark( 6 , 7 )} ')"
   ]
  },
  {
   "cell_type": "markdown",
   "metadata": {},
   "source": [
    "## Methods (and classes)\n",
    "\n",
    "When we worked with strings, lists and dictionaries, we referred to some *methods* that were 'part of' the variables, such as:\n",
    "\n",
    "- `my_string.title()` returns a copy of the string in 'Title Case';\n",
    "- `my_dictionary.get(a_key, \"Default value\")` returns the value associated to `a_key` or `\"Default value\"` if there is no `a_key`;\n",
    "- `my_list.count(value_to_count)` returns the number of times `value_to_count` is in the list.\n",
    "\n",
    "Python is based on a programming paradigm which is known as object-oriented programming. This paradigm, in short, involves an organisation in which variables and functions which are closely related can be brought together in structure known as a class.  In the example below, the variables named `title` and `isbn`, and the function named `describe()` are brought together in a class named ‘Book’. \n",
    "\n",
    "A class can also be instantiated. An instance of a class is called an object, and this object can be given a new name. For this newly created object, all the variables and all the functions which are defined in the class can also be accessed, by appending the names of the variables or functions to the dot following the object name. This notation is called the ‘period syntax’. Functions defined within classes are referred to as methods. A class thus functions as a blueprint or as a template for new types of objects."
   ]
  },
  {
   "cell_type": "code",
   "execution_count": null,
   "metadata": {},
   "outputs": [],
   "source": [
    "class Book:\n",
    "    def __init__(self, title, isbn ):\n",
    "        self.title = title\n",
    "        self.isbn = isbn\n",
    "\n",
    "    def describe(self):\n",
    "        print(\"Title: \" + self.title)\n",
    "        print(\"ISBN: \" + str(self.isbn))\n",
    "\n",
    "title1 = Book(\"A Room with a View\", \"978-1420925432\")\n",
    "title1.describe()\n"
   ]
  },
  {
   "cell_type": "markdown",
   "metadata": {},
   "source": [
    "\n",
    "In the code above, a new object is created based on the class `Book`, named `title1`. In the definition of this particular class, it was specified that the title and the ISBN always needs to be provided upon the initiation of a `Book` object. Once the class `Book` has been instantiated in this way, the object based on the class specifications can make use of all the methods of the class. The method `describe()`, for instance, simply prints the values that have been assigned to the object. \n",
    "\n",
    "In Python, all strings are saved as instances of the general `str` (string) class. This class has methods such as `lower()`, `strip()` and `index()`. If you want to use these methods, they need to be added to the name of the object (i.e. the instantiation of the Class) using the 'period syntax'.  \n",
    "\n",
    "\n",
    "## Combining functionality: modules, packages and the Library\n",
    "\n",
    "*Note: the terms in this section are easily confused. It is not too important to get them right.*\n",
    "\n",
    "When you have a number of functions or classes that perform similar or related activities,\n",
    "these can all be placed together in a Python file.\n",
    "Such a file containing related functions, statements or classes is called a *module*.\n",
    "Modules can be *imported* into scripts (or other modules) to access and reuse their functionality.\n",
    "<!-- A module, in short, is a file with code that you can reuse across different programs.  -->\n",
    "\n",
    "When you install Python, you get a lot of modules 'in the box'.\n",
    "This collection of preinstalled modules is called the\n",
    "[*Python Standard Library*](https://docs.python.org/3/library/index.html).\n",
    "Earlier in the tutorial we encountered the `math` and `random` modules,\n",
    "which contain mathematical functions and constants and functions for random numbers respectively,\n",
    "but there are many more.\n",
    "\n",
    "Python has multiple meanings for the word 'package'.\n",
    "For our purposes, a *package* is a collection of related modules,\n",
    "often distributed over the web.\n",
    "We will get back to this later.\n",
    "\n",
    "## Importing (from) modules\n",
    "\n",
    "To access functionality in a module, we need to *import* it using the `import` keyword.\n",
    "\n",
    "The Standard Library has a module named `os` that contains various functions for working with files and folders on your operating system.\n",
    "To work with this library, you need to import it:"
   ]
  },
  {
   "cell_type": "code",
   "execution_count": 6,
   "metadata": {},
   "outputs": [],
   "source": [
    "import os"
   ]
  },
  {
   "cell_type": "markdown",
   "metadata": {},
   "source": [
    "`os` stands for 'Operating System'. This library will be discussed in more detail in the section focusing on working with files and directories.\n",
    "\n",
    "Once imported, all the functions and the classes that are defined within this library can be used via the period syntax. The function `listdir()`, for instance, can be invoked using the code below:"
   ]
  },
  {
   "cell_type": "code",
   "execution_count": null,
   "metadata": {},
   "outputs": [],
   "source": [
    "files = os.listdir('Solutions')\n",
    "files"
   ]
  },
  {
   "cell_type": "markdown",
   "metadata": {},
   "source": [
    "\n",
    "\t\n",
    "  \n",
    "\n",
    "  \n",
    "Alternatively, it is also possible to import individual functions from a module.\n",
    "\n",
    "\n",
    "  \n",
    "\n",
    "\t\n",
    "\n"
   ]
  },
  {
   "cell_type": "code",
   "execution_count": null,
   "metadata": {},
   "outputs": [],
   "source": [
    "from os import listdir"
   ]
  },
  {
   "cell_type": "markdown",
   "metadata": {},
   "source": [
    "This second way of importing code has the advantage that it is no longer necessary to use the period syntax. The function can then be used without referencing the name of the module:\n"
   ]
  },
  {
   "cell_type": "code",
   "execution_count": null,
   "metadata": {},
   "outputs": [],
   "source": [
    "files = listdir('Solutions')"
   ]
  },
  {
   "cell_type": "markdown",
   "metadata": {},
   "source": [
    "## Finding functionality\n",
    "\n",
    "Next to the Standard Library there are hundreds of thousands of projects that you can install from the web.\n",
    "Many people publish their code (in modules) as packages on the [Python Package Index](https://pypi.org/).\n",
    "With the amount of packages available, there is a good chance that someone else has already published functionality that you could reuse.\n",
    "\n",
    "In practice, you often start with packages that are well-known in general, or that may be recommened by your colleagues.\n",
    "That not only makes getting started easier, but you can also be reasonably certain that the packages do not contain malware.\n",
    "It is rare, but unfortunately it happens.\n",
    "\n",
    "Some well known packages (most of which we have worked with):\n",
    "\n",
    "- [NumPy](https://numpy.org) for working with multi-dimensional arrays of numbers\n",
    "- [Sympy](https://www.sympy.org) for working with symbolic mathematics\n",
    "- [Tensorflow](https://tensorflow.org/) and [PyTorch](https://pytorch.org/) for machine learning with neural networks\n",
    "- [OpenCV](https://opencv.org/) for image manipulation and analysis\n",
    "- [spaCy](https://spacy.io) and [nltk](https://www.nltk.org/) for text analysis\n",
    "- [matplotlib](https://matplotlib.org/), [Bokeh](https://bokeh.org/) and [seaborn](https://seaborn.pydata.org/) for data visualisation\n",
    "\n",
    "Each of these projects, as well as the others on the PyPI, can often be installed using a single command, like:\n",
    "```sh\n",
    "pip install nltk\n",
    "```\n",
    "We will not go deeper into installing these packages now.\n",
    "If you would like to use any of these, you can usually find installation instructions on the project website."
   ]
  },
  {
   "cell_type": "markdown",
   "metadata": {},
   "source": [
    "# Exercises"
   ]
  },
  {
   "cell_type": "markdown",
   "metadata": {},
   "source": [
    "## Exercise 7.1.\n",
    "\n",
    "In a given university course, the final grade is determined by grade for essay and by the grade for a presentation. The presentation counts for 30% and the essay for 70%. Write two functions: (1) one function which can calculate the final grade based on a set of partial grades. Grades must be rounded to integers. 5.4, for example, becomes 5 and 6.6 becomes 7. (2) Write a second function which can determine whether a given grade is at a pass level (i.e. higher than 6). This function must return a boolean value, in which 'pass' is true and 'fail' equals false.    "
   ]
  },
  {
   "cell_type": "code",
   "execution_count": null,
   "metadata": {},
   "outputs": [],
   "source": [
    "# Function calculateMark determines the final mark\n",
    "\n",
    "\n",
    "# Function isPass determines 'Pass' or 'Fail'\n",
    "\n",
    "\n",
    "# Let's try them:\n",
    "essay1 = 7.0\n",
    "presentation1 = 8.5\n",
    "final1 = calculateMark(essay1, presentation1)\n",
    "print( \"final grade: {} ({})\".format( final1 , isPass(final1) )  ) \n",
    "\n",
    "essay2 = 4.5\n",
    "presentation2 = 5.5\n",
    "final2 = calculateMark(essay2, presentation2)\n",
    "print( \"final grade: {} ({})\".format( final2 , isPass(final2) )  ) \n"
   ]
  },
  {
   "cell_type": "markdown",
   "metadata": {},
   "source": [
    "## Exercise 7.2.\n",
    "\n",
    "Import the math library, as follows: \n",
    "\n",
    "```\n",
    "from math import *\n",
    "```\n",
    "\n",
    "This command simply imports all the available functions from the math library. Use the functions `log10()`, `pow()`, `sqrt()` and `cos()` to generate the following numbers: \n",
    "\n",
    "* The base-10 logarithm of 5.\n",
    "* 3 raised to the power of 4\n",
    "* The square root of 144\n",
    "* The cosine of 60 radians."
   ]
  },
  {
   "cell_type": "code",
   "execution_count": null,
   "metadata": {},
   "outputs": [],
   "source": [
    "# Import the library\n",
    "\n",
    "\n",
    "# Print the four numbers\n"
   ]
  },
  {
   "cell_type": "markdown",
   "metadata": {},
   "source": [
    "## Exercise 7.3. \n",
    "\n",
    "Write a function which can convert a given temperature in degrees Celcius into the equivalent in Fahrenheit. Use the following formula: F = 1.8 * C + 32.\n",
    "\n",
    "Once the function is ready, test it with a number of values. 20 degrees Celcius ought to be converted into 68 degrees Fahrenheit, and 37 degrees Celcius should equal 98.6 degrees Fahrenheit. "
   ]
  },
  {
   "cell_type": "code",
   "execution_count": null,
   "metadata": {},
   "outputs": [],
   "source": []
  },
  {
   "cell_type": "markdown",
   "metadata": {},
   "source": [
    "## Exercise 7.4.\n",
    "\n",
    "Following Pythagoras' theorem (A<sup>2</sup> + B<sup>2</sup> = C<sup>2</sup>), calculate the length of the hypothenuse in a right trangle in which the other two sides have a length of 6 and 7. Make use of the math module. "
   ]
  },
  {
   "cell_type": "code",
   "execution_count": null,
   "metadata": {},
   "outputs": [],
   "source": []
  }
 ],
 "metadata": {
  "celltoolbar": "Tags",
  "kernelspec": {
   "display_name": "Python 3 (ipykernel)",
   "language": "python",
   "name": "python3"
  },
  "language_info": {
   "codemirror_mode": {
    "name": "ipython",
    "version": 3
   },
   "file_extension": ".py",
   "mimetype": "text/x-python",
   "name": "python",
   "nbconvert_exporter": "python",
   "pygments_lexer": "ipython3",
   "version": "3.9.7"
  }
 },
 "nbformat": 4,
 "nbformat_minor": 2
}
