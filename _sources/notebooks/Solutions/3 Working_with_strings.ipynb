{
 "cells": [
  {
   "cell_type": "markdown",
   "metadata": {},
   "source": [
    "# 3. Working with strings\n"
   ]
  },
  {
   "cell_type": "markdown",
   "metadata": {},
   "source": [
    "## Exercise 3.1.\n",
    "\n",
    "Create two string variables. The first variable must be assigned the value 'unique' and the second variable should be assigned the value 'biodiversity'. Create a third variable with the value 'university', by firstly slicing the first two string variables, and by subsequently concatenating the substrings."
   ]
  },
  {
   "cell_type": "code",
   "execution_count": null,
   "metadata": {},
   "outputs": [],
   "source": [
    "# Create two string variables word1 and word2\n",
    "word1 = 'unique'\n",
    "word2 = 'diversity'\n",
    "\n",
    "# Combine the values into word3\n",
    "\n",
    "word3 = word1[0:3] + word2[2:]\n",
    "\n",
    "# Check by printing the result\n",
    "print(word3)"
   ]
  },
  {
   "cell_type": "markdown",
   "metadata": {},
   "source": [
    "## Exercise 3.2.\n",
    "\n",
    "Create the following two string variables:\n",
    "\n",
    "```\n",
    "first = 'vladimir'\n",
    "last = 'nabokov'\n",
    "```\n",
    "\n",
    "Using these two existing variables, create a third variable named ‘fullName’ with the following value: “Nabokov, Vladimir”. Note that the first character of the first name and the last name must be in upper case. Also try to print the initials of the author in upper case, as follows: ‘VN’"
   ]
  },
  {
   "cell_type": "code",
   "execution_count": null,
   "metadata": {},
   "outputs": [],
   "source": [
    "first = 'vladimir'\n",
    "last = 'nabokov'\n",
    "\n",
    "# Create the full name\n",
    "fullName = last[0].upper() + last[1:]\n",
    "fullName += ', '\n",
    "fullName += first[0].upper() + first[1:]\n",
    "\n",
    "# Check the full name\n",
    "print( fullName )\n",
    "\n",
    "# Create the initials\n",
    "\n",
    "initials = first[0] + last[0]\n",
    "initials = initials.upper() \n",
    "\n",
    "# Check the initials\n",
    "print(initials)"
   ]
  },
  {
   "cell_type": "markdown",
   "metadata": {},
   "source": [
    "## Exercise 3.3.\n",
    "\n",
    "Create a variable and assign it your full name as a string. Next, print the number of characters in your name, excluding the space. "
   ]
  },
  {
   "cell_type": "code",
   "execution_count": null,
   "metadata": {},
   "outputs": [],
   "source": [
    "name = 'Albert Einstein'\n",
    "name_no_space = name.replace(' ', '' )\n",
    "print( len(name_no_space) )"
   ]
  },
  {
   "cell_type": "markdown",
   "metadata": {},
   "source": [
    "## Exercise 3.4.\n",
    "\n",
    "Create a variable named `url` and assign it following string: `https://www.universiteitleiden.nl`.\n",
    "\n",
    "Try to write code which can extract the top level domain (i.e. the country code) from this url.\n",
    "Tip: this problem can be solved by creating a string slice with the last two characters only, but top domain levels may of course consists of more than two characters. An alternative, and better, approach is to make use of the `rindex()` function, which returns the LAST occurrence of a character. "
   ]
  },
  {
   "cell_type": "code",
   "execution_count": null,
   "metadata": {},
   "outputs": [],
   "source": [
    "# Create the variable and find its Top-Level Domain (TLD)\n",
    "url = 'https://www.universiteitleiden.nl'\n",
    "\n",
    "\n",
    "tld = url[ url.rindex('.')+1 : ]\n",
    "\n",
    "# Print the result\n",
    "print( tld )"
   ]
  },
  {
   "cell_type": "markdown",
   "metadata": {},
   "source": [
    "## Exercise 3.5.\n",
    "\n",
    "Create a variable named 'filename' and assign it the value 'README.txt'. Next, write some code in Python which can extract the filename without the extension."
   ]
  },
  {
   "cell_type": "code",
   "execution_count": null,
   "metadata": {},
   "outputs": [],
   "source": [
    "filename = 'README.txt'\n",
    "filename_without_ext = filename[ 0 : filename.rindex('.') ]\n",
    "\n",
    "print(filename_without_ext) "
   ]
  }
 ],
 "metadata": {
  "kernelspec": {
   "display_name": "Python 3",
   "language": "python",
   "name": "python3"
  },
  "language_info": {
   "codemirror_mode": {
    "name": "ipython",
    "version": 3
   },
   "file_extension": ".py",
   "mimetype": "text/x-python",
   "name": "python",
   "nbconvert_exporter": "python",
   "pygments_lexer": "ipython3",
   "version": "3.7.4"
  }
 },
 "nbformat": 4,
 "nbformat_minor": 2
}
