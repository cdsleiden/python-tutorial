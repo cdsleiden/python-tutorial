{
 "cells": [
  {
   "cell_type": "markdown",
   "metadata": {},
   "source": [
    "# 2. Operators"
   ]
  },
  {
   "cell_type": "markdown",
   "metadata": {},
   "source": [
    "\n",
    "## Mathematical operators \n",
    "\n",
    "In the previous section, you saw that variables can be assigned different types of values. Such values can be further processed or manipulated by making use of so-called operators: symbols that represent specific actions. They can be applied to values, or to variables representing certain values. The values that are combined with these operators are called the *operands*.\n",
    "\n",
    "Numerical values can be used in combination with mathematical operators:\n",
    "\n",
    "\n",
    "<p>\n",
    "<table width=\"100%; \" style=\"text-align: left; font-size: 1.0em;  \">\n",
    "<tr style=\"text-align: left; \" >\n",
    "    <td width=\"35%\" style=\"text-align: center; \">+</td>    \n",
    "<td style=\"text-align: left; padding-right: 40%;\"  width=\"65%\">Addition</td>    \n",
    "</tr> \n",
    "    <tr style=\"text-align: left; \">\n",
    "    <td width=\"35%\" style=\"text-align: center; \">-</td>    \n",
    "<td style=\"text-align: left; \" width=\"65%\" >Subtraction</td>    \n",
    "</tr>\n",
    "      <tr style=\"text-align: left; \">\n",
    "    <td width=\"35%\" style=\"text-align: center; \" >*</td>    \n",
    "<td style=\"text-align: left; \"  width=\"65%\">Multiplication</td>    \n",
    "</tr>\n",
    "   <tr style=\"text-align: left; \">\n",
    "    <td width=\"35%\" style=\"text-align: center; \">/</td>    \n",
    "<td style=\"text-align: left; \"  width=\"65%\">Division</td>    \n",
    "</tr>\n",
    "\n",
    "   <tr style=\"text-align: left; \">\n",
    "       <td width=\"35%\" style=\"text-align: center; \">**</td>    \n",
    "<td style=\"text-align: left; \" width=\"65%\" >to the power of</td>    \n",
    "</tr>\n",
    "    \n",
    " \n",
    "    \n",
    "    \n",
    "</table>\n",
    "  </p>\n",
    "  \n",
    " The code below contains a number of examples of how such mathematical operators can be used. "
   ]
  },
  {
   "cell_type": "code",
   "execution_count": null,
   "metadata": {},
   "outputs": [],
   "source": [
    "# Firstly, we create two values a and b\n",
    "# and assign them numerical values\n",
    "\n",
    "a = 4\n",
    "b = 3\n",
    "\n",
    "c = a + b\n",
    "print(c)\n",
    "# c now has value 7"
   ]
  },
  {
   "cell_type": "code",
   "execution_count": null,
   "metadata": {},
   "outputs": [],
   "source": [
    "c = a * b\n",
    "print(c)\n",
    "#c now has value 12 (4 times 3)"
   ]
  },
  {
   "cell_type": "code",
   "execution_count": null,
   "metadata": {},
   "outputs": [],
   "source": [
    "c = a - b\n",
    "print(c)\n",
    "# c has value 1 (4 minus 3)"
   ]
  },
  {
   "cell_type": "code",
   "execution_count": null,
   "metadata": {},
   "outputs": [],
   "source": [
    "c = c+1\n",
    "print(c)\n",
    "#c now has value 2"
   ]
  },
  {
   "cell_type": "code",
   "execution_count": null,
   "metadata": {},
   "outputs": [],
   "source": [
    "c += 1\n",
    "print(c)\n",
    "# c now has value 3.\n",
    "# c += 1 is a shorthand notation for  c = c + 1"
   ]
  },
  {
   "cell_type": "code",
   "execution_count": null,
   "metadata": {},
   "outputs": [],
   "source": [
    "c = a ** b\n",
    "print(c)\n",
    "# c now has value 64 \n",
    "# a multiplied with itself b times: a*a*a"
   ]
  },
  {
   "cell_type": "markdown",
   "metadata": {},
   "source": [
    "\n",
    "## Boolean operators\n",
    "\n",
    "Boolean operators are operators which compare values. Unlike mathematical operators, such comparisons do not return a number, but a value representing either `True` or `False`. Such a value is called a Boolean value. You can work with the following Boolean operators:\n",
    "\n",
    "\n",
    "<p>\n",
    "<table width=\"100%; \" style=\"text-align: left; font-size: 1.0em; \">\n",
    "    <tr style=\"text-align: left; \" >\n",
    "    <td width=\"15%\" style=\"text-align: center; \">Operator</td>    \n",
    "<td style=\"text-align: left; padding-right: 40%;\">Description</td>    \n",
    "</tr> \n",
    "<tr style=\"text-align: left; \" >\n",
    "    <td width=\"15%\" style=\"text-align: center; \">==</td>    \n",
    "<td style=\"text-align: left; padding-right: 40%;\">equal to</td>    \n",
    "</tr> \n",
    "<tr style=\"text-align: left; \" >\n",
    "    <td width=\"15%\" style=\"text-align: center; \">!=</td>    \n",
    "<td style=\"text-align: left; padding-right: 40%;\">not equal to / different from</td>    \n",
    "</tr> \n",
    "    <tr style=\"text-align: left; \">\n",
    "    <td width=\"15%\" style=\"text-align: center; \">&gt;</td>    \n",
    "<td style=\"text-align: left; \" >greater than</td>    \n",
    "</tr>\n",
    "      <tr style=\"text-align: left; \">\n",
    "    <td width=\"15%\" style=\"text-align: center; \" >&lt;</td>    \n",
    "<td style=\"text-align: left; \" >less than</td>    \n",
    "</tr>\n",
    "   <tr style=\"text-align: left; \">\n",
    "    <td width=\"15%\" style=\"text-align: center; \">&gt;=</td>    \n",
    "<td style=\"text-align: left; \" >greater than or equal to</td>    \n",
    "</tr>\n",
    "      <tr style=\"text-align: left; \">\n",
    "    <td width=\"15%\" style=\"text-align: center; \">&lt;=</td>    \n",
    "<td style=\"text-align: left; \" >less than or equal to</td>    \n",
    "</tr>\n",
    "</table>\n",
    "  </p>\n",
    "\n",
    "\n",
    "\n"
   ]
  },
  {
   "cell_type": "markdown",
   "metadata": {},
   "source": [
    "There is an important difference between the single equals sign (`=`) and the double equals sign (`==`). The single equals sign is the assignment operator. It can be used to associate a value with a variable. The double equals sign is a Boolean operator which tests whether two operands are equal. The exclamation mark and the equals sign (`!=`) tests whether two operands are different. \n",
    "\n",
    "The code below demonstrates how such Boolean operators can be used. "
   ]
  },
  {
   "cell_type": "code",
   "execution_count": null,
   "metadata": {},
   "outputs": [],
   "source": [
    "print( 3 > 5 )\n",
    "## prints 'False'"
   ]
  },
  {
   "cell_type": "code",
   "execution_count": null,
   "metadata": {},
   "outputs": [],
   "source": [
    "print( 8 <= 10 )\n",
    "## prints 'True'"
   ]
  },
  {
   "cell_type": "code",
   "execution_count": null,
   "metadata": {},
   "outputs": [],
   "source": [
    "print ( (10-5) == (8-3) )\n",
    "## prints 'True'; both expressions represent value 5"
   ]
  },
  {
   "cell_type": "markdown",
   "metadata": {},
   "source": [
    "When Boolean operators are combined with operands, as in the examples above, this combination is referred to as an expression. An expression cannot be an independent statement in itself. Such expressions form the building blocks of statements. \n",
    "\n",
    "Indivual expressions may also be combined with other expressions to form more complicated expressions. To create such compound Boolean expressions you can make use of the bitwise operators `and` and `or` or the symbols `&` and `|`. \n",
    "\n",
    "\n",
    "\n",
    "<p>\n",
    "<table width=\"100%; \" style=\"text-align: left; font-size: 1.0em; \">\n",
    "    <tr style=\"text-align: left; \" >\n",
    "    <td width=\"25%\" style=\"text-align: center; \">Operator as word</td>\n",
    "          <td width=\"35%\" style=\"text-align: center; \">Operator as symbol</td>\n",
    "<td style=\"text-align: left; padding-right: 40%;\">Description</td>    \n",
    "</tr> \n",
    "<tr style=\"text-align: left; \" >\n",
    "    <td width=\"25%\" style=\"text-align: center; \">and</td>  \n",
    "       <td width=\"35%\" style=\"text-align: center; \">&amp;</td>  \n",
    "<td style=\"text-align: left; padding-right: 40%;\">Logical and</td>    \n",
    "</tr> \n",
    "    <tr style=\"text-align: left; \">\n",
    "    <td width=\"25%\" style=\"text-align: center; \">or</td> \n",
    "        <td width=\"35%\" style=\"text-align: center; \">|</td> \n",
    "<td style=\"text-align: left; \" >Logical or</td>    \n",
    "</tr>\n",
    "      <tr style=\"text-align: left; \">\n",
    "           <td width=\"25%\" style=\"text-align: center; \" >not</td>  \n",
    "    <td width=\"40%\" style=\"text-align: center; \" ></td>    \n",
    "<td style=\"text-align: left; \" >Negation</td>    \n",
    "</tr>\n",
    "   </table>\n",
    "  </p>\n",
    "\n",
    "<br/>\n",
    "\n"
   ]
  },
  {
   "cell_type": "markdown",
   "metadata": {},
   "source": [
    "Note that there is no symbol for the negation. To negate a Boolean expression, you can simply place `not` in front of the expression. A number of examples can be found below."
   ]
  },
  {
   "cell_type": "code",
   "execution_count": null,
   "metadata": {},
   "outputs": [],
   "source": [
    "print( 6 < 3 and 7 < 8 )\n",
    "# prints 'False'; 7 < 8 is True, but 6 < 3 is False. they are not both True!"
   ]
  },
  {
   "cell_type": "code",
   "execution_count": null,
   "metadata": {},
   "outputs": [],
   "source": [
    "print( 6 < 3 | 7 < 8 )\n",
    "# prints 'True'. One of the expressions given is indeed true. "
   ]
  },
  {
   "cell_type": "code",
   "execution_count": null,
   "metadata": {},
   "outputs": [],
   "source": [
    "print( not 3 < 6  )\n",
    "# prints 'False'. 3 < 6 is True; the negation is False. "
   ]
  },
  {
   "cell_type": "markdown",
   "metadata": {},
   "source": [
    "These Boolean expressions can be used both with numbers and with strings. When you use the 'greater than' operator in combination with two strings, Python will sort the two strings alphabetically and evaluate whether the first string comes before the second string. The expression on the example below will be evaluated as 'True'.  "
   ]
  },
  {
   "cell_type": "code",
   "execution_count": null,
   "metadata": {},
   "outputs": [],
   "source": [
    "print ( 'Pear' > 'Apple')"
   ]
  },
  {
   "cell_type": "markdown",
   "metadata": {},
   "source": [
    "The equality operator, (`==`), can be used to test whether two string have exactly the same characters. The Boolean expression below is evaluated as 'False'"
   ]
  },
  {
   "cell_type": "code",
   "execution_count": null,
   "metadata": {},
   "outputs": [],
   "source": [
    "string_to_test = 'Apple'\n",
    "\n",
    "print(  string_to_test == 'Pear')"
   ]
  },
  {
   "cell_type": "markdown",
   "metadata": {},
   "source": [
    "## Printing the values of variables\n",
    "\n",
    "As was discussed above, you can use the `print()` function to communicate the output of your programme. This `print()` function can only take string variables as input. If you use the `print()` function in combination with a single numerical value, Python will convert this number to a string automatically.\n",
    "\n",
    "The situation becomes more complicated when you want to combine strings and numbers. This can be the case when you want to print a longer sentence which includes the results of a calculation based on numeric variables you created earlier. In such a composite sentence the integers in this sentence need to be converted into strings first, via the `str()` function. It may be accomplished as follows:"
   ]
  },
  {
   "cell_type": "code",
   "execution_count": null,
   "metadata": {},
   "outputs": [],
   "source": [
    "a = 5\n",
    "b = 7\n",
    "\n",
    "print( str(a) + ' plus ' + str(b) + ' is ' + str( a+b ) )\n",
    "\n",
    "## This prints '5 plus 7 is 12'"
   ]
  },
  {
   "cell_type": "markdown",
   "metadata": {},
   "source": [
    "Having to convert all integers to strings may be slightly cumbersome. An alternative solution is to make use of so-called f-strings. The 'f' stands for 'format'. These f-strings have been available since Python 3.6. To create this type of string, you need to place the character 'f' immediately before the opening quote of your string. Within the string that is created in this way, it is possible to include one or more curly brackets, containing the name of a variable. The output of such an f-string is a string containing the *values* of the variabes you refer to in these curly brackets. \n",
    "\n",
    "The code below gives an example."
   ]
  },
  {
   "cell_type": "code",
   "execution_count": null,
   "metadata": {},
   "outputs": [],
   "source": [
    "a = 5\n",
    "b = 7\n",
    "\n",
    "print(a,b)\n",
    "\n",
    "print( f'Variable a: {a}\\nVariable b: {b}')\n",
    "print( f'{a} plus {b} is {a+b}' )\n",
    "\n",
    "## This also prints '5 plus 7 is 12'"
   ]
  },
  {
   "cell_type": "markdown",
   "metadata": {},
   "source": [
    "As a third possibility, you can work with the `format()` method. This method needs to be appended to the end of the string that you want to print. As parameters, you need to supply the values you want to print. The stirng to be printed needs to contain sets of curly brackets, on the locations on whch those values need to appear. These brackets function as placeholders. They need to reman empty. "
   ]
  },
  {
   "cell_type": "code",
   "execution_count": null,
   "metadata": {},
   "outputs": [],
   "source": [
    "print( '{} plus {} is {}'.format( a , b, (a+b)) )"
   ]
  },
  {
   "cell_type": "markdown",
   "metadata": {},
   "source": [
    " # Exercises"
   ]
  },
  {
   "cell_type": "markdown",
   "metadata": {},
   "source": [
    "## Exercise 2.1.\n",
    "\n",
    "Declare three numerical variables with arbitrary values. What is the average of these three values?"
   ]
  },
  {
   "cell_type": "code",
   "execution_count": null,
   "metadata": {},
   "outputs": [],
   "source": []
  },
  {
   "cell_type": "markdown",
   "metadata": {},
   "source": [
    "## Exercise 2.2.\n",
    "\n",
    "Declare two numerical variables and assign them arbitrary numerical values. Using Boolean operators, test whether the first value is less than, greater than, or equal to the second value. Add `print()` statements which can output either 'True' or 'False'"
   ]
  },
  {
   "cell_type": "code",
   "execution_count": null,
   "metadata": {},
   "outputs": [],
   "source": []
  },
  {
   "cell_type": "markdown",
   "metadata": {},
   "source": [
    "## Exercise 2.3.\n",
    "\n",
    "Write code which can calculate the number of seconds in seven days."
   ]
  },
  {
   "cell_type": "code",
   "execution_count": null,
   "metadata": {},
   "outputs": [],
   "source": []
  },
  {
   "cell_type": "markdown",
   "metadata": {},
   "source": [
    "## Exercise 2.4.\n",
    "\n",
    "Debug the code below. The code does not contain a syntax error but a semantic error. Do you understand what happens in the code as given?"
   ]
  },
  {
   "cell_type": "code",
   "execution_count": null,
   "metadata": {},
   "outputs": [],
   "source": [
    "nr_weeks = \"4\"\n",
    "print( \"Number of days: \" + (nr_weeks*7) )"
   ]
  },
  {
   "cell_type": "markdown",
   "metadata": {},
   "source": [
    "## Exercise 2.5.\n",
    "\n",
    "Given an exchange rate of 1.2409 (euros to American dollars), how many dollars can you buy for 150 euros? Use the in-built round() function to ensure that the floating point number that results from the calculation is shown as an actual amount, indicating the number of cents. The first parameter of 'round()' is the number to be rounded, and the second number is the number of digits beyond the decimal point. "
   ]
  },
  {
   "cell_type": "code",
   "execution_count": null,
   "metadata": {},
   "outputs": [],
   "source": []
  }
 ],
 "metadata": {
  "kernelspec": {
   "display_name": "Python 3 (ipykernel)",
   "language": "python",
   "name": "python3"
  },
  "language_info": {
   "codemirror_mode": {
    "name": "ipython",
    "version": 3
   },
   "file_extension": ".py",
   "mimetype": "text/x-python",
   "name": "python",
   "nbconvert_exporter": "python",
   "pygments_lexer": "ipython3",
   "version": "3.7.9"
  }
 },
 "nbformat": 4,
 "nbformat_minor": 2
}
