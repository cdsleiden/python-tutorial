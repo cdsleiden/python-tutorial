{
 "cells": [
  {
   "cell_type": "markdown",
   "metadata": {},
   "source": [
    "# 8. Working with files and folders"
   ]
  },
  {
   "cell_type": "markdown",
   "metadata": {},
   "source": [
    "## Exercise 8.1.\n",
    "\n",
    "Using the `listdir()` function from the `os` library, write code which can list all the files in a given folder on your own computer."
   ]
  },
  {
   "cell_type": "code",
   "execution_count": null,
   "metadata": {},
   "outputs": [],
   "source": [
    "import os\n",
    "from os.path import join\n",
    "\n",
    "# Enter the path to a directory here\n",
    "dir = '/Users/<username>/Documents'\n",
    "\n",
    "for file in os.listdir(dir):\n",
    "    print( join( dir , file ) )"
   ]
  },
  {
   "cell_type": "markdown",
   "metadata": {},
   "source": [
    "## Exercise 8.2.\n",
    "\n",
    "Download the following file:\n",
    "\n",
    "[https://edu.nl/ggwtf](https://edu.nl/ggwtf)\n",
    "\n",
    "The file contains the text of a poem. Create a new file named\n",
    "‘data.txt’, which gives information about the following aspects of this poem:\n",
    "\n",
    "* The number of lines\n",
    "* The total number of characters in the file\n",
    "* The average number of characters per line\n",
    "* The longest line of the sonnet (i.e. the line with the highest number of characters)\n",
    "\n",
    "The average number of characters per line can be calculated by dividing the total number of characters by the number of lines.\n"
   ]
  },
  {
   "cell_type": "code",
   "execution_count": null,
   "metadata": {},
   "outputs": [],
   "source": [
    "sonnet = open( 'sonnet116.txt' , encoding = 'utf-8' )\n",
    "\n",
    "out = open( 'data.txt' , 'w' )\n",
    "\n",
    "totalNrCharacters = 0\n",
    "lineNr = 0\n",
    "## variable max is the line with the highest number of characters\n",
    "max = ''\n",
    "\n",
    "\n",
    "for line in sonnet:\n",
    "    totalNrCharacters += len(line)\n",
    "    lineNr += 1\n",
    "    if len(line) > len(max):\n",
    "        max = line.strip()\n",
    "\n",
    "out.write( 'Number of lines: {}\\n'.format( lineNr ) )\n",
    "out.write( 'Total number of characters: {}\\n'.format( totalNrCharacters ) )\n",
    "\n",
    "out.write( 'Average number of characters per line: {}\\n'.format( totalNrCharacters / lineNr ) )\n",
    "out.write( \"Longest line: '{}'\\n\".format( max ) )"
   ]
  },
  {
   "cell_type": "markdown",
   "metadata": {},
   "source": [
    "## Exercise 8.3\n",
    "\n",
    "Print the content of the poem that you have downloaded for exercises 8.2 on your screen, and make sure that you also add line numbers, as follows:\n",
    "    \n",
    "```\n",
    "1. [line1]\n",
    "2. [line2]\n",
    "```"
   ]
  },
  {
   "cell_type": "code",
   "execution_count": null,
   "metadata": {},
   "outputs": [],
   "source": [
    "sonnet = open( 'sonnet116.txt' , encoding = 'utf-8' )\n",
    "\n",
    "line_nr = 0\n",
    "\n",
    "for line in sonnet:\n",
    "    line_nr += 1\n",
    "    print(f'{line_nr}. {line}')"
   ]
  }
 ],
 "metadata": {
  "kernelspec": {
   "display_name": "Python 3 (ipykernel)",
   "language": "python",
   "name": "python3"
  },
  "language_info": {
   "codemirror_mode": {
    "name": "ipython",
    "version": 3
   },
   "file_extension": ".py",
   "mimetype": "text/x-python",
   "name": "python",
   "nbconvert_exporter": "python",
   "pygments_lexer": "ipython3",
   "version": "3.7.9"
  }
 },
 "nbformat": 4,
 "nbformat_minor": 2
}
